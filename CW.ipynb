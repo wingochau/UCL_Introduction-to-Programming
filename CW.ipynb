{
 "cells": [
  {
   "cell_type": "markdown",
   "metadata": {},
   "source": [
    "## Front Matter\n",
    "Module name and number: CASA0013 - Introduction to Programming for Spatial Analysts\n",
    "\\\n",
    "Student ID: 19113428\n",
    "\\\n",
    "Title: To the Chief Executive of an Investment Company - Opportunities and Risks arising from Covid-19\n",
    "\\\n",
    "Word Count: 2427\n",
    "\\\n",
    "Github Link: https://github.com/wingochau/i2p_CW.git"
   ]
  },
  {
   "cell_type": "markdown",
   "metadata": {},
   "source": [
    "# 1: Reproducible Analysis"
   ]
  },
  {
   "cell_type": "markdown",
   "metadata": {},
   "source": [
    "## 1.1: Packages"
   ]
  },
  {
   "cell_type": "code",
   "execution_count": 127,
   "metadata": {},
   "outputs": [],
   "source": [
    "#import packages\n",
    "import pandas as pd\n",
    "import matplotlib.pyplot as plt\n",
    "import matplotlib as mpl\n",
    "import os\n",
    "import seaborn as sns\n",
    "import geopandas as gpd\n",
    "import scipy.stats as ss\n",
    "import matplotlib.cm as cm\n",
    "import matplotlib"
   ]
  },
  {
   "cell_type": "code",
   "execution_count": 2,
   "metadata": {},
   "outputs": [],
   "source": [
    "import numpy as np\n",
    "np.random.seed(12345789) # For reproducibility\n",
    "import random \n",
    "random.seed(123456789) # For reproducibility"
   ]
  },
  {
   "cell_type": "markdown",
   "metadata": {},
   "source": [
    "## 1.2: Read files"
   ]
  },
  {
   "cell_type": "code",
   "execution_count": 3,
   "metadata": {},
   "outputs": [
    {
     "name": "stdout",
     "output_type": "stream",
     "text": [
      "Full data set shape is: 76984 by 74\n"
     ]
    }
   ],
   "source": [
    "#read files\n",
    "local_path  = os.path.join('listings.csv.gz')\n",
    "remote_path = 'http://data.insideairbnb.com/united-kingdom/england/london/2020-11-06/data/listings.csv.gz'\n",
    "url= 'http://data.insideairbnb.com/united-kingdom/england/london/2020-11-06/data/listings.csv.gz'\n",
    "\n",
    "if os.path.exists(local_path):\n",
    "    df = pd.read_csv(local_path, compression='gzip', low_memory=False)\n",
    "else:\n",
    "    df = pd.read_csv(remote_path, compression='gzip', low_memory=False)\n",
    "    df.to_csv(local_path, compression='gzip')\n",
    "\n",
    "print(\"Full data set shape is: \" + ' by '.join(str(i) for i in df.shape))"
   ]
  },
  {
   "cell_type": "code",
   "execution_count": 4,
   "metadata": {},
   "outputs": [
    {
     "name": "stdout",
     "output_type": "stream",
     "text": [
      "Sample data set shape is: 7698, 74\n"
     ]
    },
    {
     "data": {
      "text/html": [
       "<div>\n",
       "<style scoped>\n",
       "    .dataframe tbody tr th:only-of-type {\n",
       "        vertical-align: middle;\n",
       "    }\n",
       "\n",
       "    .dataframe tbody tr th {\n",
       "        vertical-align: top;\n",
       "    }\n",
       "\n",
       "    .dataframe thead th {\n",
       "        text-align: right;\n",
       "    }\n",
       "</style>\n",
       "<table border=\"1\" class=\"dataframe\">\n",
       "  <thead>\n",
       "    <tr style=\"text-align: right;\">\n",
       "      <th></th>\n",
       "      <th>id</th>\n",
       "      <th>scrape_id</th>\n",
       "      <th>host_id</th>\n",
       "      <th>host_listings_count</th>\n",
       "      <th>host_total_listings_count</th>\n",
       "      <th>neighbourhood_group_cleansed</th>\n",
       "      <th>latitude</th>\n",
       "      <th>longitude</th>\n",
       "      <th>accommodates</th>\n",
       "      <th>bathrooms</th>\n",
       "      <th>...</th>\n",
       "      <th>review_scores_checkin</th>\n",
       "      <th>review_scores_communication</th>\n",
       "      <th>review_scores_location</th>\n",
       "      <th>review_scores_value</th>\n",
       "      <th>license</th>\n",
       "      <th>calculated_host_listings_count</th>\n",
       "      <th>calculated_host_listings_count_entire_homes</th>\n",
       "      <th>calculated_host_listings_count_private_rooms</th>\n",
       "      <th>calculated_host_listings_count_shared_rooms</th>\n",
       "      <th>reviews_per_month</th>\n",
       "    </tr>\n",
       "  </thead>\n",
       "  <tbody>\n",
       "    <tr>\n",
       "      <th>count</th>\n",
       "      <td>7.698000e+03</td>\n",
       "      <td>7.698000e+03</td>\n",
       "      <td>7.698000e+03</td>\n",
       "      <td>7698.000000</td>\n",
       "      <td>7698.000000</td>\n",
       "      <td>0.0</td>\n",
       "      <td>7698.000000</td>\n",
       "      <td>7698.000000</td>\n",
       "      <td>7698.000000</td>\n",
       "      <td>0.0</td>\n",
       "      <td>...</td>\n",
       "      <td>5359.000000</td>\n",
       "      <td>5363.000000</td>\n",
       "      <td>5359.000000</td>\n",
       "      <td>5359.000000</td>\n",
       "      <td>0.0</td>\n",
       "      <td>7698.000000</td>\n",
       "      <td>7698.000000</td>\n",
       "      <td>7698.000000</td>\n",
       "      <td>7698.000000</td>\n",
       "      <td>5550.000000</td>\n",
       "    </tr>\n",
       "    <tr>\n",
       "      <th>mean</th>\n",
       "      <td>2.559610e+07</td>\n",
       "      <td>2.020111e+13</td>\n",
       "      <td>9.453832e+07</td>\n",
       "      <td>22.203819</td>\n",
       "      <td>22.203819</td>\n",
       "      <td>NaN</td>\n",
       "      <td>51.510249</td>\n",
       "      <td>-0.128654</td>\n",
       "      <td>3.075344</td>\n",
       "      <td>NaN</td>\n",
       "      <td>...</td>\n",
       "      <td>9.661691</td>\n",
       "      <td>9.683200</td>\n",
       "      <td>9.564471</td>\n",
       "      <td>9.302295</td>\n",
       "      <td>NaN</td>\n",
       "      <td>18.669525</td>\n",
       "      <td>16.139257</td>\n",
       "      <td>1.974669</td>\n",
       "      <td>0.032736</td>\n",
       "      <td>0.654137</td>\n",
       "    </tr>\n",
       "    <tr>\n",
       "      <th>std</th>\n",
       "      <td>1.316050e+07</td>\n",
       "      <td>0.000000e+00</td>\n",
       "      <td>1.002186e+08</td>\n",
       "      <td>119.781323</td>\n",
       "      <td>119.781323</td>\n",
       "      <td>NaN</td>\n",
       "      <td>0.047306</td>\n",
       "      <td>0.095012</td>\n",
       "      <td>1.937248</td>\n",
       "      <td>NaN</td>\n",
       "      <td>...</td>\n",
       "      <td>0.913550</td>\n",
       "      <td>0.876648</td>\n",
       "      <td>0.825756</td>\n",
       "      <td>1.059122</td>\n",
       "      <td>NaN</td>\n",
       "      <td>95.219054</td>\n",
       "      <td>93.237539</td>\n",
       "      <td>13.105473</td>\n",
       "      <td>0.460433</td>\n",
       "      <td>0.929165</td>\n",
       "    </tr>\n",
       "    <tr>\n",
       "      <th>min</th>\n",
       "      <td>2.512300e+04</td>\n",
       "      <td>2.020111e+13</td>\n",
       "      <td>4.775000e+03</td>\n",
       "      <td>0.000000</td>\n",
       "      <td>0.000000</td>\n",
       "      <td>NaN</td>\n",
       "      <td>51.283370</td>\n",
       "      <td>-0.484930</td>\n",
       "      <td>1.000000</td>\n",
       "      <td>NaN</td>\n",
       "      <td>...</td>\n",
       "      <td>2.000000</td>\n",
       "      <td>2.000000</td>\n",
       "      <td>2.000000</td>\n",
       "      <td>2.000000</td>\n",
       "      <td>NaN</td>\n",
       "      <td>1.000000</td>\n",
       "      <td>0.000000</td>\n",
       "      <td>0.000000</td>\n",
       "      <td>0.000000</td>\n",
       "      <td>0.010000</td>\n",
       "    </tr>\n",
       "    <tr>\n",
       "      <th>25%</th>\n",
       "      <td>1.517957e+07</td>\n",
       "      <td>2.020111e+13</td>\n",
       "      <td>1.568120e+07</td>\n",
       "      <td>1.000000</td>\n",
       "      <td>1.000000</td>\n",
       "      <td>NaN</td>\n",
       "      <td>51.484607</td>\n",
       "      <td>-0.189537</td>\n",
       "      <td>2.000000</td>\n",
       "      <td>NaN</td>\n",
       "      <td>...</td>\n",
       "      <td>10.000000</td>\n",
       "      <td>10.000000</td>\n",
       "      <td>9.000000</td>\n",
       "      <td>9.000000</td>\n",
       "      <td>NaN</td>\n",
       "      <td>1.000000</td>\n",
       "      <td>0.000000</td>\n",
       "      <td>0.000000</td>\n",
       "      <td>0.000000</td>\n",
       "      <td>0.110000</td>\n",
       "    </tr>\n",
       "    <tr>\n",
       "      <th>50%</th>\n",
       "      <td>2.564122e+07</td>\n",
       "      <td>2.020111e+13</td>\n",
       "      <td>4.922200e+07</td>\n",
       "      <td>1.000000</td>\n",
       "      <td>1.000000</td>\n",
       "      <td>NaN</td>\n",
       "      <td>51.514090</td>\n",
       "      <td>-0.127760</td>\n",
       "      <td>2.000000</td>\n",
       "      <td>NaN</td>\n",
       "      <td>...</td>\n",
       "      <td>10.000000</td>\n",
       "      <td>10.000000</td>\n",
       "      <td>10.000000</td>\n",
       "      <td>10.000000</td>\n",
       "      <td>NaN</td>\n",
       "      <td>1.000000</td>\n",
       "      <td>1.000000</td>\n",
       "      <td>1.000000</td>\n",
       "      <td>0.000000</td>\n",
       "      <td>0.340000</td>\n",
       "    </tr>\n",
       "    <tr>\n",
       "      <th>75%</th>\n",
       "      <td>3.745318e+07</td>\n",
       "      <td>2.020111e+13</td>\n",
       "      <td>1.530581e+08</td>\n",
       "      <td>3.000000</td>\n",
       "      <td>3.000000</td>\n",
       "      <td>NaN</td>\n",
       "      <td>51.539648</td>\n",
       "      <td>-0.069153</td>\n",
       "      <td>4.000000</td>\n",
       "      <td>NaN</td>\n",
       "      <td>...</td>\n",
       "      <td>10.000000</td>\n",
       "      <td>10.000000</td>\n",
       "      <td>10.000000</td>\n",
       "      <td>10.000000</td>\n",
       "      <td>NaN</td>\n",
       "      <td>3.000000</td>\n",
       "      <td>1.000000</td>\n",
       "      <td>1.000000</td>\n",
       "      <td>0.000000</td>\n",
       "      <td>0.830000</td>\n",
       "    </tr>\n",
       "    <tr>\n",
       "      <th>max</th>\n",
       "      <td>4.625469e+07</td>\n",
       "      <td>2.020111e+13</td>\n",
       "      <td>3.744656e+08</td>\n",
       "      <td>1105.000000</td>\n",
       "      <td>1105.000000</td>\n",
       "      <td>NaN</td>\n",
       "      <td>51.671810</td>\n",
       "      <td>0.288570</td>\n",
       "      <td>16.000000</td>\n",
       "      <td>NaN</td>\n",
       "      <td>...</td>\n",
       "      <td>10.000000</td>\n",
       "      <td>10.000000</td>\n",
       "      <td>10.000000</td>\n",
       "      <td>10.000000</td>\n",
       "      <td>NaN</td>\n",
       "      <td>878.000000</td>\n",
       "      <td>877.000000</td>\n",
       "      <td>249.000000</td>\n",
       "      <td>18.000000</td>\n",
       "      <td>18.700000</td>\n",
       "    </tr>\n",
       "  </tbody>\n",
       "</table>\n",
       "<p>8 rows × 41 columns</p>\n",
       "</div>"
      ],
      "text/plain": [
       "                 id     scrape_id       host_id  host_listings_count  \\\n",
       "count  7.698000e+03  7.698000e+03  7.698000e+03          7698.000000   \n",
       "mean   2.559610e+07  2.020111e+13  9.453832e+07            22.203819   \n",
       "std    1.316050e+07  0.000000e+00  1.002186e+08           119.781323   \n",
       "min    2.512300e+04  2.020111e+13  4.775000e+03             0.000000   \n",
       "25%    1.517957e+07  2.020111e+13  1.568120e+07             1.000000   \n",
       "50%    2.564122e+07  2.020111e+13  4.922200e+07             1.000000   \n",
       "75%    3.745318e+07  2.020111e+13  1.530581e+08             3.000000   \n",
       "max    4.625469e+07  2.020111e+13  3.744656e+08          1105.000000   \n",
       "\n",
       "       host_total_listings_count  neighbourhood_group_cleansed     latitude  \\\n",
       "count                7698.000000                           0.0  7698.000000   \n",
       "mean                   22.203819                           NaN    51.510249   \n",
       "std                   119.781323                           NaN     0.047306   \n",
       "min                     0.000000                           NaN    51.283370   \n",
       "25%                     1.000000                           NaN    51.484607   \n",
       "50%                     1.000000                           NaN    51.514090   \n",
       "75%                     3.000000                           NaN    51.539648   \n",
       "max                  1105.000000                           NaN    51.671810   \n",
       "\n",
       "         longitude  accommodates  bathrooms  ...  review_scores_checkin  \\\n",
       "count  7698.000000   7698.000000        0.0  ...            5359.000000   \n",
       "mean     -0.128654      3.075344        NaN  ...               9.661691   \n",
       "std       0.095012      1.937248        NaN  ...               0.913550   \n",
       "min      -0.484930      1.000000        NaN  ...               2.000000   \n",
       "25%      -0.189537      2.000000        NaN  ...              10.000000   \n",
       "50%      -0.127760      2.000000        NaN  ...              10.000000   \n",
       "75%      -0.069153      4.000000        NaN  ...              10.000000   \n",
       "max       0.288570     16.000000        NaN  ...              10.000000   \n",
       "\n",
       "       review_scores_communication  review_scores_location  \\\n",
       "count                  5363.000000             5359.000000   \n",
       "mean                      9.683200                9.564471   \n",
       "std                       0.876648                0.825756   \n",
       "min                       2.000000                2.000000   \n",
       "25%                      10.000000                9.000000   \n",
       "50%                      10.000000               10.000000   \n",
       "75%                      10.000000               10.000000   \n",
       "max                      10.000000               10.000000   \n",
       "\n",
       "       review_scores_value  license  calculated_host_listings_count  \\\n",
       "count          5359.000000      0.0                     7698.000000   \n",
       "mean              9.302295      NaN                       18.669525   \n",
       "std               1.059122      NaN                       95.219054   \n",
       "min               2.000000      NaN                        1.000000   \n",
       "25%               9.000000      NaN                        1.000000   \n",
       "50%              10.000000      NaN                        1.000000   \n",
       "75%              10.000000      NaN                        3.000000   \n",
       "max              10.000000      NaN                      878.000000   \n",
       "\n",
       "       calculated_host_listings_count_entire_homes  \\\n",
       "count                                  7698.000000   \n",
       "mean                                     16.139257   \n",
       "std                                      93.237539   \n",
       "min                                       0.000000   \n",
       "25%                                       0.000000   \n",
       "50%                                       1.000000   \n",
       "75%                                       1.000000   \n",
       "max                                     877.000000   \n",
       "\n",
       "       calculated_host_listings_count_private_rooms  \\\n",
       "count                                   7698.000000   \n",
       "mean                                       1.974669   \n",
       "std                                       13.105473   \n",
       "min                                        0.000000   \n",
       "25%                                        0.000000   \n",
       "50%                                        1.000000   \n",
       "75%                                        1.000000   \n",
       "max                                      249.000000   \n",
       "\n",
       "       calculated_host_listings_count_shared_rooms  reviews_per_month  \n",
       "count                                  7698.000000        5550.000000  \n",
       "mean                                      0.032736           0.654137  \n",
       "std                                       0.460433           0.929165  \n",
       "min                                       0.000000           0.010000  \n",
       "25%                                       0.000000           0.110000  \n",
       "50%                                       0.000000           0.340000  \n",
       "75%                                       0.000000           0.830000  \n",
       "max                                      18.000000          18.700000  \n",
       "\n",
       "[8 rows x 41 columns]"
      ]
     },
     "execution_count": 4,
     "metadata": {},
     "output_type": "execute_result"
    }
   ],
   "source": [
    "#Set a sample\n",
    "sample = df.sample(frac=0.1)\n",
    "print(\"Sample data set shape is: \" + ', '.join(str(i) for i in sample.shape))\n",
    "sample.describe()"
   ]
  },
  {
   "cell_type": "code",
   "execution_count": 5,
   "metadata": {},
   "outputs": [
    {
     "data": {
      "text/plain": [
       "array(['id', 'listing_url', 'scrape_id', 'last_scraped', 'name',\n",
       "       'description', 'neighborhood_overview', 'picture_url', 'host_id',\n",
       "       'host_url', 'host_name', 'host_since', 'host_location',\n",
       "       'host_about', 'host_response_time', 'host_response_rate',\n",
       "       'host_acceptance_rate', 'host_is_superhost', 'host_thumbnail_url',\n",
       "       'host_picture_url', 'host_neighbourhood', 'host_listings_count',\n",
       "       'host_total_listings_count', 'host_verifications',\n",
       "       'host_has_profile_pic', 'host_identity_verified', 'neighbourhood',\n",
       "       'neighbourhood_cleansed', 'neighbourhood_group_cleansed',\n",
       "       'latitude', 'longitude', 'property_type', 'room_type',\n",
       "       'accommodates', 'bathrooms', 'bathrooms_text', 'bedrooms', 'beds',\n",
       "       'amenities', 'price', 'minimum_nights', 'maximum_nights',\n",
       "       'minimum_minimum_nights', 'maximum_minimum_nights',\n",
       "       'minimum_maximum_nights', 'maximum_maximum_nights',\n",
       "       'minimum_nights_avg_ntm', 'maximum_nights_avg_ntm',\n",
       "       'calendar_updated', 'has_availability', 'availability_30',\n",
       "       'availability_60', 'availability_90', 'availability_365',\n",
       "       'calendar_last_scraped', 'number_of_reviews',\n",
       "       'number_of_reviews_ltm', 'number_of_reviews_l30d', 'first_review',\n",
       "       'last_review', 'review_scores_rating', 'review_scores_accuracy',\n",
       "       'review_scores_cleanliness', 'review_scores_checkin',\n",
       "       'review_scores_communication', 'review_scores_location',\n",
       "       'review_scores_value', 'license', 'instant_bookable',\n",
       "       'calculated_host_listings_count',\n",
       "       'calculated_host_listings_count_entire_homes',\n",
       "       'calculated_host_listings_count_private_rooms',\n",
       "       'calculated_host_listings_count_shared_rooms', 'reviews_per_month'],\n",
       "      dtype=object)"
      ]
     },
     "execution_count": 5,
     "metadata": {},
     "output_type": "execute_result"
    }
   ],
   "source": [
    "#Understanding the columns\n",
    "sample.columns.values"
   ]
  },
  {
   "cell_type": "code",
   "execution_count": 6,
   "metadata": {},
   "outputs": [
    {
     "data": {
      "text/plain": [
       "['id',\n",
       " 'listing_url',\n",
       " 'scrape_id',\n",
       " 'last_scraped',\n",
       " 'name',\n",
       " 'description',\n",
       " 'neighborhood_overview',\n",
       " 'picture_url',\n",
       " 'host_id',\n",
       " 'host_url',\n",
       " 'host_name',\n",
       " 'host_since',\n",
       " 'host_location',\n",
       " 'host_about',\n",
       " 'host_response_time',\n",
       " 'host_response_rate',\n",
       " 'host_acceptance_rate',\n",
       " 'host_is_superhost',\n",
       " 'host_thumbnail_url',\n",
       " 'host_picture_url',\n",
       " 'host_neighbourhood',\n",
       " 'host_listings_count',\n",
       " 'host_total_listings_count',\n",
       " 'host_verifications',\n",
       " 'host_has_profile_pic',\n",
       " 'host_identity_verified',\n",
       " 'neighbourhood',\n",
       " 'neighbourhood_cleansed',\n",
       " 'neighbourhood_group_cleansed',\n",
       " 'latitude',\n",
       " 'longitude',\n",
       " 'property_type',\n",
       " 'room_type',\n",
       " 'accommodates',\n",
       " 'bathrooms',\n",
       " 'bathrooms_text',\n",
       " 'bedrooms',\n",
       " 'beds',\n",
       " 'amenities',\n",
       " 'price',\n",
       " 'minimum_nights',\n",
       " 'maximum_nights',\n",
       " 'minimum_minimum_nights',\n",
       " 'maximum_minimum_nights',\n",
       " 'minimum_maximum_nights',\n",
       " 'maximum_maximum_nights',\n",
       " 'minimum_nights_avg_ntm',\n",
       " 'maximum_nights_avg_ntm',\n",
       " 'calendar_updated',\n",
       " 'has_availability',\n",
       " 'availability_30',\n",
       " 'availability_60',\n",
       " 'availability_90',\n",
       " 'availability_365',\n",
       " 'calendar_last_scraped',\n",
       " 'number_of_reviews',\n",
       " 'number_of_reviews_ltm',\n",
       " 'number_of_reviews_l30d',\n",
       " 'first_review',\n",
       " 'last_review',\n",
       " 'review_scores_rating',\n",
       " 'review_scores_accuracy',\n",
       " 'review_scores_cleanliness',\n",
       " 'review_scores_checkin',\n",
       " 'review_scores_communication',\n",
       " 'review_scores_location',\n",
       " 'review_scores_value',\n",
       " 'license',\n",
       " 'instant_bookable',\n",
       " 'calculated_host_listings_count',\n",
       " 'calculated_host_listings_count_entire_homes',\n",
       " 'calculated_host_listings_count_private_rooms',\n",
       " 'calculated_host_listings_count_shared_rooms',\n",
       " 'reviews_per_month']"
      ]
     },
     "execution_count": 6,
     "metadata": {},
     "output_type": "execute_result"
    }
   ],
   "source": [
    "list(df.columns.values)"
   ]
  },
  {
   "cell_type": "code",
   "execution_count": 7,
   "metadata": {},
   "outputs": [
    {
     "name": "stdout",
     "output_type": "stream",
     "text": [
      "Writing to: listings.csv.gz\n"
     ]
    }
   ],
   "source": [
    "#Saving file locally\n",
    "path = os.path.join('data','raw')\n",
    "fn   = url.split('/')[-1]\n",
    "print(f\"Writing to: {fn}\")"
   ]
  },
  {
   "cell_type": "code",
   "execution_count": 8,
   "metadata": {},
   "outputs": [
    {
     "name": "stdout",
     "output_type": "stream",
     "text": [
      "Done.\n"
     ]
    }
   ],
   "source": [
    "if not os.path.exists(path):\n",
    "    print(f\"Creating {path} under {os.getcwd()}\")\n",
    "    os.makedirs(path)\n",
    "    \n",
    "df.to_csv(os.path.join(path,fn), index=False)\n",
    "print(\"Done.\")"
   ]
  },
  {
   "cell_type": "code",
   "execution_count": 9,
   "metadata": {},
   "outputs": [],
   "source": [
    "#Resetting the dataframe & reselecting the needed columns\n",
    "\n",
    "cols= ['id', 'name','host_id','host_name', 'host_location',\n",
    "       'host_is_superhost', 'host_neighbourhood', 'host_listings_count',\n",
    "       'host_total_listings_count', 'neighbourhood',\n",
    "       'latitude', 'longitude', 'property_type', 'room_type',\n",
    "       'price', 'minimum_nights', 'maximum_nights',\n",
    "       'has_availability', 'availability_30',\n",
    "       'availability_60', 'availability_90', 'availability_365',\n",
    "       'number_of_reviews', 'review_scores_rating', 'review_scores_accuracy',\n",
    "       'review_scores_cleanliness', 'review_scores_checkin',\n",
    "       'review_scores_communication', 'review_scores_location',\n",
    "       'review_scores_value', 'instant_bookable',\n",
    "       'calculated_host_listings_count',\n",
    "       'calculated_host_listings_count_entire_homes',\n",
    "       'calculated_host_listings_count_private_rooms',\n",
    "       'calculated_host_listings_count_shared_rooms', 'reviews_per_month']"
   ]
  },
  {
   "cell_type": "code",
   "execution_count": 10,
   "metadata": {},
   "outputs": [
    {
     "name": "stdout",
     "output_type": "stream",
     "text": [
      "Data frame is 10,000 x 36\n"
     ]
    }
   ],
   "source": [
    "del(df)\n",
    "df = pd.read_csv(os.path.join(path,fn), low_memory=False, usecols=cols, nrows=10000)\n",
    "print(f\"Data frame is {df.shape[0]:,} x {df.shape[1]}\")"
   ]
  },
  {
   "cell_type": "code",
   "execution_count": 11,
   "metadata": {},
   "outputs": [
    {
     "data": {
      "text/html": [
       "<div>\n",
       "<style scoped>\n",
       "    .dataframe tbody tr th:only-of-type {\n",
       "        vertical-align: middle;\n",
       "    }\n",
       "\n",
       "    .dataframe tbody tr th {\n",
       "        vertical-align: top;\n",
       "    }\n",
       "\n",
       "    .dataframe thead th {\n",
       "        text-align: right;\n",
       "    }\n",
       "</style>\n",
       "<table border=\"1\" class=\"dataframe\">\n",
       "  <thead>\n",
       "    <tr style=\"text-align: right;\">\n",
       "      <th></th>\n",
       "      <th>id</th>\n",
       "      <th>name</th>\n",
       "      <th>host_id</th>\n",
       "      <th>host_name</th>\n",
       "      <th>host_location</th>\n",
       "      <th>host_is_superhost</th>\n",
       "      <th>host_neighbourhood</th>\n",
       "      <th>host_listings_count</th>\n",
       "      <th>host_total_listings_count</th>\n",
       "      <th>neighbourhood</th>\n",
       "      <th>...</th>\n",
       "      <th>review_scores_checkin</th>\n",
       "      <th>review_scores_communication</th>\n",
       "      <th>review_scores_location</th>\n",
       "      <th>review_scores_value</th>\n",
       "      <th>instant_bookable</th>\n",
       "      <th>calculated_host_listings_count</th>\n",
       "      <th>calculated_host_listings_count_entire_homes</th>\n",
       "      <th>calculated_host_listings_count_private_rooms</th>\n",
       "      <th>calculated_host_listings_count_shared_rooms</th>\n",
       "      <th>reviews_per_month</th>\n",
       "    </tr>\n",
       "  </thead>\n",
       "  <tbody>\n",
       "    <tr>\n",
       "      <th>6252</th>\n",
       "      <td>5723725.0</td>\n",
       "      <td>Double room private terrace, London</td>\n",
       "      <td>20548619.0</td>\n",
       "      <td>Guillermo</td>\n",
       "      <td>Zaragoza, Aragon, Spain</td>\n",
       "      <td>f</td>\n",
       "      <td>NaN</td>\n",
       "      <td>1.0</td>\n",
       "      <td>1.0</td>\n",
       "      <td>NaN</td>\n",
       "      <td>...</td>\n",
       "      <td>NaN</td>\n",
       "      <td>NaN</td>\n",
       "      <td>NaN</td>\n",
       "      <td>NaN</td>\n",
       "      <td>f</td>\n",
       "      <td>1.0</td>\n",
       "      <td>0.0</td>\n",
       "      <td>1.0</td>\n",
       "      <td>0.0</td>\n",
       "      <td>NaN</td>\n",
       "    </tr>\n",
       "    <tr>\n",
       "      <th>4684</th>\n",
       "      <td>4266422.0</td>\n",
       "      <td>Spacious 1 bedroom flat overlooking Clapham Co...</td>\n",
       "      <td>22147627.0</td>\n",
       "      <td>Lucy</td>\n",
       "      <td>London, United Kingdom</td>\n",
       "      <td>f</td>\n",
       "      <td>Battersea</td>\n",
       "      <td>1.0</td>\n",
       "      <td>1.0</td>\n",
       "      <td>London, United Kingdom</td>\n",
       "      <td>...</td>\n",
       "      <td>10.0</td>\n",
       "      <td>10.0</td>\n",
       "      <td>10.0</td>\n",
       "      <td>9.0</td>\n",
       "      <td>f</td>\n",
       "      <td>1.0</td>\n",
       "      <td>1.0</td>\n",
       "      <td>0.0</td>\n",
       "      <td>0.0</td>\n",
       "      <td>0.30</td>\n",
       "    </tr>\n",
       "    <tr>\n",
       "      <th>1731</th>\n",
       "      <td>1041523.0</td>\n",
       "      <td>Beautifully Spacious Property in Islington</td>\n",
       "      <td>5733781.0</td>\n",
       "      <td>Tomas</td>\n",
       "      <td>London</td>\n",
       "      <td>f</td>\n",
       "      <td>LB of Islington</td>\n",
       "      <td>1.0</td>\n",
       "      <td>1.0</td>\n",
       "      <td>Greater London, England, United Kingdom</td>\n",
       "      <td>...</td>\n",
       "      <td>10.0</td>\n",
       "      <td>9.0</td>\n",
       "      <td>10.0</td>\n",
       "      <td>10.0</td>\n",
       "      <td>f</td>\n",
       "      <td>1.0</td>\n",
       "      <td>1.0</td>\n",
       "      <td>0.0</td>\n",
       "      <td>0.0</td>\n",
       "      <td>0.74</td>\n",
       "    </tr>\n",
       "    <tr>\n",
       "      <th>4742</th>\n",
       "      <td>4332039.0</td>\n",
       "      <td>Single bedroom in old East London</td>\n",
       "      <td>14148041.0</td>\n",
       "      <td>Richard</td>\n",
       "      <td>London, UK</td>\n",
       "      <td>f</td>\n",
       "      <td>LB of Newham</td>\n",
       "      <td>4.0</td>\n",
       "      <td>4.0</td>\n",
       "      <td>London, England, United Kingdom</td>\n",
       "      <td>...</td>\n",
       "      <td>10.0</td>\n",
       "      <td>10.0</td>\n",
       "      <td>9.0</td>\n",
       "      <td>10.0</td>\n",
       "      <td>f</td>\n",
       "      <td>4.0</td>\n",
       "      <td>0.0</td>\n",
       "      <td>4.0</td>\n",
       "      <td>0.0</td>\n",
       "      <td>6.26</td>\n",
       "    </tr>\n",
       "  </tbody>\n",
       "</table>\n",
       "<p>4 rows × 36 columns</p>\n",
       "</div>"
      ],
      "text/plain": [
       "             id                                               name  \\\n",
       "6252  5723725.0                Double room private terrace, London   \n",
       "4684  4266422.0  Spacious 1 bedroom flat overlooking Clapham Co...   \n",
       "1731  1041523.0         Beautifully Spacious Property in Islington   \n",
       "4742  4332039.0                  Single bedroom in old East London   \n",
       "\n",
       "         host_id  host_name            host_location host_is_superhost  \\\n",
       "6252  20548619.0  Guillermo  Zaragoza, Aragon, Spain                 f   \n",
       "4684  22147627.0       Lucy   London, United Kingdom                 f   \n",
       "1731   5733781.0      Tomas                   London                 f   \n",
       "4742  14148041.0    Richard               London, UK                 f   \n",
       "\n",
       "     host_neighbourhood  host_listings_count host_total_listings_count  \\\n",
       "6252                NaN                  1.0                       1.0   \n",
       "4684          Battersea                  1.0                       1.0   \n",
       "1731    LB of Islington                  1.0                       1.0   \n",
       "4742       LB of Newham                  4.0                       4.0   \n",
       "\n",
       "                                neighbourhood  ...  review_scores_checkin  \\\n",
       "6252                                      NaN  ...                    NaN   \n",
       "4684                   London, United Kingdom  ...                   10.0   \n",
       "1731  Greater London, England, United Kingdom  ...                   10.0   \n",
       "4742          London, England, United Kingdom  ...                   10.0   \n",
       "\n",
       "      review_scores_communication review_scores_location review_scores_value  \\\n",
       "6252                          NaN                    NaN                 NaN   \n",
       "4684                         10.0                   10.0                 9.0   \n",
       "1731                          9.0                   10.0                10.0   \n",
       "4742                         10.0                    9.0                10.0   \n",
       "\n",
       "     instant_bookable  calculated_host_listings_count  \\\n",
       "6252                f                             1.0   \n",
       "4684                f                             1.0   \n",
       "1731                f                             1.0   \n",
       "4742                f                             4.0   \n",
       "\n",
       "     calculated_host_listings_count_entire_homes  \\\n",
       "6252                                         0.0   \n",
       "4684                                         1.0   \n",
       "1731                                         1.0   \n",
       "4742                                         0.0   \n",
       "\n",
       "     calculated_host_listings_count_private_rooms  \\\n",
       "6252                                          1.0   \n",
       "4684                                          0.0   \n",
       "1731                                          0.0   \n",
       "4742                                          4.0   \n",
       "\n",
       "      calculated_host_listings_count_shared_rooms  reviews_per_month  \n",
       "6252                                          0.0                NaN  \n",
       "4684                                          0.0               0.30  \n",
       "1731                                          0.0               0.74  \n",
       "4742                                          0.0               6.26  \n",
       "\n",
       "[4 rows x 36 columns]"
      ]
     },
     "execution_count": 11,
     "metadata": {},
     "output_type": "execute_result"
    }
   ],
   "source": [
    "#testing df\n",
    "\n",
    "df.sample(4, random_state=42)"
   ]
  },
  {
   "cell_type": "markdown",
   "metadata": {},
   "source": [
    "## 1.3: Data Cleaning"
   ]
  },
  {
   "cell_type": "markdown",
   "metadata": {},
   "source": [
    "### 1.3.1: Dealing with NaNs & Null data"
   ]
  },
  {
   "cell_type": "code",
   "execution_count": 12,
   "metadata": {},
   "outputs": [],
   "source": [
    "#Removing problematic coordinates\n",
    "\n",
    "df.drop(df[((df.latitude.isna())|(df.longitude.isna()))].index, axis=0, inplace=True)\n",
    "df.drop(df[((df.latitude < 40)|(df.longitude > 1))].index, axis=0, inplace=True)\n",
    "df.drop(df[((df.review_scores_rating.isna()))].index, axis=0, inplace=True)"
   ]
  },
  {
   "cell_type": "code",
   "execution_count": 13,
   "metadata": {},
   "outputs": [
    {
     "data": {
      "text/html": [
       "<div>\n",
       "<style scoped>\n",
       "    .dataframe tbody tr th:only-of-type {\n",
       "        vertical-align: middle;\n",
       "    }\n",
       "\n",
       "    .dataframe tbody tr th {\n",
       "        vertical-align: top;\n",
       "    }\n",
       "\n",
       "    .dataframe thead th {\n",
       "        text-align: right;\n",
       "    }\n",
       "</style>\n",
       "<table border=\"1\" class=\"dataframe\">\n",
       "  <thead>\n",
       "    <tr style=\"text-align: right;\">\n",
       "      <th></th>\n",
       "      <th>id</th>\n",
       "      <th>name</th>\n",
       "      <th>host_id</th>\n",
       "      <th>host_name</th>\n",
       "    </tr>\n",
       "  </thead>\n",
       "  <tbody>\n",
       "  </tbody>\n",
       "</table>\n",
       "</div>"
      ],
      "text/plain": [
       "Empty DataFrame\n",
       "Columns: [id, name, host_id, host_name]\n",
       "Index: []"
      ]
     },
     "execution_count": 13,
     "metadata": {},
     "output_type": "execute_result"
    }
   ],
   "source": [
    "#Identifying problematic rows\n",
    "df[df.id.isna()][['id','name','host_id','host_name']]"
   ]
  },
  {
   "cell_type": "code",
   "execution_count": 14,
   "metadata": {},
   "outputs": [],
   "source": [
    "#Dropping the problematic row\n",
    "df.drop(df[df.id.isna()].index.values, axis=0, inplace=True)"
   ]
  },
  {
   "cell_type": "code",
   "execution_count": 15,
   "metadata": {},
   "outputs": [
    {
     "data": {
      "text/plain": [
       "neighbourhood                  1963\n",
       "host_neighbourhood             1333\n",
       "review_scores_checkin            24\n",
       "review_scores_accuracy           20\n",
       "review_scores_cleanliness        19\n",
       "review_scores_location           19\n",
       "review_scores_value              17\n",
       "review_scores_communication      15\n",
       "name                              1\n",
       "host_listings_count               0\n",
       "property_type                     0\n",
       "longitude                         0\n",
       "dtype: int64"
      ]
     },
     "execution_count": 15,
     "metadata": {},
     "output_type": "execute_result"
    }
   ],
   "source": [
    "#Counting Null by column\n",
    "df.isnull().sum(axis=0).sort_values(ascending=False)[:12]"
   ]
  },
  {
   "cell_type": "code",
   "execution_count": 16,
   "metadata": {},
   "outputs": [],
   "source": [
    "#Removing the most significant columns\n",
    "df.drop(columns=['neighbourhood' , 'review_scores_checkin' , 'review_scores_accuracy' , 'review_scores_cleanliness' , 'review_scores_location', 'review_scores_value', 'review_scores_communication'], inplace=True)"
   ]
  },
  {
   "cell_type": "code",
   "execution_count": 17,
   "metadata": {},
   "outputs": [
    {
     "name": "stdout",
     "output_type": "stream",
     "text": [
      "<class 'pandas.core.series.Series'>\n"
     ]
    },
    {
     "data": {
      "text/plain": [
       "<AxesSubplot:ylabel='Frequency'>"
      ]
     },
     "execution_count": 17,
     "metadata": {},
     "output_type": "execute_result"
    },
    {
     "data": {
      "image/png": "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\n",
      "text/plain": [
       "<Figure size 432x288 with 1 Axes>"
      ]
     },
     "metadata": {
      "needs_background": "light"
     },
     "output_type": "display_data"
    }
   ],
   "source": [
    "#Observing problematic columns\n",
    "probs = df.isnull().sum(axis=1)\n",
    "print(type(probs))\n",
    "probs.plot.hist(bins=30)"
   ]
  },
  {
   "cell_type": "code",
   "execution_count": 18,
   "metadata": {},
   "outputs": [
    {
     "name": "stdout",
     "output_type": "stream",
     "text": [
      "Have reduced data frame to: 7999 rows and 29 columns\n"
     ]
    }
   ],
   "source": [
    "#As being ones that are most likely to be problematic, in here I choose to use values greater than 4\n",
    "df.drop(probs[probs > 4].index, inplace=True)\n",
    "print(f\"Have reduced data frame to: {df.shape[0]} rows and {df.shape[1]} columns\")"
   ]
  },
  {
   "cell_type": "code",
   "execution_count": 19,
   "metadata": {},
   "outputs": [
    {
     "data": {
      "text/html": [
       "<div>\n",
       "<style scoped>\n",
       "    .dataframe tbody tr th:only-of-type {\n",
       "        vertical-align: middle;\n",
       "    }\n",
       "\n",
       "    .dataframe tbody tr th {\n",
       "        vertical-align: top;\n",
       "    }\n",
       "\n",
       "    .dataframe thead th {\n",
       "        text-align: right;\n",
       "    }\n",
       "</style>\n",
       "<table border=\"1\" class=\"dataframe\">\n",
       "  <thead>\n",
       "    <tr style=\"text-align: right;\">\n",
       "      <th></th>\n",
       "      <th>id</th>\n",
       "      <th>name</th>\n",
       "      <th>host_id</th>\n",
       "      <th>host_name</th>\n",
       "      <th>host_location</th>\n",
       "      <th>host_is_superhost</th>\n",
       "      <th>host_neighbourhood</th>\n",
       "      <th>host_listings_count</th>\n",
       "      <th>host_total_listings_count</th>\n",
       "      <th>latitude</th>\n",
       "      <th>...</th>\n",
       "      <th>availability_90</th>\n",
       "      <th>availability_365</th>\n",
       "      <th>number_of_reviews</th>\n",
       "      <th>review_scores_rating</th>\n",
       "      <th>instant_bookable</th>\n",
       "      <th>calculated_host_listings_count</th>\n",
       "      <th>calculated_host_listings_count_entire_homes</th>\n",
       "      <th>calculated_host_listings_count_private_rooms</th>\n",
       "      <th>calculated_host_listings_count_shared_rooms</th>\n",
       "      <th>reviews_per_month</th>\n",
       "    </tr>\n",
       "  </thead>\n",
       "  <tbody>\n",
       "    <tr>\n",
       "      <th>0</th>\n",
       "      <td>11551.0</td>\n",
       "      <td>Arty and Bright London Apartment in Zone 2</td>\n",
       "      <td>43039.0</td>\n",
       "      <td>Adriano</td>\n",
       "      <td>London, England, United Kingdom</td>\n",
       "      <td>f</td>\n",
       "      <td>Brixton</td>\n",
       "      <td>3.0</td>\n",
       "      <td>3.0</td>\n",
       "      <td>51.46225</td>\n",
       "      <td>...</td>\n",
       "      <td>4.0</td>\n",
       "      <td>279.0</td>\n",
       "      <td>192</td>\n",
       "      <td>91.0</td>\n",
       "      <td>t</td>\n",
       "      <td>2.0</td>\n",
       "      <td>2.0</td>\n",
       "      <td>0.0</td>\n",
       "      <td>0.0</td>\n",
       "      <td>1.48</td>\n",
       "    </tr>\n",
       "    <tr>\n",
       "      <th>1</th>\n",
       "      <td>13913.0</td>\n",
       "      <td>Holiday London DB Room Let-on going</td>\n",
       "      <td>54730.0</td>\n",
       "      <td>Alina</td>\n",
       "      <td>London, England, United Kingdom</td>\n",
       "      <td>f</td>\n",
       "      <td>LB of Islington</td>\n",
       "      <td>3.0</td>\n",
       "      <td>3.0</td>\n",
       "      <td>51.56802</td>\n",
       "      <td>...</td>\n",
       "      <td>90.0</td>\n",
       "      <td>365.0</td>\n",
       "      <td>21</td>\n",
       "      <td>97.0</td>\n",
       "      <td>f</td>\n",
       "      <td>2.0</td>\n",
       "      <td>1.0</td>\n",
       "      <td>1.0</td>\n",
       "      <td>0.0</td>\n",
       "      <td>0.17</td>\n",
       "    </tr>\n",
       "    <tr>\n",
       "      <th>2</th>\n",
       "      <td>15400.0</td>\n",
       "      <td>Bright Chelsea  Apartment. Chelsea!</td>\n",
       "      <td>60302.0</td>\n",
       "      <td>Philippa</td>\n",
       "      <td>Kensington, England, United Kingdom</td>\n",
       "      <td>f</td>\n",
       "      <td>Chelsea</td>\n",
       "      <td>1.0</td>\n",
       "      <td>1.0</td>\n",
       "      <td>51.48796</td>\n",
       "      <td>...</td>\n",
       "      <td>50.0</td>\n",
       "      <td>150.0</td>\n",
       "      <td>89</td>\n",
       "      <td>96.0</td>\n",
       "      <td>t</td>\n",
       "      <td>1.0</td>\n",
       "      <td>1.0</td>\n",
       "      <td>0.0</td>\n",
       "      <td>0.0</td>\n",
       "      <td>0.67</td>\n",
       "    </tr>\n",
       "    <tr>\n",
       "      <th>3</th>\n",
       "      <td>17402.0</td>\n",
       "      <td>Superb 3-Bed/2 Bath &amp; Wifi: Trendy W1</td>\n",
       "      <td>67564.0</td>\n",
       "      <td>Liz</td>\n",
       "      <td>London, England, United Kingdom</td>\n",
       "      <td>t</td>\n",
       "      <td>Fitzrovia</td>\n",
       "      <td>18.0</td>\n",
       "      <td>18.0</td>\n",
       "      <td>51.52195</td>\n",
       "      <td>...</td>\n",
       "      <td>85.0</td>\n",
       "      <td>330.0</td>\n",
       "      <td>42</td>\n",
       "      <td>94.0</td>\n",
       "      <td>f</td>\n",
       "      <td>15.0</td>\n",
       "      <td>15.0</td>\n",
       "      <td>0.0</td>\n",
       "      <td>0.0</td>\n",
       "      <td>0.36</td>\n",
       "    </tr>\n",
       "  </tbody>\n",
       "</table>\n",
       "<p>4 rows × 29 columns</p>\n",
       "</div>"
      ],
      "text/plain": [
       "        id                                        name  host_id host_name  \\\n",
       "0  11551.0  Arty and Bright London Apartment in Zone 2  43039.0   Adriano   \n",
       "1  13913.0         Holiday London DB Room Let-on going  54730.0     Alina   \n",
       "2  15400.0         Bright Chelsea  Apartment. Chelsea!  60302.0  Philippa   \n",
       "3  17402.0       Superb 3-Bed/2 Bath & Wifi: Trendy W1  67564.0       Liz   \n",
       "\n",
       "                         host_location host_is_superhost host_neighbourhood  \\\n",
       "0      London, England, United Kingdom                 f            Brixton   \n",
       "1      London, England, United Kingdom                 f    LB of Islington   \n",
       "2  Kensington, England, United Kingdom                 f            Chelsea   \n",
       "3      London, England, United Kingdom                 t          Fitzrovia   \n",
       "\n",
       "   host_listings_count host_total_listings_count  latitude  ...  \\\n",
       "0                  3.0                       3.0  51.46225  ...   \n",
       "1                  3.0                       3.0  51.56802  ...   \n",
       "2                  1.0                       1.0  51.48796  ...   \n",
       "3                 18.0                      18.0  51.52195  ...   \n",
       "\n",
       "   availability_90 availability_365 number_of_reviews review_scores_rating  \\\n",
       "0              4.0            279.0               192                 91.0   \n",
       "1             90.0            365.0                21                 97.0   \n",
       "2             50.0            150.0                89                 96.0   \n",
       "3             85.0            330.0                42                 94.0   \n",
       "\n",
       "   instant_bookable calculated_host_listings_count  \\\n",
       "0                 t                            2.0   \n",
       "1                 f                            2.0   \n",
       "2                 t                            1.0   \n",
       "3                 f                           15.0   \n",
       "\n",
       "  calculated_host_listings_count_entire_homes  \\\n",
       "0                                         2.0   \n",
       "1                                         1.0   \n",
       "2                                         1.0   \n",
       "3                                        15.0   \n",
       "\n",
       "   calculated_host_listings_count_private_rooms  \\\n",
       "0                                           0.0   \n",
       "1                                           1.0   \n",
       "2                                           0.0   \n",
       "3                                           0.0   \n",
       "\n",
       "   calculated_host_listings_count_shared_rooms  reviews_per_month  \n",
       "0                                          0.0               1.48  \n",
       "1                                          0.0               0.17  \n",
       "2                                          0.0               0.67  \n",
       "3                                          0.0               0.36  \n",
       "\n",
       "[4 rows x 29 columns]"
      ]
     },
     "execution_count": 19,
     "metadata": {},
     "output_type": "execute_result"
    }
   ],
   "source": [
    "df.head(4)"
   ]
  },
  {
   "cell_type": "markdown",
   "metadata": {},
   "source": [
    "### 1.3.2: Fixing boolean values"
   ]
  },
  {
   "cell_type": "code",
   "execution_count": 20,
   "metadata": {},
   "outputs": [
    {
     "data": {
      "text/html": [
       "<div>\n",
       "<style scoped>\n",
       "    .dataframe tbody tr th:only-of-type {\n",
       "        vertical-align: middle;\n",
       "    }\n",
       "\n",
       "    .dataframe tbody tr th {\n",
       "        vertical-align: top;\n",
       "    }\n",
       "\n",
       "    .dataframe thead th {\n",
       "        text-align: right;\n",
       "    }\n",
       "</style>\n",
       "<table border=\"1\" class=\"dataframe\">\n",
       "  <thead>\n",
       "    <tr style=\"text-align: right;\">\n",
       "      <th></th>\n",
       "      <th>host_is_superhost</th>\n",
       "      <th>instant_bookable</th>\n",
       "      <th>has_availability</th>\n",
       "    </tr>\n",
       "  </thead>\n",
       "  <tbody>\n",
       "    <tr>\n",
       "      <th>9106</th>\n",
       "      <td>f</td>\n",
       "      <td>f</td>\n",
       "      <td>t</td>\n",
       "    </tr>\n",
       "    <tr>\n",
       "      <th>2204</th>\n",
       "      <td>f</td>\n",
       "      <td>f</td>\n",
       "      <td>t</td>\n",
       "    </tr>\n",
       "    <tr>\n",
       "      <th>2044</th>\n",
       "      <td>f</td>\n",
       "      <td>f</td>\n",
       "      <td>t</td>\n",
       "    </tr>\n",
       "    <tr>\n",
       "      <th>2941</th>\n",
       "      <td>f</td>\n",
       "      <td>f</td>\n",
       "      <td>t</td>\n",
       "    </tr>\n",
       "  </tbody>\n",
       "</table>\n",
       "</div>"
      ],
      "text/plain": [
       "     host_is_superhost instant_bookable has_availability\n",
       "9106                 f                f                t\n",
       "2204                 f                f                t\n",
       "2044                 f                f                t\n",
       "2941                 f                f                t"
      ]
     },
     "execution_count": 20,
     "metadata": {},
     "output_type": "execute_result"
    }
   ],
   "source": [
    "bools = ['host_is_superhost', 'instant_bookable', 'has_availability']\n",
    "         \n",
    "df.sample(4, random_state=43)[bools]"
   ]
  },
  {
   "cell_type": "code",
   "execution_count": 21,
   "metadata": {},
   "outputs": [
    {
     "name": "stdout",
     "output_type": "stream",
     "text": [
      "Converting host_is_superhost\n",
      "Converting instant_bookable\n",
      "Converting has_availability\n"
     ]
    }
   ],
   "source": [
    "# This approach requires us to map 't' and 'f'\n",
    "# to 'True' and 'False'\n",
    "map = {'t':True, 'f':False}\n",
    "for b in bools:\n",
    "    print(f\"Converting {b}\")\n",
    "    df[b] = df[b].replace(map).astype('bool')"
   ]
  },
  {
   "cell_type": "markdown",
   "metadata": {},
   "source": [
    "### 1.3.3: Fixing categories"
   ]
  },
  {
   "cell_type": "code",
   "execution_count": 22,
   "metadata": {},
   "outputs": [
    {
     "data": {
      "text/html": [
       "<div>\n",
       "<style scoped>\n",
       "    .dataframe tbody tr th:only-of-type {\n",
       "        vertical-align: middle;\n",
       "    }\n",
       "\n",
       "    .dataframe tbody tr th {\n",
       "        vertical-align: top;\n",
       "    }\n",
       "\n",
       "    .dataframe thead th {\n",
       "        text-align: right;\n",
       "    }\n",
       "</style>\n",
       "<table border=\"1\" class=\"dataframe\">\n",
       "  <thead>\n",
       "    <tr style=\"text-align: right;\">\n",
       "      <th></th>\n",
       "      <th>property_type</th>\n",
       "      <th>room_type</th>\n",
       "    </tr>\n",
       "  </thead>\n",
       "  <tbody>\n",
       "    <tr>\n",
       "      <th>9106</th>\n",
       "      <td>Private room in apartment</td>\n",
       "      <td>Private room</td>\n",
       "    </tr>\n",
       "    <tr>\n",
       "      <th>2204</th>\n",
       "      <td>Entire apartment</td>\n",
       "      <td>Entire home/apt</td>\n",
       "    </tr>\n",
       "    <tr>\n",
       "      <th>2044</th>\n",
       "      <td>Entire apartment</td>\n",
       "      <td>Entire home/apt</td>\n",
       "    </tr>\n",
       "    <tr>\n",
       "      <th>2941</th>\n",
       "      <td>Entire apartment</td>\n",
       "      <td>Entire home/apt</td>\n",
       "    </tr>\n",
       "  </tbody>\n",
       "</table>\n",
       "</div>"
      ],
      "text/plain": [
       "                  property_type        room_type\n",
       "9106  Private room in apartment     Private room\n",
       "2204           Entire apartment  Entire home/apt\n",
       "2044           Entire apartment  Entire home/apt\n",
       "2941           Entire apartment  Entire home/apt"
      ]
     },
     "execution_count": 22,
     "metadata": {},
     "output_type": "execute_result"
    }
   ],
   "source": [
    "cats = ['property_type','room_type']\n",
    "df.sample(4, random_state=43)[cats]"
   ]
  },
  {
   "cell_type": "code",
   "execution_count": 23,
   "metadata": {},
   "outputs": [
    {
     "data": {
      "text/plain": [
       "Entire apartment                      3423\n",
       "Private room in apartment             1870\n",
       "Private room in house                 1223\n",
       "Entire house                           568\n",
       "Private room in townhouse              283\n",
       "Entire townhouse                       154\n",
       "Entire loft                             72\n",
       "Private room in bed and breakfast       62\n",
       "Private room in loft                    46\n",
       "Private room in condominium             46\n",
       "Entire condominium                      45\n",
       "Entire serviced apartment               20\n",
       "Entire guest suite                      20\n",
       "Room in serviced apartment              18\n",
       "Shared room in apartment                17\n",
       "Private room in guest suite             17\n",
       "Room in boutique hotel                  16\n",
       "Private room                            12\n",
       "Entire guesthouse                       11\n",
       "Private room in guesthouse               8\n",
       "Room in bed and breakfast                7\n",
       "Shared room in house                     7\n",
       "Shared room in hostel                    7\n",
       "Shared room in bed and breakfast         6\n",
       "Boat                                     6\n",
       "Private room in bungalow                 5\n",
       "Tiny house                               4\n",
       "Entire bungalow                          3\n",
       "Entire cottage                           3\n",
       "Private room in cottage                  2\n",
       "Houseboat                                2\n",
       "Camper/RV                                2\n",
       "Private room in villa                    2\n",
       "Entire cabin                             2\n",
       "Private room in parking space            1\n",
       "Shared room in guest suite               1\n",
       "Private room in yurt                     1\n",
       "Room in aparthotel                       1\n",
       "Shared room in condominium               1\n",
       "Private room in boat                     1\n",
       "Private room in serviced apartment       1\n",
       "Yurt                                     1\n",
       "Entire place                             1\n",
       "Shared room in loft                      1\n",
       "Name: property_type, dtype: int64"
      ]
     },
     "execution_count": 23,
     "metadata": {},
     "output_type": "execute_result"
    }
   ],
   "source": [
    "df[cats[0]].value_counts()"
   ]
  },
  {
   "cell_type": "code",
   "execution_count": 24,
   "metadata": {},
   "outputs": [
    {
     "data": {
      "text/plain": [
       "Entire home/apt    4337\n",
       "Private room       3596\n",
       "Shared room          40\n",
       "Hotel room           26\n",
       "Name: room_type, dtype: int64"
      ]
     },
     "execution_count": 24,
     "metadata": {},
     "output_type": "execute_result"
    }
   ],
   "source": [
    "df[cats[1]].value_counts()"
   ]
  },
  {
   "cell_type": "code",
   "execution_count": 25,
   "metadata": {},
   "outputs": [
    {
     "name": "stdout",
     "output_type": "stream",
     "text": [
      "Converting property_type\n",
      "Converting room_type\n"
     ]
    }
   ],
   "source": [
    "#Getting the needed catergories only\n",
    "for c in cats:\n",
    "    print(f\"Converting {c}\")\n",
    "    df[c] = df[c].astype('category')"
   ]
  },
  {
   "cell_type": "code",
   "execution_count": 26,
   "metadata": {},
   "outputs": [
    {
     "name": "stdout",
     "output_type": "stream",
     "text": [
      "['Entire home/apt' 'Hotel room' 'Private room' 'Shared room']\n"
     ]
    }
   ],
   "source": [
    "print(df[cats[1]].cat.categories.values)"
   ]
  },
  {
   "cell_type": "code",
   "execution_count": 27,
   "metadata": {},
   "outputs": [
    {
     "data": {
      "text/html": [
       "<div>\n",
       "<style scoped>\n",
       "    .dataframe tbody tr th:only-of-type {\n",
       "        vertical-align: middle;\n",
       "    }\n",
       "\n",
       "    .dataframe tbody tr th {\n",
       "        vertical-align: top;\n",
       "    }\n",
       "\n",
       "    .dataframe thead th {\n",
       "        text-align: right;\n",
       "    }\n",
       "</style>\n",
       "<table border=\"1\" class=\"dataframe\">\n",
       "  <thead>\n",
       "    <tr style=\"text-align: right;\">\n",
       "      <th></th>\n",
       "      <th>property_type</th>\n",
       "      <th>room_type</th>\n",
       "    </tr>\n",
       "  </thead>\n",
       "  <tbody>\n",
       "    <tr>\n",
       "      <th>9106</th>\n",
       "      <td>Private room in apartment</td>\n",
       "      <td>Private room</td>\n",
       "    </tr>\n",
       "    <tr>\n",
       "      <th>2204</th>\n",
       "      <td>Entire apartment</td>\n",
       "      <td>Entire home/apt</td>\n",
       "    </tr>\n",
       "    <tr>\n",
       "      <th>2044</th>\n",
       "      <td>Entire apartment</td>\n",
       "      <td>Entire home/apt</td>\n",
       "    </tr>\n",
       "    <tr>\n",
       "      <th>2941</th>\n",
       "      <td>Entire apartment</td>\n",
       "      <td>Entire home/apt</td>\n",
       "    </tr>\n",
       "    <tr>\n",
       "      <th>2913</th>\n",
       "      <td>Private room in apartment</td>\n",
       "      <td>Private room</td>\n",
       "    </tr>\n",
       "    <tr>\n",
       "      <th>8442</th>\n",
       "      <td>Entire apartment</td>\n",
       "      <td>Entire home/apt</td>\n",
       "    </tr>\n",
       "  </tbody>\n",
       "</table>\n",
       "</div>"
      ],
      "text/plain": [
       "                  property_type        room_type\n",
       "9106  Private room in apartment     Private room\n",
       "2204           Entire apartment  Entire home/apt\n",
       "2044           Entire apartment  Entire home/apt\n",
       "2941           Entire apartment  Entire home/apt\n",
       "2913  Private room in apartment     Private room\n",
       "8442           Entire apartment  Entire home/apt"
      ]
     },
     "execution_count": 27,
     "metadata": {},
     "output_type": "execute_result"
    }
   ],
   "source": [
    "df.sample(6, random_state=43)[cats]"
   ]
  },
  {
   "cell_type": "markdown",
   "metadata": {},
   "source": [
    "### 1.3.4: Fixing strings"
   ]
  },
  {
   "cell_type": "code",
   "execution_count": 28,
   "metadata": {},
   "outputs": [
    {
     "name": "stdout",
     "output_type": "stream",
     "text": [
      "Converting price\n"
     ]
    }
   ],
   "source": [
    "#Fixing prices from $ to a float value\n",
    "\n",
    "money= ['price']\n",
    "\n",
    "for m in money:\n",
    "    print(f\"Converting {m}\")\n",
    "    df[m] = df[m].str.replace('$','').str.replace(',','').astype('float')"
   ]
  },
  {
   "cell_type": "code",
   "execution_count": 29,
   "metadata": {},
   "outputs": [
    {
     "data": {
      "text/html": [
       "<div>\n",
       "<style scoped>\n",
       "    .dataframe tbody tr th:only-of-type {\n",
       "        vertical-align: middle;\n",
       "    }\n",
       "\n",
       "    .dataframe tbody tr th {\n",
       "        vertical-align: top;\n",
       "    }\n",
       "\n",
       "    .dataframe thead th {\n",
       "        text-align: right;\n",
       "    }\n",
       "</style>\n",
       "<table border=\"1\" class=\"dataframe\">\n",
       "  <thead>\n",
       "    <tr style=\"text-align: right;\">\n",
       "      <th></th>\n",
       "      <th>price</th>\n",
       "    </tr>\n",
       "  </thead>\n",
       "  <tbody>\n",
       "    <tr>\n",
       "      <th>4710</th>\n",
       "      <td>137.0</td>\n",
       "    </tr>\n",
       "    <tr>\n",
       "      <th>3024</th>\n",
       "      <td>161.0</td>\n",
       "    </tr>\n",
       "    <tr>\n",
       "      <th>4310</th>\n",
       "      <td>28.0</td>\n",
       "    </tr>\n",
       "    <tr>\n",
       "      <th>8012</th>\n",
       "      <td>60.0</td>\n",
       "    </tr>\n",
       "    <tr>\n",
       "      <th>9401</th>\n",
       "      <td>115.0</td>\n",
       "    </tr>\n",
       "  </tbody>\n",
       "</table>\n",
       "</div>"
      ],
      "text/plain": [
       "      price\n",
       "4710  137.0\n",
       "3024  161.0\n",
       "4310   28.0\n",
       "8012   60.0\n",
       "9401  115.0"
      ]
     },
     "execution_count": 29,
     "metadata": {},
     "output_type": "execute_result"
    }
   ],
   "source": [
    "df.sample(5, random_state=42)[money]"
   ]
  },
  {
   "cell_type": "markdown",
   "metadata": {},
   "source": [
    "### 1.3.5: Fixing integers"
   ]
  },
  {
   "cell_type": "code",
   "execution_count": 30,
   "metadata": {},
   "outputs": [
    {
     "name": "stdout",
     "output_type": "stream",
     "text": [
      "Converting id\n",
      "Converting host_id\n",
      "Converting host_listings_count\n",
      "Converting host_total_listings_count\n",
      "Converting minimum_nights\n",
      "Converting maximum_nights\n",
      "Converting availability_60\n",
      "Converting availability_90\n",
      "Converting availability_365\n",
      "Converting number_of_reviews\n",
      "Converting calculated_host_listings_count\n",
      "Converting calculated_host_listings_count_entire_homes\n",
      "Converting calculated_host_listings_count_private_rooms\n",
      "Converting calculated_host_listings_count_shared_rooms\n"
     ]
    }
   ],
   "source": [
    "ints  = ['id','host_id','host_listings_count','host_total_listings_count',\n",
    "         'minimum_nights','maximum_nights','availability_60', 'availability_90', 'availability_365',\n",
    "         'number_of_reviews',\n",
    "         'calculated_host_listings_count', 'calculated_host_listings_count_entire_homes',\n",
    "         'calculated_host_listings_count_private_rooms',\n",
    "         'calculated_host_listings_count_shared_rooms']\n",
    "for i in ints:\n",
    "    print(f\"Converting {i}\")\n",
    "    try:\n",
    "        df[i] = df[i].astype('float').astype('int')\n",
    "    except ValueError as e:\n",
    "        print(\"\\tConverting to unsigned 16-bit integer.\")\n",
    "        df[i] = df[i].astype('float').astype(pd.UInt16Dtype())"
   ]
  },
  {
   "cell_type": "code",
   "execution_count": 31,
   "metadata": {},
   "outputs": [
    {
     "data": {
      "text/plain": [
       "False    7999\n",
       "Name: id, dtype: int64"
      ]
     },
     "execution_count": 31,
     "metadata": {},
     "output_type": "execute_result"
    }
   ],
   "source": [
    "df.id.isna().value_counts()"
   ]
  },
  {
   "cell_type": "markdown",
   "metadata": {},
   "source": [
    "### 1.3.6: Validation"
   ]
  },
  {
   "cell_type": "code",
   "execution_count": 32,
   "metadata": {},
   "outputs": [
    {
     "name": "stdout",
     "output_type": "stream",
     "text": [
      "<class 'pandas.core.frame.DataFrame'>\n",
      "Int64Index: 7999 entries, 0 to 9999\n",
      "Data columns (total 29 columns):\n",
      " #   Column                                        Non-Null Count  Dtype   \n",
      "---  ------                                        --------------  -----   \n",
      " 0   id                                            7999 non-null   int64   \n",
      " 1   name                                          7998 non-null   object  \n",
      " 2   host_id                                       7999 non-null   int64   \n",
      " 3   host_name                                     7999 non-null   object  \n",
      " 4   host_location                                 7999 non-null   object  \n",
      " 5   host_is_superhost                             7999 non-null   bool    \n",
      " 6   host_neighbourhood                            6666 non-null   object  \n",
      " 7   host_listings_count                           7999 non-null   int64   \n",
      " 8   host_total_listings_count                     7999 non-null   int64   \n",
      " 9   latitude                                      7999 non-null   float64 \n",
      " 10  longitude                                     7999 non-null   float64 \n",
      " 11  property_type                                 7999 non-null   category\n",
      " 12  room_type                                     7999 non-null   category\n",
      " 13  price                                         7999 non-null   float64 \n",
      " 14  minimum_nights                                7999 non-null   int64   \n",
      " 15  maximum_nights                                7999 non-null   int64   \n",
      " 16  has_availability                              7999 non-null   bool    \n",
      " 17  availability_30                               7999 non-null   float64 \n",
      " 18  availability_60                               7999 non-null   int64   \n",
      " 19  availability_90                               7999 non-null   int64   \n",
      " 20  availability_365                              7999 non-null   int64   \n",
      " 21  number_of_reviews                             7999 non-null   int64   \n",
      " 22  review_scores_rating                          7999 non-null   float64 \n",
      " 23  instant_bookable                              7999 non-null   bool    \n",
      " 24  calculated_host_listings_count                7999 non-null   int64   \n",
      " 25  calculated_host_listings_count_entire_homes   7999 non-null   int64   \n",
      " 26  calculated_host_listings_count_private_rooms  7999 non-null   int64   \n",
      " 27  calculated_host_listings_count_shared_rooms   7999 non-null   int64   \n",
      " 28  reviews_per_month                             7999 non-null   float64 \n",
      "dtypes: bool(3), category(2), float64(6), int64(14), object(4)\n",
      "memory usage: 1.9+ MB\n"
     ]
    }
   ],
   "source": [
    "df.info()"
   ]
  },
  {
   "cell_type": "code",
   "execution_count": 33,
   "metadata": {},
   "outputs": [
    {
     "data": {
      "text/html": [
       "<div>\n",
       "<style scoped>\n",
       "    .dataframe tbody tr th:only-of-type {\n",
       "        vertical-align: middle;\n",
       "    }\n",
       "\n",
       "    .dataframe tbody tr th {\n",
       "        vertical-align: top;\n",
       "    }\n",
       "\n",
       "    .dataframe thead th {\n",
       "        text-align: right;\n",
       "    }\n",
       "</style>\n",
       "<table border=\"1\" class=\"dataframe\">\n",
       "  <thead>\n",
       "    <tr style=\"text-align: right;\">\n",
       "      <th></th>\n",
       "      <th>id</th>\n",
       "      <th>host_id</th>\n",
       "      <th>host_listings_count</th>\n",
       "      <th>host_total_listings_count</th>\n",
       "      <th>latitude</th>\n",
       "      <th>longitude</th>\n",
       "      <th>price</th>\n",
       "      <th>minimum_nights</th>\n",
       "      <th>maximum_nights</th>\n",
       "      <th>availability_30</th>\n",
       "      <th>availability_60</th>\n",
       "      <th>availability_90</th>\n",
       "      <th>availability_365</th>\n",
       "      <th>number_of_reviews</th>\n",
       "      <th>review_scores_rating</th>\n",
       "      <th>calculated_host_listings_count</th>\n",
       "      <th>calculated_host_listings_count_entire_homes</th>\n",
       "      <th>calculated_host_listings_count_private_rooms</th>\n",
       "      <th>calculated_host_listings_count_shared_rooms</th>\n",
       "      <th>reviews_per_month</th>\n",
       "    </tr>\n",
       "  </thead>\n",
       "  <tbody>\n",
       "    <tr>\n",
       "      <th>count</th>\n",
       "      <td>7.999000e+03</td>\n",
       "      <td>7.999000e+03</td>\n",
       "      <td>7999.000000</td>\n",
       "      <td>7999.000000</td>\n",
       "      <td>7999.000000</td>\n",
       "      <td>7999.000000</td>\n",
       "      <td>7999.000000</td>\n",
       "      <td>7999.000000</td>\n",
       "      <td>7.999000e+03</td>\n",
       "      <td>7999.000000</td>\n",
       "      <td>7999.000000</td>\n",
       "      <td>7999.000000</td>\n",
       "      <td>7999.000000</td>\n",
       "      <td>7999.000000</td>\n",
       "      <td>7999.000000</td>\n",
       "      <td>7999.000000</td>\n",
       "      <td>7999.000000</td>\n",
       "      <td>7999.000000</td>\n",
       "      <td>7999.000000</td>\n",
       "      <td>7999.000000</td>\n",
       "    </tr>\n",
       "    <tr>\n",
       "      <th>mean</th>\n",
       "      <td>4.174807e+06</td>\n",
       "      <td>1.416493e+07</td>\n",
       "      <td>4.074509</td>\n",
       "      <td>4.074509</td>\n",
       "      <td>51.511432</td>\n",
       "      <td>-0.128843</td>\n",
       "      <td>99.442180</td>\n",
       "      <td>6.348669</td>\n",
       "      <td>1.912944e+05</td>\n",
       "      <td>10.479685</td>\n",
       "      <td>22.965996</td>\n",
       "      <td>37.119015</td>\n",
       "      <td>149.955744</td>\n",
       "      <td>47.605326</td>\n",
       "      <td>93.770971</td>\n",
       "      <td>3.749344</td>\n",
       "      <td>2.569446</td>\n",
       "      <td>1.112139</td>\n",
       "      <td>0.034879</td>\n",
       "      <td>0.652312</td>\n",
       "    </tr>\n",
       "    <tr>\n",
       "      <th>std</th>\n",
       "      <td>2.584143e+06</td>\n",
       "      <td>1.470415e+07</td>\n",
       "      <td>27.161087</td>\n",
       "      <td>27.161087</td>\n",
       "      <td>0.045558</td>\n",
       "      <td>0.085443</td>\n",
       "      <td>282.209311</td>\n",
       "      <td>29.856258</td>\n",
       "      <td>1.262685e+07</td>\n",
       "      <td>13.288828</td>\n",
       "      <td>26.379961</td>\n",
       "      <td>39.486978</td>\n",
       "      <td>155.787939</td>\n",
       "      <td>71.023019</td>\n",
       "      <td>7.189139</td>\n",
       "      <td>22.300995</td>\n",
       "      <td>21.898694</td>\n",
       "      <td>3.757370</td>\n",
       "      <td>0.550440</td>\n",
       "      <td>0.915482</td>\n",
       "    </tr>\n",
       "    <tr>\n",
       "      <th>min</th>\n",
       "      <td>1.155100e+04</td>\n",
       "      <td>6.821000e+03</td>\n",
       "      <td>0.000000</td>\n",
       "      <td>0.000000</td>\n",
       "      <td>51.297330</td>\n",
       "      <td>-0.479620</td>\n",
       "      <td>12.000000</td>\n",
       "      <td>1.000000</td>\n",
       "      <td>1.000000e+00</td>\n",
       "      <td>0.000000</td>\n",
       "      <td>0.000000</td>\n",
       "      <td>0.000000</td>\n",
       "      <td>0.000000</td>\n",
       "      <td>1.000000</td>\n",
       "      <td>20.000000</td>\n",
       "      <td>1.000000</td>\n",
       "      <td>0.000000</td>\n",
       "      <td>0.000000</td>\n",
       "      <td>0.000000</td>\n",
       "      <td>0.010000</td>\n",
       "    </tr>\n",
       "    <tr>\n",
       "      <th>25%</th>\n",
       "      <td>1.714094e+06</td>\n",
       "      <td>3.011249e+06</td>\n",
       "      <td>1.000000</td>\n",
       "      <td>1.000000</td>\n",
       "      <td>51.482900</td>\n",
       "      <td>-0.189325</td>\n",
       "      <td>45.000000</td>\n",
       "      <td>2.000000</td>\n",
       "      <td>3.800000e+01</td>\n",
       "      <td>0.000000</td>\n",
       "      <td>0.000000</td>\n",
       "      <td>0.000000</td>\n",
       "      <td>0.000000</td>\n",
       "      <td>6.000000</td>\n",
       "      <td>91.000000</td>\n",
       "      <td>1.000000</td>\n",
       "      <td>0.000000</td>\n",
       "      <td>0.000000</td>\n",
       "      <td>0.000000</td>\n",
       "      <td>0.100000</td>\n",
       "    </tr>\n",
       "    <tr>\n",
       "      <th>50%</th>\n",
       "      <td>4.272878e+06</td>\n",
       "      <td>9.570295e+06</td>\n",
       "      <td>1.000000</td>\n",
       "      <td>1.000000</td>\n",
       "      <td>51.516820</td>\n",
       "      <td>-0.119790</td>\n",
       "      <td>75.000000</td>\n",
       "      <td>2.000000</td>\n",
       "      <td>1.125000e+03</td>\n",
       "      <td>0.000000</td>\n",
       "      <td>4.000000</td>\n",
       "      <td>19.000000</td>\n",
       "      <td>89.000000</td>\n",
       "      <td>21.000000</td>\n",
       "      <td>96.000000</td>\n",
       "      <td>1.000000</td>\n",
       "      <td>1.000000</td>\n",
       "      <td>1.000000</td>\n",
       "      <td>0.000000</td>\n",
       "      <td>0.320000</td>\n",
       "    </tr>\n",
       "    <tr>\n",
       "      <th>75%</th>\n",
       "      <td>6.592968e+06</td>\n",
       "      <td>2.252793e+07</td>\n",
       "      <td>2.000000</td>\n",
       "      <td>2.000000</td>\n",
       "      <td>51.542310</td>\n",
       "      <td>-0.071450</td>\n",
       "      <td>119.000000</td>\n",
       "      <td>4.000000</td>\n",
       "      <td>1.125000e+03</td>\n",
       "      <td>28.000000</td>\n",
       "      <td>57.000000</td>\n",
       "      <td>87.000000</td>\n",
       "      <td>340.000000</td>\n",
       "      <td>58.000000</td>\n",
       "      <td>98.000000</td>\n",
       "      <td>2.000000</td>\n",
       "      <td>1.000000</td>\n",
       "      <td>1.000000</td>\n",
       "      <td>0.000000</td>\n",
       "      <td>0.830000</td>\n",
       "    </tr>\n",
       "    <tr>\n",
       "      <th>max</th>\n",
       "      <td>8.376549e+06</td>\n",
       "      <td>3.040751e+08</td>\n",
       "      <td>1105.000000</td>\n",
       "      <td>1105.000000</td>\n",
       "      <td>51.671870</td>\n",
       "      <td>0.238150</td>\n",
       "      <td>16798.000000</td>\n",
       "      <td>1124.000000</td>\n",
       "      <td>1.000000e+09</td>\n",
       "      <td>30.000000</td>\n",
       "      <td>60.000000</td>\n",
       "      <td>90.000000</td>\n",
       "      <td>365.000000</td>\n",
       "      <td>813.000000</td>\n",
       "      <td>100.000000</td>\n",
       "      <td>878.000000</td>\n",
       "      <td>877.000000</td>\n",
       "      <td>249.000000</td>\n",
       "      <td>11.000000</td>\n",
       "      <td>12.770000</td>\n",
       "    </tr>\n",
       "  </tbody>\n",
       "</table>\n",
       "</div>"
      ],
      "text/plain": [
       "                 id       host_id  host_listings_count  \\\n",
       "count  7.999000e+03  7.999000e+03          7999.000000   \n",
       "mean   4.174807e+06  1.416493e+07             4.074509   \n",
       "std    2.584143e+06  1.470415e+07            27.161087   \n",
       "min    1.155100e+04  6.821000e+03             0.000000   \n",
       "25%    1.714094e+06  3.011249e+06             1.000000   \n",
       "50%    4.272878e+06  9.570295e+06             1.000000   \n",
       "75%    6.592968e+06  2.252793e+07             2.000000   \n",
       "max    8.376549e+06  3.040751e+08          1105.000000   \n",
       "\n",
       "       host_total_listings_count     latitude    longitude         price  \\\n",
       "count                7999.000000  7999.000000  7999.000000   7999.000000   \n",
       "mean                    4.074509    51.511432    -0.128843     99.442180   \n",
       "std                    27.161087     0.045558     0.085443    282.209311   \n",
       "min                     0.000000    51.297330    -0.479620     12.000000   \n",
       "25%                     1.000000    51.482900    -0.189325     45.000000   \n",
       "50%                     1.000000    51.516820    -0.119790     75.000000   \n",
       "75%                     2.000000    51.542310    -0.071450    119.000000   \n",
       "max                  1105.000000    51.671870     0.238150  16798.000000   \n",
       "\n",
       "       minimum_nights  maximum_nights  availability_30  availability_60  \\\n",
       "count     7999.000000    7.999000e+03      7999.000000      7999.000000   \n",
       "mean         6.348669    1.912944e+05        10.479685        22.965996   \n",
       "std         29.856258    1.262685e+07        13.288828        26.379961   \n",
       "min          1.000000    1.000000e+00         0.000000         0.000000   \n",
       "25%          2.000000    3.800000e+01         0.000000         0.000000   \n",
       "50%          2.000000    1.125000e+03         0.000000         4.000000   \n",
       "75%          4.000000    1.125000e+03        28.000000        57.000000   \n",
       "max       1124.000000    1.000000e+09        30.000000        60.000000   \n",
       "\n",
       "       availability_90  availability_365  number_of_reviews  \\\n",
       "count      7999.000000       7999.000000        7999.000000   \n",
       "mean         37.119015        149.955744          47.605326   \n",
       "std          39.486978        155.787939          71.023019   \n",
       "min           0.000000          0.000000           1.000000   \n",
       "25%           0.000000          0.000000           6.000000   \n",
       "50%          19.000000         89.000000          21.000000   \n",
       "75%          87.000000        340.000000          58.000000   \n",
       "max          90.000000        365.000000         813.000000   \n",
       "\n",
       "       review_scores_rating  calculated_host_listings_count  \\\n",
       "count           7999.000000                     7999.000000   \n",
       "mean              93.770971                        3.749344   \n",
       "std                7.189139                       22.300995   \n",
       "min               20.000000                        1.000000   \n",
       "25%               91.000000                        1.000000   \n",
       "50%               96.000000                        1.000000   \n",
       "75%               98.000000                        2.000000   \n",
       "max              100.000000                      878.000000   \n",
       "\n",
       "       calculated_host_listings_count_entire_homes  \\\n",
       "count                                  7999.000000   \n",
       "mean                                      2.569446   \n",
       "std                                      21.898694   \n",
       "min                                       0.000000   \n",
       "25%                                       0.000000   \n",
       "50%                                       1.000000   \n",
       "75%                                       1.000000   \n",
       "max                                     877.000000   \n",
       "\n",
       "       calculated_host_listings_count_private_rooms  \\\n",
       "count                                   7999.000000   \n",
       "mean                                       1.112139   \n",
       "std                                        3.757370   \n",
       "min                                        0.000000   \n",
       "25%                                        0.000000   \n",
       "50%                                        1.000000   \n",
       "75%                                        1.000000   \n",
       "max                                      249.000000   \n",
       "\n",
       "       calculated_host_listings_count_shared_rooms  reviews_per_month  \n",
       "count                                  7999.000000        7999.000000  \n",
       "mean                                      0.034879           0.652312  \n",
       "std                                       0.550440           0.915482  \n",
       "min                                       0.000000           0.010000  \n",
       "25%                                       0.000000           0.100000  \n",
       "50%                                       0.000000           0.320000  \n",
       "75%                                       0.000000           0.830000  \n",
       "max                                      11.000000          12.770000  "
      ]
     },
     "execution_count": 33,
     "metadata": {},
     "output_type": "execute_result"
    }
   ],
   "source": [
    "df.describe()"
   ]
  },
  {
   "cell_type": "code",
   "execution_count": 34,
   "metadata": {},
   "outputs": [
    {
     "data": {
      "text/html": [
       "<div>\n",
       "<style scoped>\n",
       "    .dataframe tbody tr th:only-of-type {\n",
       "        vertical-align: middle;\n",
       "    }\n",
       "\n",
       "    .dataframe tbody tr th {\n",
       "        vertical-align: top;\n",
       "    }\n",
       "\n",
       "    .dataframe thead th {\n",
       "        text-align: right;\n",
       "    }\n",
       "</style>\n",
       "<table border=\"1\" class=\"dataframe\">\n",
       "  <thead>\n",
       "    <tr style=\"text-align: right;\">\n",
       "      <th></th>\n",
       "      <th>price</th>\n",
       "      <th>availability_30</th>\n",
       "      <th>number_of_reviews</th>\n",
       "      <th>review_scores_rating</th>\n",
       "    </tr>\n",
       "  </thead>\n",
       "  <tbody>\n",
       "    <tr>\n",
       "      <th>count</th>\n",
       "      <td>7999.000000</td>\n",
       "      <td>7999.000000</td>\n",
       "      <td>7999.000000</td>\n",
       "      <td>7999.000000</td>\n",
       "    </tr>\n",
       "    <tr>\n",
       "      <th>mean</th>\n",
       "      <td>99.442180</td>\n",
       "      <td>10.479685</td>\n",
       "      <td>47.605326</td>\n",
       "      <td>93.770971</td>\n",
       "    </tr>\n",
       "    <tr>\n",
       "      <th>std</th>\n",
       "      <td>282.209311</td>\n",
       "      <td>13.288828</td>\n",
       "      <td>71.023019</td>\n",
       "      <td>7.189139</td>\n",
       "    </tr>\n",
       "    <tr>\n",
       "      <th>min</th>\n",
       "      <td>12.000000</td>\n",
       "      <td>0.000000</td>\n",
       "      <td>1.000000</td>\n",
       "      <td>20.000000</td>\n",
       "    </tr>\n",
       "    <tr>\n",
       "      <th>20%</th>\n",
       "      <td>40.000000</td>\n",
       "      <td>0.000000</td>\n",
       "      <td>4.000000</td>\n",
       "      <td>90.000000</td>\n",
       "    </tr>\n",
       "    <tr>\n",
       "      <th>50%</th>\n",
       "      <td>75.000000</td>\n",
       "      <td>0.000000</td>\n",
       "      <td>21.000000</td>\n",
       "      <td>96.000000</td>\n",
       "    </tr>\n",
       "    <tr>\n",
       "      <th>80%</th>\n",
       "      <td>130.000000</td>\n",
       "      <td>29.000000</td>\n",
       "      <td>73.000000</td>\n",
       "      <td>99.000000</td>\n",
       "    </tr>\n",
       "    <tr>\n",
       "      <th>max</th>\n",
       "      <td>16798.000000</td>\n",
       "      <td>30.000000</td>\n",
       "      <td>813.000000</td>\n",
       "      <td>100.000000</td>\n",
       "    </tr>\n",
       "  </tbody>\n",
       "</table>\n",
       "</div>"
      ],
      "text/plain": [
       "              price  availability_30  number_of_reviews  review_scores_rating\n",
       "count   7999.000000      7999.000000        7999.000000           7999.000000\n",
       "mean      99.442180        10.479685          47.605326             93.770971\n",
       "std      282.209311        13.288828          71.023019              7.189139\n",
       "min       12.000000         0.000000           1.000000             20.000000\n",
       "20%       40.000000         0.000000           4.000000             90.000000\n",
       "50%       75.000000         0.000000          21.000000             96.000000\n",
       "80%      130.000000        29.000000          73.000000             99.000000\n",
       "max    16798.000000        30.000000         813.000000            100.000000"
      ]
     },
     "execution_count": 34,
     "metadata": {},
     "output_type": "execute_result"
    }
   ],
   "source": [
    "df[['price','availability_30', 'number_of_reviews', 'review_scores_rating']].describe(percentiles=[0.20, 0.80])"
   ]
  },
  {
   "cell_type": "code",
   "execution_count": 35,
   "metadata": {},
   "outputs": [
    {
     "name": "stdout",
     "output_type": "stream",
     "text": [
      "The mean of price is 99.44\n",
      "The median of price is 75.00\n",
      "The mean of availability in 30 days is 10.48\n",
      "The median of availability in 30 days is 0.00\n",
      "The mean of the number of reviews is 47.61\n",
      "The median of the number of reviews is 21.00\n",
      "The mean of review scores is 93.77\n",
      "The median of review scores is 96.00\n"
     ]
    }
   ],
   "source": [
    "print(f\"The mean of price is {df.price.mean():0.2f}\")\n",
    "print(f\"The median of price is {df.price.median():0.2f}\")\n",
    "\n",
    "print(f\"The mean of availability in 30 days is {df.availability_30.mean():0.2f}\")\n",
    "print(f\"The median of availability in 30 days is {df.availability_30.median():0.2f}\")\n",
    "\n",
    "print(f\"The mean of the number of reviews is {df.number_of_reviews.mean():0.2f}\")\n",
    "print(f\"The median of the number of reviews is {df.number_of_reviews.median():0.2f}\")\n",
    "\n",
    "print(f\"The mean of review scores is {df.review_scores_rating.mean():0.2f}\")\n",
    "print(f\"The median of review scores is {df.review_scores_rating.median():0.2f}\")\n"
   ]
  },
  {
   "cell_type": "markdown",
   "metadata": {},
   "source": [
    "### 1.3.7: Saving cleaned data"
   ]
  },
  {
   "cell_type": "code",
   "execution_count": 36,
   "metadata": {},
   "outputs": [
    {
     "name": "stdout",
     "output_type": "stream",
     "text": [
      "Done.\n"
     ]
    }
   ],
   "source": [
    "path = os.path.join('data','clean')\n",
    "\n",
    "if not os.path.exists(path):\n",
    "    print(f\"Creating {path} under {os.getcwd()}\")\n",
    "    os.makedirs(path)\n",
    "    \n",
    "df.to_csv(os.path.join(path,fn), index=False)\n",
    "print(\"Done.\")"
   ]
  },
  {
   "cell_type": "markdown",
   "metadata": {},
   "source": [
    "## 1.4: Column Selection"
   ]
  },
  {
   "cell_type": "markdown",
   "metadata": {},
   "source": [
    "### 1.4.1: Selecting the needed columns for analysis"
   ]
  },
  {
   "cell_type": "code",
   "execution_count": 37,
   "metadata": {},
   "outputs": [
    {
     "data": {
      "text/plain": [
       "room_type        property_type                     \n",
       "Entire home/apt  Entire apartment                      3423\n",
       "                 Entire house                           568\n",
       "                 Entire townhouse                       154\n",
       "                 Entire loft                             72\n",
       "                 Entire condominium                      45\n",
       "                 Entire guest suite                      20\n",
       "                 Entire serviced apartment               20\n",
       "                 Entire guesthouse                       11\n",
       "                 Boat                                     6\n",
       "                 Tiny house                               4\n",
       "                 Entire bungalow                          3\n",
       "                 Entire cottage                           3\n",
       "                 Camper/RV                                2\n",
       "                 Entire cabin                             2\n",
       "                 Houseboat                                2\n",
       "                 Entire place                             1\n",
       "                 Yurt                                     1\n",
       "Hotel room       Room in serviced apartment              18\n",
       "                 Room in bed and breakfast                7\n",
       "                 Room in boutique hotel                   1\n",
       "Private room     Private room in apartment             1870\n",
       "                 Private room in house                 1223\n",
       "                 Private room in townhouse              283\n",
       "                 Private room in bed and breakfast       62\n",
       "                 Private room in condominium             46\n",
       "                 Private room in loft                    46\n",
       "                 Private room in guest suite             17\n",
       "                 Room in boutique hotel                  15\n",
       "                 Private room                            12\n",
       "                 Private room in guesthouse               8\n",
       "                 Private room in bungalow                 5\n",
       "                 Private room in cottage                  2\n",
       "                 Private room in villa                    2\n",
       "                 Private room in boat                     1\n",
       "                 Private room in parking space            1\n",
       "                 Private room in serviced apartment       1\n",
       "                 Private room in yurt                     1\n",
       "                 Room in aparthotel                       1\n",
       "Shared room      Shared room in apartment                17\n",
       "                 Shared room in hostel                    7\n",
       "                 Shared room in house                     7\n",
       "                 Shared room in bed and breakfast         6\n",
       "                 Shared room in condominium               1\n",
       "                 Shared room in guest suite               1\n",
       "                 Shared room in loft                      1\n",
       "Name: property_type, dtype: int64"
      ]
     },
     "execution_count": 37,
     "metadata": {},
     "output_type": "execute_result"
    }
   ],
   "source": [
    "df.groupby('room_type')['property_type'].value_counts()"
   ]
  },
  {
   "cell_type": "code",
   "execution_count": 38,
   "metadata": {},
   "outputs": [
    {
     "data": {
      "text/plain": [
       "availability_30  room_type      \n",
       "0.0              Entire home/apt    2740\n",
       "                 Private room       1709\n",
       "                 Shared room          18\n",
       "                 Hotel room           13\n",
       "1.0              Entire home/apt      66\n",
       "                                    ... \n",
       "29.0             Shared room           2\n",
       "30.0             Private room        752\n",
       "                 Entire home/apt     403\n",
       "                 Shared room          15\n",
       "                 Hotel room            6\n",
       "Name: room_type, Length: 76, dtype: int64"
      ]
     },
     "execution_count": 38,
     "metadata": {},
     "output_type": "execute_result"
    }
   ],
   "source": [
    "df.groupby('availability_30')['room_type'].value_counts()\n",
    "\n",
    "#Showing that entire home/apt is more worth to invest due to high short term demand"
   ]
  },
  {
   "cell_type": "code",
   "execution_count": 39,
   "metadata": {},
   "outputs": [
    {
     "name": "stdout",
     "output_type": "stream",
     "text": [
      "Selected 762 rows\n",
      "Selected 622 rows\n"
     ]
    }
   ],
   "source": [
    "#Review Scores (RS) with two main room types\n",
    "RSen = df[(df.room_type=='Entire home/apt') & (df.review_scores_rating==100)]\n",
    "RSpri = df[(df.room_type=='Private room') & (df.review_scores_rating==100)]\n",
    "\n",
    "print(f\"Selected {RSen.shape[0]} rows\")\n",
    "print(f\"Selected {RSpri.shape[0]} rows\")"
   ]
  },
  {
   "cell_type": "markdown",
   "metadata": {},
   "source": [
    "### 1.4.2: Finding the highest (100) and lowest (20) rating scores"
   ]
  },
  {
   "cell_type": "code",
   "execution_count": 40,
   "metadata": {},
   "outputs": [
    {
     "data": {
      "text/html": [
       "<div>\n",
       "<style scoped>\n",
       "    .dataframe tbody tr th:only-of-type {\n",
       "        vertical-align: middle;\n",
       "    }\n",
       "\n",
       "    .dataframe tbody tr th {\n",
       "        vertical-align: top;\n",
       "    }\n",
       "\n",
       "    .dataframe thead th {\n",
       "        text-align: right;\n",
       "    }\n",
       "</style>\n",
       "<table border=\"1\" class=\"dataframe\">\n",
       "  <thead>\n",
       "    <tr style=\"text-align: right;\">\n",
       "      <th></th>\n",
       "      <th>price</th>\n",
       "      <th>property_type</th>\n",
       "      <th>room_type</th>\n",
       "      <th>availability_30</th>\n",
       "      <th>review_scores_rating</th>\n",
       "    </tr>\n",
       "  </thead>\n",
       "  <tbody>\n",
       "    <tr>\n",
       "      <th>1557</th>\n",
       "      <td>57.0</td>\n",
       "      <td>Entire apartment</td>\n",
       "      <td>Entire home/apt</td>\n",
       "      <td>0.0</td>\n",
       "      <td>20.0</td>\n",
       "    </tr>\n",
       "    <tr>\n",
       "      <th>5696</th>\n",
       "      <td>70.0</td>\n",
       "      <td>Shared room in apartment</td>\n",
       "      <td>Shared room</td>\n",
       "      <td>30.0</td>\n",
       "      <td>20.0</td>\n",
       "    </tr>\n",
       "    <tr>\n",
       "      <th>6530</th>\n",
       "      <td>45.0</td>\n",
       "      <td>Private room in house</td>\n",
       "      <td>Private room</td>\n",
       "      <td>30.0</td>\n",
       "      <td>20.0</td>\n",
       "    </tr>\n",
       "    <tr>\n",
       "      <th>7212</th>\n",
       "      <td>27.0</td>\n",
       "      <td>Private room in house</td>\n",
       "      <td>Private room</td>\n",
       "      <td>30.0</td>\n",
       "      <td>20.0</td>\n",
       "    </tr>\n",
       "    <tr>\n",
       "      <th>8087</th>\n",
       "      <td>23.0</td>\n",
       "      <td>Private room in apartment</td>\n",
       "      <td>Private room</td>\n",
       "      <td>0.0</td>\n",
       "      <td>20.0</td>\n",
       "    </tr>\n",
       "    <tr>\n",
       "      <th>8342</th>\n",
       "      <td>90.0</td>\n",
       "      <td>Entire apartment</td>\n",
       "      <td>Entire home/apt</td>\n",
       "      <td>0.0</td>\n",
       "      <td>20.0</td>\n",
       "    </tr>\n",
       "    <tr>\n",
       "      <th>8865</th>\n",
       "      <td>39.0</td>\n",
       "      <td>Private room in house</td>\n",
       "      <td>Private room</td>\n",
       "      <td>0.0</td>\n",
       "      <td>20.0</td>\n",
       "    </tr>\n",
       "    <tr>\n",
       "      <th>9043</th>\n",
       "      <td>25.0</td>\n",
       "      <td>Private room in house</td>\n",
       "      <td>Private room</td>\n",
       "      <td>0.0</td>\n",
       "      <td>20.0</td>\n",
       "    </tr>\n",
       "  </tbody>\n",
       "</table>\n",
       "</div>"
      ],
      "text/plain": [
       "      price              property_type        room_type  availability_30  \\\n",
       "1557   57.0           Entire apartment  Entire home/apt              0.0   \n",
       "5696   70.0   Shared room in apartment      Shared room             30.0   \n",
       "6530   45.0      Private room in house     Private room             30.0   \n",
       "7212   27.0      Private room in house     Private room             30.0   \n",
       "8087   23.0  Private room in apartment     Private room              0.0   \n",
       "8342   90.0           Entire apartment  Entire home/apt              0.0   \n",
       "8865   39.0      Private room in house     Private room              0.0   \n",
       "9043   25.0      Private room in house     Private room              0.0   \n",
       "\n",
       "      review_scores_rating  \n",
       "1557                  20.0  \n",
       "5696                  20.0  \n",
       "6530                  20.0  \n",
       "7212                  20.0  \n",
       "8087                  20.0  \n",
       "8342                  20.0  \n",
       "8865                  20.0  \n",
       "9043                  20.0  "
      ]
     },
     "execution_count": 40,
     "metadata": {},
     "output_type": "execute_result"
    }
   ],
   "source": [
    "#Lowest\n",
    "lowrs = df[df.review_scores_rating==df.review_scores_rating.min()][['price','property_type','room_type', 'availability_30', 'review_scores_rating']]\n",
    "lowrs"
   ]
  },
  {
   "cell_type": "code",
   "execution_count": 41,
   "metadata": {},
   "outputs": [
    {
     "data": {
      "text/html": [
       "<div>\n",
       "<style scoped>\n",
       "    .dataframe tbody tr th:only-of-type {\n",
       "        vertical-align: middle;\n",
       "    }\n",
       "\n",
       "    .dataframe tbody tr th {\n",
       "        vertical-align: top;\n",
       "    }\n",
       "\n",
       "    .dataframe thead th {\n",
       "        text-align: right;\n",
       "    }\n",
       "</style>\n",
       "<table border=\"1\" class=\"dataframe\">\n",
       "  <thead>\n",
       "    <tr style=\"text-align: right;\">\n",
       "      <th></th>\n",
       "      <th>price</th>\n",
       "      <th>property_type</th>\n",
       "      <th>room_type</th>\n",
       "      <th>availability_30</th>\n",
       "      <th>review_scores_rating</th>\n",
       "    </tr>\n",
       "  </thead>\n",
       "  <tbody>\n",
       "    <tr>\n",
       "      <th>16</th>\n",
       "      <td>42.0</td>\n",
       "      <td>Private room in apartment</td>\n",
       "      <td>Private room</td>\n",
       "      <td>29.0</td>\n",
       "      <td>100.0</td>\n",
       "    </tr>\n",
       "    <tr>\n",
       "      <th>39</th>\n",
       "      <td>56.0</td>\n",
       "      <td>Entire condominium</td>\n",
       "      <td>Entire home/apt</td>\n",
       "      <td>0.0</td>\n",
       "      <td>100.0</td>\n",
       "    </tr>\n",
       "    <tr>\n",
       "      <th>65</th>\n",
       "      <td>42.0</td>\n",
       "      <td>Private room in apartment</td>\n",
       "      <td>Private room</td>\n",
       "      <td>30.0</td>\n",
       "      <td>100.0</td>\n",
       "    </tr>\n",
       "    <tr>\n",
       "      <th>73</th>\n",
       "      <td>133.0</td>\n",
       "      <td>Entire apartment</td>\n",
       "      <td>Entire home/apt</td>\n",
       "      <td>0.0</td>\n",
       "      <td>100.0</td>\n",
       "    </tr>\n",
       "    <tr>\n",
       "      <th>85</th>\n",
       "      <td>40.0</td>\n",
       "      <td>Private room</td>\n",
       "      <td>Private room</td>\n",
       "      <td>30.0</td>\n",
       "      <td>100.0</td>\n",
       "    </tr>\n",
       "    <tr>\n",
       "      <th>...</th>\n",
       "      <td>...</td>\n",
       "      <td>...</td>\n",
       "      <td>...</td>\n",
       "      <td>...</td>\n",
       "      <td>...</td>\n",
       "    </tr>\n",
       "    <tr>\n",
       "      <th>9980</th>\n",
       "      <td>123.0</td>\n",
       "      <td>Entire apartment</td>\n",
       "      <td>Entire home/apt</td>\n",
       "      <td>0.0</td>\n",
       "      <td>100.0</td>\n",
       "    </tr>\n",
       "    <tr>\n",
       "      <th>9981</th>\n",
       "      <td>190.0</td>\n",
       "      <td>Entire townhouse</td>\n",
       "      <td>Entire home/apt</td>\n",
       "      <td>23.0</td>\n",
       "      <td>100.0</td>\n",
       "    </tr>\n",
       "    <tr>\n",
       "      <th>9985</th>\n",
       "      <td>200.0</td>\n",
       "      <td>Entire house</td>\n",
       "      <td>Entire home/apt</td>\n",
       "      <td>0.0</td>\n",
       "      <td>100.0</td>\n",
       "    </tr>\n",
       "    <tr>\n",
       "      <th>9989</th>\n",
       "      <td>70.0</td>\n",
       "      <td>Entire apartment</td>\n",
       "      <td>Entire home/apt</td>\n",
       "      <td>8.0</td>\n",
       "      <td>100.0</td>\n",
       "    </tr>\n",
       "    <tr>\n",
       "      <th>9996</th>\n",
       "      <td>55.0</td>\n",
       "      <td>Private room in apartment</td>\n",
       "      <td>Private room</td>\n",
       "      <td>0.0</td>\n",
       "      <td>100.0</td>\n",
       "    </tr>\n",
       "  </tbody>\n",
       "</table>\n",
       "<p>1393 rows × 5 columns</p>\n",
       "</div>"
      ],
      "text/plain": [
       "      price              property_type        room_type  availability_30  \\\n",
       "16     42.0  Private room in apartment     Private room             29.0   \n",
       "39     56.0         Entire condominium  Entire home/apt              0.0   \n",
       "65     42.0  Private room in apartment     Private room             30.0   \n",
       "73    133.0           Entire apartment  Entire home/apt              0.0   \n",
       "85     40.0               Private room     Private room             30.0   \n",
       "...     ...                        ...              ...              ...   \n",
       "9980  123.0           Entire apartment  Entire home/apt              0.0   \n",
       "9981  190.0           Entire townhouse  Entire home/apt             23.0   \n",
       "9985  200.0               Entire house  Entire home/apt              0.0   \n",
       "9989   70.0           Entire apartment  Entire home/apt              8.0   \n",
       "9996   55.0  Private room in apartment     Private room              0.0   \n",
       "\n",
       "      review_scores_rating  \n",
       "16                   100.0  \n",
       "39                   100.0  \n",
       "65                   100.0  \n",
       "73                   100.0  \n",
       "85                   100.0  \n",
       "...                    ...  \n",
       "9980                 100.0  \n",
       "9981                 100.0  \n",
       "9985                 100.0  \n",
       "9989                 100.0  \n",
       "9996                 100.0  \n",
       "\n",
       "[1393 rows x 5 columns]"
      ]
     },
     "execution_count": 41,
     "metadata": {},
     "output_type": "execute_result"
    }
   ],
   "source": [
    "#Highest\n",
    "highrs = df[df.review_scores_rating==df.review_scores_rating.max()][['price','property_type','room_type', 'availability_30', 'review_scores_rating']]\n",
    "\n",
    "highrs"
   ]
  },
  {
   "cell_type": "code",
   "execution_count": 42,
   "metadata": {},
   "outputs": [
    {
     "data": {
      "text/plain": [
       "Entire home/apt    762\n",
       "Private room       622\n",
       "Shared room          5\n",
       "Hotel room           4\n",
       "Name: room_type, dtype: int64"
      ]
     },
     "execution_count": 42,
     "metadata": {},
     "output_type": "execute_result"
    }
   ],
   "source": [
    "highrs['room_type'].value_counts()"
   ]
  },
  {
   "cell_type": "code",
   "execution_count": 43,
   "metadata": {},
   "outputs": [
    {
     "data": {
      "text/plain": [
       "Private room       5\n",
       "Entire home/apt    2\n",
       "Shared room        1\n",
       "Hotel room         0\n",
       "Name: room_type, dtype: int64"
      ]
     },
     "execution_count": 43,
     "metadata": {},
     "output_type": "execute_result"
    }
   ],
   "source": [
    "lowrs['room_type'].value_counts()"
   ]
  },
  {
   "cell_type": "code",
   "execution_count": 44,
   "metadata": {},
   "outputs": [],
   "source": [
    "#From the lowest we can see that private room is the majority. \n",
    "#And in the highest, Entire home/apt and private room hold the most proportion, 762 and 622 respectively.\n",
    "#However, due to the lowest result, investing in entire home would be less risky (5/8= 62.5% of having 20 RS) \n",
    "#to have a low rating score relatively."
   ]
  },
  {
   "cell_type": "markdown",
   "metadata": {},
   "source": [
    "## 1.5: Descriptive Statistics"
   ]
  },
  {
   "cell_type": "markdown",
   "metadata": {},
   "source": [
    "### 1.5.1: Boxplot"
   ]
  },
  {
   "cell_type": "code",
   "execution_count": 249,
   "metadata": {},
   "outputs": [
    {
     "data": {
      "text/plain": [
       "Text(0.5, -0.3, '$\\\\bf{[Figure 1]}$')"
      ]
     },
     "execution_count": 249,
     "metadata": {},
     "output_type": "execute_result"
    },
    {
     "data": {
      "image/png": "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\n",
      "text/plain": [
       "<Figure size 576x360 with 1 Axes>"
      ]
     },
     "metadata": {},
     "output_type": "display_data"
    }
   ],
   "source": [
    "sns.set_style('whitegrid')\n",
    "sns.set_theme(style=\"ticks\", palette=\"pastel\")\n",
    "f,ax = plt.subplots(figsize=(8,5))\n",
    "sns.boxplot(y=df.availability_30, x=df.room_type)\n",
    "sns.despine(offset=10)\n",
    "ax.set_ylim([0,30])\n",
    "plt.title(r\"$\\bf{\" + '[Figure 1]' + \"}$\", y=-0.3, fontsize= 20)"
   ]
  },
  {
   "cell_type": "markdown",
   "metadata": {},
   "source": [
    "### 1.5.2: Histogram"
   ]
  },
  {
   "cell_type": "code",
   "execution_count": 248,
   "metadata": {},
   "outputs": [
    {
     "name": "stderr",
     "output_type": "stream",
     "text": [
      "/opt/conda/envs/sds2020/lib/python3.7/site-packages/seaborn/distributions.py:2551: FutureWarning: `distplot` is a deprecated function and will be removed in a future version. Please adapt your code to use either `displot` (a figure-level function with similar flexibility) or `histplot` (an axes-level function for histograms).\n",
      "  warnings.warn(msg, FutureWarning)\n"
     ]
    },
    {
     "data": {
      "text/plain": [
       "Text(0.5, -0.2, '$\\\\bf{[Figure 2]}$')"
      ]
     },
     "execution_count": 248,
     "metadata": {},
     "output_type": "execute_result"
    },
    {
     "data": {
      "image/png": "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\n",
      "text/plain": [
       "<Figure size 842.4x595.44 with 1 Axes>"
      ]
     },
     "metadata": {},
     "output_type": "display_data"
    }
   ],
   "source": [
    "sns.distplot(df['price'], hist=True, kde=True, \n",
    "             bins=500, color = 'darkblue', \n",
    "             hist_kws={'edgecolor':'black'},\n",
    "             kde_kws={'linewidth': 4})\n",
    "sns.set(rc={'figure.figsize':(11.7,8.27)})\n",
    "plt.xlim(0, 650)\n",
    "plt.title(r\"$\\bf{\" + '[Figure 2]' + \"}$\", y=-0.2, fontsize= 15)"
   ]
  },
  {
   "cell_type": "markdown",
   "metadata": {},
   "source": [
    "## 1.6 Spatial Analysis"
   ]
  },
  {
   "cell_type": "markdown",
   "metadata": {},
   "source": [
    "### 1.6.1: Loading GeoData"
   ]
  },
  {
   "cell_type": "code",
   "execution_count": 52,
   "metadata": {},
   "outputs": [],
   "source": [
    "#whole UK map\n",
    "msoas = gpd.read_file('https://github.com/wingochau/i2p_CW/raw/main/Middle_Layer_Super_Output_Areas__December_2011__EW_BGC_V2-shp.zip')"
   ]
  },
  {
   "cell_type": "code",
   "execution_count": 53,
   "metadata": {},
   "outputs": [],
   "source": [
    "#London boroughs\n",
    "boros = gpd.read_file('https://github.com/wingochau/i2p_CW/raw/main/Boroughs.gpkg')"
   ]
  },
  {
   "cell_type": "code",
   "execution_count": 54,
   "metadata": {},
   "outputs": [],
   "source": [
    "ldn = gpd.GeoDataFrame(gpd.GeoSeries(data=boros.unary_union, crs='epsg:27700')).rename(columns={0:'original'})\n",
    "\n",
    "# buffer the boundary by 250m\n",
    "ldn['geometry'] = ldn.original.buffer(250)\n",
    "ldn = ldn.set_geometry('geometry')"
   ]
  },
  {
   "cell_type": "code",
   "execution_count": 186,
   "metadata": {},
   "outputs": [],
   "source": [
    "#merge two together\n",
    "ldn_msoas = gpd.sjoin(msoas, ldn, op='within');"
   ]
  },
  {
   "cell_type": "code",
   "execution_count": 56,
   "metadata": {},
   "outputs": [],
   "source": [
    "#del MSOA for memory\n",
    "del(msoas)"
   ]
  },
  {
   "cell_type": "code",
   "execution_count": 57,
   "metadata": {},
   "outputs": [],
   "source": [
    "#Extracting string\n",
    "ldn_msoas['Borough'] = ldn_msoas.MSOA11NM.str.replace(r' \\d+$','',regex=True)"
   ]
  },
  {
   "cell_type": "code",
   "execution_count": 58,
   "metadata": {},
   "outputs": [],
   "source": [
    "#Adding MSOA name using merge\n",
    "msoa_nms = pd.read_csv('https://github.com/wingochau/i2p_CW/raw/main/MSOA-Names-1.8.csv.gz', compression='gzip')"
   ]
  },
  {
   "cell_type": "code",
   "execution_count": 59,
   "metadata": {},
   "outputs": [],
   "source": [
    "#Merge with London MSOA\n",
    "msoas = pd.merge(ldn_msoas, msoa_nms, left_on='MSOA11CD', right_on='msoa11cd', how='inner')"
   ]
  },
  {
   "cell_type": "code",
   "execution_count": 60,
   "metadata": {},
   "outputs": [],
   "source": [
    "#Cleaning unnecessary columns\n",
    "to_drop = ['MSOA11NMW','LONG','LAT','Shape__Are','Shape__Len','index_right',\n",
    "           'original','msoa11cd','msoa11nm','msoa11nmw','Laname','msoa11hclnmw']\n",
    "msoas.drop(columns=to_drop, inplace=True)"
   ]
  },
  {
   "cell_type": "markdown",
   "metadata": {},
   "source": [
    "### 1.6.2: Coverting Airbnb data to GeoPandas"
   ]
  },
  {
   "cell_type": "code",
   "execution_count": 61,
   "metadata": {},
   "outputs": [],
   "source": [
    "gdf = gpd.GeoDataFrame(df, geometry=gpd.points_from_xy(df.longitude, df.latitude, crs='epsg:4326'))\n",
    "gdf = gdf.to_crs('epsg:27700')"
   ]
  },
  {
   "cell_type": "code",
   "execution_count": 62,
   "metadata": {},
   "outputs": [
    {
     "name": "stdout",
     "output_type": "stream",
     "text": [
      "<class 'pandas.core.groupby.generic.DataFrameGroupBy'>\n"
     ]
    }
   ],
   "source": [
    "#Adding Local Authority names\n",
    "gdf_la = gpd.sjoin(gdf, boros, op='within', how='left')\n",
    "\n",
    "#Groupping LA name in one column\n",
    "la_data = gdf_la.groupby(['NAME'])\n",
    "print(type(la_data))"
   ]
  },
  {
   "cell_type": "code",
   "execution_count": 63,
   "metadata": {},
   "outputs": [
    {
     "data": {
      "text/plain": [
       "array(['Lambeth', 'Islington', 'Kensington and Chelsea', 'Westminster',\n",
       "       'Barnet', 'Hounslow', 'Richmond upon Thames', 'Haringey',\n",
       "       'Hackney', 'Southwark', 'Tower Hamlets', 'Hammersmith and Fulham',\n",
       "       'Waltham Forest', 'Brent', 'Camden', 'Croydon', 'Merton',\n",
       "       'Wandsworth', 'Bromley', 'Greenwich', 'Lewisham', 'Ealing',\n",
       "       'Enfield', 'Newham', 'Barking and Dagenham', 'Hillingdon',\n",
       "       'Harrow', 'Redbridge', 'Kingston upon Thames', 'Havering',\n",
       "       'Bexley', 'City of London', 'Sutton'], dtype=object)"
      ]
     },
     "execution_count": 63,
     "metadata": {},
     "output_type": "execute_result"
    }
   ],
   "source": [
    "#Tidying up unnecessary data\n",
    "gdf_la.drop(columns=['index_right','HECTARES','NONLD_AREA','ONS_INNER'], inplace=True)\n",
    "gdf_la.NAME.unique()"
   ]
  },
  {
   "cell_type": "code",
   "execution_count": 106,
   "metadata": {},
   "outputs": [
    {
     "name": "stdout",
     "output_type": "stream",
     "text": [
      "(7999, 36)\n"
     ]
    }
   ],
   "source": [
    "#and dropping problematic data\n",
    "gdf_la.drop(index=gdf[gdf_la.NAME.isna()].index, axis=1, inplace=True)\n",
    "gdf_la.drop(index=gdf[gdf_la.review_scores_rating.isna()].index, axis=1, inplace=True)\n",
    "gdf_la.dropna(axis=0, how='any')\n",
    "print(gdf_la.shape)"
   ]
  },
  {
   "cell_type": "code",
   "execution_count": 77,
   "metadata": {},
   "outputs": [
    {
     "name": "stdout",
     "output_type": "stream",
     "text": [
      "(7999, 36)\n"
     ]
    }
   ],
   "source": [
    "gdf.dropna(axis=0, how='any')\n",
    "print(gdf_la.shape)"
   ]
  },
  {
   "cell_type": "code",
   "execution_count": 78,
   "metadata": {},
   "outputs": [],
   "source": [
    "#Mapping borough names\n",
    "mapping = {}\n",
    "for b in ['Enfield','Waltham Forest','Redbridge','Barking and Dagenham','Havering','Greenwich','Bexley']:\n",
    "    mapping[b]='Outer East and North East'\n",
    "for b in ['Haringey','Islington','Hackney','Tower Hamlets','Newham','Lambeth','Southwark','Lewisham']:\n",
    "    mapping[b]='Inner East'\n",
    "for b in ['Bromley','Croydon','Sutton','Merton','Kingston upon Thames']:\n",
    "    mapping[b]='Outer South'\n",
    "for b in ['Wandsworth','Kensington and Chelsea','Hammersmith and Fulham','Westminster','Camden']:\n",
    "    mapping[b]='Inner West'\n",
    "for b in ['Richmond upon Thames','Hounslow','Ealing','Hillingdon','Brent','Harrow','Barnet','City of London']:\n",
    "    mapping[b]='Outer West and North West'"
   ]
  },
  {
   "cell_type": "code",
   "execution_count": 79,
   "metadata": {},
   "outputs": [],
   "source": [
    "#Groupping borough with aggregrated review scores\n",
    "\n",
    "la_data3 = gdf_la.set_index('NAME').groupby([mapping,'room_type']).agg(\n",
    "    {'review_scores_rating':['mean','median']}\n",
    ").reset_index()"
   ]
  },
  {
   "cell_type": "code",
   "execution_count": 87,
   "metadata": {},
   "outputs": [],
   "source": [
    "#Removing NaN\n",
    "la_data3_clean = la_data3.dropna(axis=0, how='any')"
   ]
  },
  {
   "cell_type": "code",
   "execution_count": 89,
   "metadata": {},
   "outputs": [],
   "source": [
    "#Renaming\n",
    "la_data3_clean.columns = la_data3_clean.columns.droplevel(0)\n",
    "cols = la_data3_clean.columns.values\n",
    "cols[0]  = 'area'\n",
    "cols[1]  = 'room_type'\n",
    "la_data3_clean.columns = cols"
   ]
  },
  {
   "cell_type": "code",
   "execution_count": 250,
   "metadata": {},
   "outputs": [
    {
     "data": {
      "text/html": [
       "<div>\n",
       "<style scoped>\n",
       "    .dataframe tbody tr th:only-of-type {\n",
       "        vertical-align: middle;\n",
       "    }\n",
       "\n",
       "    .dataframe tbody tr th {\n",
       "        vertical-align: top;\n",
       "    }\n",
       "\n",
       "    .dataframe thead th {\n",
       "        text-align: right;\n",
       "    }\n",
       "</style>\n",
       "<table border=\"1\" class=\"dataframe\">\n",
       "  <thead>\n",
       "    <tr style=\"text-align: right;\">\n",
       "      <th></th>\n",
       "      <th>area</th>\n",
       "      <th>room_type</th>\n",
       "      <th>mean</th>\n",
       "      <th>median</th>\n",
       "    </tr>\n",
       "  </thead>\n",
       "  <tbody>\n",
       "    <tr>\n",
       "      <th>2</th>\n",
       "      <td>Inner East</td>\n",
       "      <td>Private room</td>\n",
       "      <td>93.562011</td>\n",
       "      <td>96.0</td>\n",
       "    </tr>\n",
       "    <tr>\n",
       "      <th>17</th>\n",
       "      <td>Outer West and North West</td>\n",
       "      <td>Hotel room</td>\n",
       "      <td>90.333333</td>\n",
       "      <td>91.0</td>\n",
       "    </tr>\n",
       "    <tr>\n",
       "      <th>3</th>\n",
       "      <td>Inner East</td>\n",
       "      <td>Shared room</td>\n",
       "      <td>93.533333</td>\n",
       "      <td>94.0</td>\n",
       "    </tr>\n",
       "  </tbody>\n",
       "</table>\n",
       "</div>"
      ],
      "text/plain": [
       "                         area     room_type       mean  median\n",
       "2                  Inner East  Private room  93.562011    96.0\n",
       "17  Outer West and North West    Hotel room  90.333333    91.0\n",
       "3                  Inner East   Shared room  93.533333    94.0"
      ]
     },
     "execution_count": 250,
     "metadata": {},
     "output_type": "execute_result"
    }
   ],
   "source": [
    "la_data3_clean.sample(3)"
   ]
  },
  {
   "cell_type": "markdown",
   "metadata": {},
   "source": [
    "### 1.6.3: Review Scores analysis by areas"
   ]
  },
  {
   "cell_type": "code",
   "execution_count": 247,
   "metadata": {},
   "outputs": [
    {
     "data": {
      "image/png": "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\n",
      "text/plain": [
       "<Figure size 842.4x595.44 with 1 Axes>"
      ]
     },
     "metadata": {},
     "output_type": "display_data"
    }
   ],
   "source": [
    "sns.set_theme(style=\"whitegrid\")\n",
    "\n",
    "f, ax = plt.subplots()\n",
    "sns.despine(bottom=True, left=True)\n",
    "\n",
    "g = sns.stripplot(x=\"median\", y=\"room_type\", hue=\"area\",\n",
    "              data=la_data3_clean, dodge=True, alpha=.45, zorder=1)\n",
    "g.legend_.set_title('NUTS Area')\n",
    "plt.setp(ax.get_legend().get_texts(), fontsize='18')\n",
    "plt.setp(ax.get_legend().get_title(), fontsize='18')\n",
    "\n",
    "sns.pointplot(x=\"median\", y=\"room_type\",\n",
    "              data=la_data3_clean.groupby('room_type').agg('median').reset_index(), \n",
    "              join=False, palette=\"dark\",\n",
    "              markers=\"d\", scale=5, ci=None)\n",
    "\n",
    "# See if you can work out how to set the plot x- and y-labels...\n",
    "plt.xlabel('Meidan Review Scores per Night', fontsize=18)\n",
    "plt.ylabel('Room Type', fontsize=18)\n",
    "plt.title(r\"$\\bf{\" + '[Figure 3]' + \"}$\", y=-0.2, fontsize= 20);"
   ]
  },
  {
   "cell_type": "markdown",
   "metadata": {},
   "source": [
    "### 1.6.3: Spatial analysis"
   ]
  },
  {
   "cell_type": "code",
   "execution_count": 103,
   "metadata": {},
   "outputs": [],
   "source": [
    "LA = 'Greenwich'"
   ]
  },
  {
   "cell_type": "markdown",
   "metadata": {},
   "source": [
    "#### 1.6.3.1: Spatial join"
   ]
  },
  {
   "cell_type": "code",
   "execution_count": 105,
   "metadata": {},
   "outputs": [],
   "source": [
    "msoadf  = gpd.sjoin(\n",
    "            gdf_la[gdf_la.NAME==LA].reset_index(), \n",
    "            msoas[msoas.Borough==LA], op='within')"
   ]
  },
  {
   "cell_type": "code",
   "execution_count": 107,
   "metadata": {},
   "outputs": [],
   "source": [
    "msoagrdf = msoadf.groupby('MSOA11NM').agg({'review_scores_rating':['median','count']}).reset_index()"
   ]
  },
  {
   "cell_type": "code",
   "execution_count": 109,
   "metadata": {},
   "outputs": [
    {
     "ename": "IndexError",
     "evalue": "Too many levels: Index has only 1 level, not 2",
     "output_type": "error",
     "traceback": [
      "\u001b[0;31m---------------------------------------------------------------------------\u001b[0m",
      "\u001b[0;31mIndexError\u001b[0m                                Traceback (most recent call last)",
      "\u001b[0;32m<ipython-input-109-f2945f645ccb>\u001b[0m in \u001b[0;36m<module>\u001b[0;34m\u001b[0m\n\u001b[1;32m      1\u001b[0m \u001b[0;31m#level 1 as columns\u001b[0m\u001b[0;34m\u001b[0m\u001b[0;34m\u001b[0m\u001b[0;34m\u001b[0m\u001b[0m\n\u001b[0;32m----> 2\u001b[0;31m \u001b[0mmsoagrdf\u001b[0m\u001b[0;34m.\u001b[0m\u001b[0mcolumns\u001b[0m \u001b[0;34m=\u001b[0m \u001b[0mmsoagrdf\u001b[0m\u001b[0;34m.\u001b[0m\u001b[0mcolumns\u001b[0m\u001b[0;34m.\u001b[0m\u001b[0mget_level_values\u001b[0m\u001b[0;34m(\u001b[0m\u001b[0;36m1\u001b[0m\u001b[0;34m)\u001b[0m\u001b[0;34m\u001b[0m\u001b[0;34m\u001b[0m\u001b[0m\n\u001b[0m\u001b[1;32m      3\u001b[0m \u001b[0;34m\u001b[0m\u001b[0m\n\u001b[1;32m      4\u001b[0m \u001b[0;31m#and to fix missing column names\u001b[0m\u001b[0;34m\u001b[0m\u001b[0;34m\u001b[0m\u001b[0;34m\u001b[0m\u001b[0m\n\u001b[1;32m      5\u001b[0m \u001b[0mmsoagrdf\u001b[0m\u001b[0;34m.\u001b[0m\u001b[0mrename\u001b[0m\u001b[0;34m(\u001b[0m\u001b[0mcolumns\u001b[0m\u001b[0;34m=\u001b[0m\u001b[0;34m{\u001b[0m\u001b[0;34m''\u001b[0m\u001b[0;34m:\u001b[0m\u001b[0;34m'MSOA11NM'\u001b[0m\u001b[0;34m,\u001b[0m \u001b[0;34m'count'\u001b[0m\u001b[0;34m:\u001b[0m\u001b[0;34m'listings'\u001b[0m\u001b[0;34m}\u001b[0m\u001b[0;34m,\u001b[0m \u001b[0minplace\u001b[0m\u001b[0;34m=\u001b[0m\u001b[0;32mTrue\u001b[0m\u001b[0;34m)\u001b[0m\u001b[0;34m\u001b[0m\u001b[0;34m\u001b[0m\u001b[0m\n",
      "\u001b[0;32m/opt/conda/envs/sds2020/lib/python3.7/site-packages/pandas/core/indexes/base.py\u001b[0m in \u001b[0;36m_get_level_values\u001b[0;34m(self, level)\u001b[0m\n\u001b[1;32m   1467\u001b[0m         \u001b[0mIndex\u001b[0m\u001b[0;34m(\u001b[0m\u001b[0;34m[\u001b[0m\u001b[0;34m'a'\u001b[0m\u001b[0;34m,\u001b[0m \u001b[0;34m'b'\u001b[0m\u001b[0;34m,\u001b[0m \u001b[0;34m'c'\u001b[0m\u001b[0;34m]\u001b[0m\u001b[0;34m,\u001b[0m \u001b[0mdtype\u001b[0m\u001b[0;34m=\u001b[0m\u001b[0;34m'object'\u001b[0m\u001b[0;34m)\u001b[0m\u001b[0;34m\u001b[0m\u001b[0;34m\u001b[0m\u001b[0m\n\u001b[1;32m   1468\u001b[0m         \"\"\"\n\u001b[0;32m-> 1469\u001b[0;31m         \u001b[0mself\u001b[0m\u001b[0;34m.\u001b[0m\u001b[0m_validate_index_level\u001b[0m\u001b[0;34m(\u001b[0m\u001b[0mlevel\u001b[0m\u001b[0;34m)\u001b[0m\u001b[0;34m\u001b[0m\u001b[0;34m\u001b[0m\u001b[0m\n\u001b[0m\u001b[1;32m   1470\u001b[0m         \u001b[0;32mreturn\u001b[0m \u001b[0mself\u001b[0m\u001b[0;34m\u001b[0m\u001b[0;34m\u001b[0m\u001b[0m\n\u001b[1;32m   1471\u001b[0m \u001b[0;34m\u001b[0m\u001b[0m\n",
      "\u001b[0;32m/opt/conda/envs/sds2020/lib/python3.7/site-packages/pandas/core/indexes/base.py\u001b[0m in \u001b[0;36m_validate_index_level\u001b[0;34m(self, level)\u001b[0m\n\u001b[1;32m   1401\u001b[0m             \u001b[0;32melif\u001b[0m \u001b[0mlevel\u001b[0m \u001b[0;34m>\u001b[0m \u001b[0;36m0\u001b[0m\u001b[0;34m:\u001b[0m\u001b[0;34m\u001b[0m\u001b[0;34m\u001b[0m\u001b[0m\n\u001b[1;32m   1402\u001b[0m                 raise IndexError(\n\u001b[0;32m-> 1403\u001b[0;31m                     \u001b[0;34mf\"Too many levels: Index has only 1 level, not {level + 1}\"\u001b[0m\u001b[0;34m\u001b[0m\u001b[0;34m\u001b[0m\u001b[0m\n\u001b[0m\u001b[1;32m   1404\u001b[0m                 )\n\u001b[1;32m   1405\u001b[0m         \u001b[0;32melif\u001b[0m \u001b[0mlevel\u001b[0m \u001b[0;34m!=\u001b[0m \u001b[0mself\u001b[0m\u001b[0;34m.\u001b[0m\u001b[0mname\u001b[0m\u001b[0;34m:\u001b[0m\u001b[0;34m\u001b[0m\u001b[0;34m\u001b[0m\u001b[0m\n",
      "\u001b[0;31mIndexError\u001b[0m: Too many levels: Index has only 1 level, not 2"
     ]
    }
   ],
   "source": [
    "#level 1 as columns\n",
    "msoagrdf.columns = msoagrdf.columns.get_level_values(1)"
   ]
  },
  {
   "cell_type": "code",
   "execution_count": 110,
   "metadata": {},
   "outputs": [],
   "source": [
    "#and to fix missing column names\n",
    "msoagrdf.rename(columns={'':'MSOA11NM', 'count':'listings'}, inplace=True)"
   ]
  },
  {
   "cell_type": "markdown",
   "metadata": {},
   "source": [
    "#### 1.6.3.2: Join on indexes"
   ]
  },
  {
   "cell_type": "code",
   "execution_count": 111,
   "metadata": {},
   "outputs": [],
   "source": [
    "#letting the Greenwich area to join with the msoas data\n",
    "msoa_gdf = msoagrdf.set_index('MSOA11NM').join(\n",
    "                msoas[msoas.Borough==LA].set_index('MSOA11NM'), \n",
    "                rsuffix='_r')"
   ]
  },
  {
   "cell_type": "code",
   "execution_count": 125,
   "metadata": {},
   "outputs": [
    {
     "data": {
      "image/png": "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\n",
      "text/plain": [
       "<Figure size 576x576 with 2 Axes>"
      ]
     },
     "metadata": {},
     "output_type": "display_data"
    }
   ],
   "source": [
    "msoa_gdf = msoa_gdf.set_geometry('geometry')\n",
    "msoa_gdf.plot(column='median', legend=True, figsize=(8,8));"
   ]
  },
  {
   "cell_type": "code",
   "execution_count": 128,
   "metadata": {},
   "outputs": [
    {
     "name": "stdout",
     "output_type": "stream",
     "text": [
      "fontlist-v330.json\n"
     ]
    }
   ],
   "source": [
    "loc = matplotlib.get_cachedir()\n",
    "!ls {loc}"
   ]
  },
  {
   "cell_type": "code",
   "execution_count": 129,
   "metadata": {},
   "outputs": [],
   "source": [
    "fonts = !cat {loc + '/fontlist-v330.json'}\n",
    "fonts = set(list(filter(lambda x:'\"name\"' in x, fonts)))\n",
    "fonts = [x.replace('      \"name\": \"','').replace('\",','') for x in fonts]"
   ]
  },
  {
   "cell_type": "code",
   "execution_count": 130,
   "metadata": {},
   "outputs": [],
   "source": [
    "tfont = {'fontname':'Liberation Sans Narrow', 'horizontalalignment':'left'}"
   ]
  },
  {
   "cell_type": "code",
   "execution_count": 276,
   "metadata": {},
   "outputs": [
    {
     "data": {
      "image/png": "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\n",
      "text/plain": [
       "<Figure size 864x576 with 5 Axes>"
      ]
     },
     "metadata": {},
     "output_type": "display_data"
    }
   ],
   "source": [
    "f,axes = plt.subplots(1,2,figsize=(12,8))\n",
    "\n",
    "msoa_gdf.plot(column='median', ax=axes[0], legend=True, cmap='RdYlGn')\n",
    "msoa_gdf.copy().plot(column='listings', ax=axes[1], legend=True, cmap='PuOr')\n",
    "for ax in axes:\n",
    "    ax.axis('off')\n",
    "    \n",
    "ax2 = f.add_axes([0.015, 0.7, 0.2, 0.2])\n",
    "boros.plot(facecolor='lightgrey', edgecolor='None', ax=ax2)\n",
    "boros[boros.NAME==LA].plot(facecolor='r', edgecolor='r', hatch='///', ax=ax2)\n",
    "ax2.axis('off')\n",
    "\n",
    "f.suptitle(r\"$\\bf{\" + LA + \"}$\", x=0.025, ha='left', size=24, **tfont)\n",
    "axes[0].set_title('Median Review Scores', size=22, **tfont, loc='left', y=-0.2, color='navy')\n",
    "axes[1].set_title('Listings', size=22, **tfont, loc='center', y=-0.2, color='navy')\n",
    "\n",
    "plt.title('[Figure4]', x=1.3, y=1.2, fontsize= 18)\n",
    "plt.figtext(x=0.025, y=0.65, s=f\"Total Listings: {msoa_gdf.listings.sum():,.0f}\", size=17, **tfont);"
   ]
  },
  {
   "cell_type": "markdown",
   "metadata": {},
   "source": [
    "# 2： Executive Briefing"
   ]
  },
  {
   "cell_type": "markdown",
   "metadata": {},
   "source": [
    "## 2.1: Executive Summary"
   ]
  },
  {
   "cell_type": "markdown",
   "metadata": {},
   "source": [
    "With the impact of the COVID-19 since 2020, it caused inconvenience but also derived several investment opportunities. The coronavirus limits human activities, people spend times mostly with their family in the same area. However, it creates different issues such as a high probability of arguing with family and the threat of cross infection. Therefore, the demand for extra spacing has derived during this period of time. Although the entire economy is experiencing a recession and rental market is seen as to be silent, the review of evidence and data analysis from Airbnb data in London prove that it is still a great moment to invest the Airbnb's listings in London over the pandemic."
   ]
  },
  {
   "cell_type": "markdown",
   "metadata": {},
   "source": [
    "### 2.1.2: Recommendations"
   ]
  },
  {
   "cell_type": "markdown",
   "metadata": {},
   "source": [
    "The investment approach is recommended to be \"stocking-up\" the portfolio, instead of making short-term cash inflow. Economic recession is timing for buying cheaper securities. Based on the data analysis, it revealed that the room type with the entire home/apartment in the East of London is the most needed property. Among with inner and outer East London, the recommendation is to invest in Greenwich. It is a place where surrounds with core areas such as Canary Wharf and London Bridge. In light of the \"stock-up\" perspective, it provides high value appreciation and greater performance in terms of Airbnb's users' review scores. This investment in Airbnb London would enhance the investment portfolio with lower costs to buy in during the pandemic, and greater outcomes once the economy is recovered."
   ]
  },
  {
   "cell_type": "markdown",
   "metadata": {},
   "source": [
    "## 2.2: Review of Evidence"
   ]
  },
  {
   "cell_type": "markdown",
   "metadata": {},
   "source": [
    "The COVID-19 has been affecting human activities throughout the entire 2020. For the people who unfortunately are or potentially infected, under the current UK restriction, they are recommended to conduct a self-isolation (GOV.UK, 2021b). Due to the avoidance of cross infection, it creates the needs of alternative accommodation. In the following section, it is going to demonstrate the potentials and possible risks on investing Airbnb's listings during the pandemic."
   ]
  },
  {
   "cell_type": "markdown",
   "metadata": {},
   "source": [
    "### 2.2.1: Investment Risks"
   ]
  },
  {
   "cell_type": "markdown",
   "metadata": {},
   "source": [
    "First of all, the current renting market is relatively weak. Due to the impact of the coronavirus, it is experiencing a huge reduction in tourism. Comparing to the same rent in last year, the average rent in London declined by 4.2% with approximately £1,800 per month and dropped 8.4% in inner London (Ivey, 2020). Consequently, it indicated that renting a property in London might suffer a lower price in comparison to previous years.\n",
    "\n",
    "Moreover, another investment risk is that Airbnb's hosts tend to be more risk-averse at the moment. According to The Guardian (Collinson, 2020), Airbnb's owners in London are moving their property onto the long-term rental market. It reflected that the entire market reaction tends to be passive, Airbnb's property owners in London lacked the confidence to thrive in the short run. As the market is now taking the long-term approach such as longer renting period per user, this timing to invest in might be a high risk decision.\n",
    "\n",
    "However, these potential investment risks could be seen as chances. These two risks are defined as systematic risks in finance terms, which is determined by the market but not the business itself. During the weak economy, in other words, it is relatively cheaper to purchase a property. Also, when Airbnb's hosts are no longer providing short-term rental, it creates a demand correspondingly. As a result, it is recommended that this period of time is suitable to \"stock-up\" the investment portfolio.\n",
    "\n",
    "The sections below are going to indicate the opportunities and its rationale for the rental industry itself."
   ]
  },
  {
   "cell_type": "markdown",
   "metadata": {},
   "source": [
    "### 2.2.2: Investment Opportunities"
   ]
  },
  {
   "cell_type": "markdown",
   "metadata": {},
   "source": [
    "The first investment opportunity under the pandemic would be providing a listings where is lower infection rate. For the current situation of Covid-19 in the UK, there was nearly 60,000 confirmed daily cases recorded on 4 January 2021 and the new variant of virus was found in London (GOV.UK, 2021a; Ross and Spence, 2020). Consequently, the demand for \"safe bubble\" is expected to grow in the following months. According to the lower tier local authority watchlist (GOV.UK, 2020), the whole London is seen as Tier 4 which indicates that the COVID-19 rate by the local authority is more than 400 cases per a thousand of population. In which, the report demonstrated that the east of London recorded a relatively lower weekly case rate. The safer place is likely to provide attractiveness for Airbnb's users to choose to live under the current circumstances.\n",
    "\n",
    "Looking more into a consumer behaviour perspective, under the impacts of the pandemic, it reveals that the second opportunity is the needs of spacing. Based on the sociological research, part of the interviewees showed that 51% of them have argued with family or people who live together over the coronavirus (Duffy, 2020). The lockdown policy could help to reduce human mobility by staying in their homes, meanwhile it creates arguments within a family. Thus, providing an extra spacing (Airbnb) for this group of people would be a potential business opportunity, while solving the problem of safety and mental quality."
   ]
  },
  {
   "cell_type": "markdown",
   "metadata": {},
   "source": [
    "## 2.3: Data Analysis"
   ]
  },
  {
   "cell_type": "markdown",
   "metadata": {},
   "source": [
    "In this section, it is going to analyse the Airbnb data in London provided from InsideAirbnb up to November 2020, in order to provide the optimal listings type to invest."
   ]
  },
  {
   "cell_type": "markdown",
   "metadata": {},
   "source": [
    "### 2.3.1: The most popular room type in 30 days"
   ]
  },
  {
   "cell_type": "markdown",
   "metadata": {},
   "source": [
    "After cleaning and processing the Airbnb data, Figure 1 showed that the entire home/apartment is the most needed room type on a 30 day basis. The selection of 30 days is because of the consideration of self-quarantine and the recovery of psychological issues. It assumes that the use of Airbnb's listings is for 14-21 days self-isolation or the short-term avoidance of family issues.\n",
    "\n",
    "Comparing to other room types, the interquartile of entire home/apartment is relatively left-skewed. In which, it means that the majority of the rental transactions for this room type is ranged around 0 to 20 availability in 30 days. Thus, investing in an entire home/apartment is likely to have a high demand than other room types in the short-term. It consists of the evidence in the above sections, as the entire property provides high privacy, safety and spacing for users under the pandemic."
   ]
  },
  {
   "cell_type": "code",
   "execution_count": 251,
   "metadata": {},
   "outputs": [
    {
     "data": {
      "text/plain": [
       "Text(0.5, -0.3, '$\\\\bf{[Figure 1]}$')"
      ]
     },
     "execution_count": 251,
     "metadata": {},
     "output_type": "execute_result"
    },
    {
     "data": {
      "image/png": "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\n",
      "text/plain": [
       "<Figure size 576x360 with 1 Axes>"
      ]
     },
     "metadata": {},
     "output_type": "display_data"
    }
   ],
   "source": [
    "sns.set_style('whitegrid')\n",
    "sns.set_theme(style=\"ticks\", palette=\"pastel\")\n",
    "f,ax = plt.subplots(figsize=(8,5))\n",
    "sns.boxplot(y=df.availability_30, x=df.room_type)\n",
    "sns.despine(offset=10)\n",
    "ax.set_ylim([0,30])\n",
    "plt.title(r\"$\\bf{\" + '[Figure 1]' + \"}$\", y=-0.3, fontsize= 20)"
   ]
  },
  {
   "cell_type": "markdown",
   "metadata": {},
   "source": [
    "### 2.3.2: Rental prices in London Airbnb's listings"
   ]
  },
  {
   "cell_type": "markdown",
   "metadata": {},
   "source": [
    "Figure 2 indicated the distribution of rental prices for Airbnb's listings in London, the trend of the prices is also left-skewed. It showed that prices were concentrated on around £100 per night and below £100 hold the largest proportion. The result explained the fact that the rental prices performed feebly in general over the year. If invested in the rental industry, it is unlikely to set a price above this range. In a monthly basis, the average rental income would be expected as £1,500 [W1] per month under the current market price. If this investment action is taken, it is required to have an additional cash flow to support the business until the economy in London is recovered. However, as mentioned above, this investment is mainly for \"stocking-up\" the portfolio and gaining market shares during the weak economy.\n",
    "\n",
    "[W1] \\\n",
    "(£100/2)* 30 days= £1500"
   ]
  },
  {
   "cell_type": "code",
   "execution_count": 252,
   "metadata": {},
   "outputs": [
    {
     "name": "stderr",
     "output_type": "stream",
     "text": [
      "/opt/conda/envs/sds2020/lib/python3.7/site-packages/seaborn/distributions.py:2551: FutureWarning: `distplot` is a deprecated function and will be removed in a future version. Please adapt your code to use either `displot` (a figure-level function with similar flexibility) or `histplot` (an axes-level function for histograms).\n",
      "  warnings.warn(msg, FutureWarning)\n"
     ]
    },
    {
     "data": {
      "text/plain": [
       "Text(0.5, -0.2, '$\\\\bf{[Figure 2]}$')"
      ]
     },
     "execution_count": 252,
     "metadata": {},
     "output_type": "execute_result"
    },
    {
     "data": {
      "image/png": "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\n",
      "text/plain": [
       "<Figure size 842.4x595.44 with 1 Axes>"
      ]
     },
     "metadata": {},
     "output_type": "display_data"
    }
   ],
   "source": [
    "sns.distplot(df['price'], hist=True, kde=True, \n",
    "             bins=500, color = 'darkblue', \n",
    "             hist_kws={'edgecolor':'black'},\n",
    "             kde_kws={'linewidth': 4})\n",
    "sns.set(rc={'figure.figsize':(11.7,8.27)})\n",
    "plt.xlim(0, 650)\n",
    "plt.title(r\"$\\bf{\" + '[Figure 2]' + \"}$\", y=-0.2, fontsize= 15)"
   ]
  },
  {
   "cell_type": "markdown",
   "metadata": {},
   "source": [
    "### 2.3.3: The Review Scores of Room Types by Different Areas"
   ]
  },
  {
   "cell_type": "markdown",
   "metadata": {},
   "source": [
    "Figure 3 provided an insight into review scores by different London areas. Referring to section 2.3.1, the entire home/apartment is the most needed room types. In this figure, we can see that this room type performed outstandingly in the inner East of London. Besides, another highest median review scores recorded from the private room was also found in the East of London (Outer East and North East). It concluded that if the investment is for the property in the East of London, it is most likely to have a high review score which is a median of 96 from Airbnb's users."
   ]
  },
  {
   "cell_type": "code",
   "execution_count": 274,
   "metadata": {},
   "outputs": [
    {
     "data": {
      "image/png": "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\n",
      "text/plain": [
       "<Figure size 842.4x595.44 with 1 Axes>"
      ]
     },
     "metadata": {},
     "output_type": "display_data"
    }
   ],
   "source": [
    "sns.set_theme(style=\"whitegrid\")\n",
    "\n",
    "f, ax = plt.subplots()\n",
    "sns.despine(bottom=True, left=True)\n",
    "\n",
    "g = sns.stripplot(x=\"median\", y=\"room_type\", hue=\"area\",\n",
    "              data=la_data3_clean, dodge=True, alpha=.45, zorder=1)\n",
    "g.legend_.set_title('NUTS Area')\n",
    "plt.setp(ax.get_legend().get_texts(), fontsize='18')\n",
    "plt.setp(ax.get_legend().get_title(), fontsize='18')\n",
    "\n",
    "sns.pointplot(x=\"median\", y=\"room_type\",\n",
    "              data=la_data3_clean.groupby('room_type').agg('median').reset_index(), \n",
    "              join=False, palette=\"dark\",\n",
    "              markers=\"d\", scale=5, ci=None)\n",
    "\n",
    "# See if you can work out how to set the plot x- and y-labels...\n",
    "plt.xlabel('Meidan Review Scores per Night', fontsize=18)\n",
    "plt.ylabel('Room Type', fontsize=18)\n",
    "plt.title(r\"$\\bf{\" + '[Figure 3]' + \"}$\", y=-0.2, fontsize= 20);"
   ]
  },
  {
   "cell_type": "markdown",
   "metadata": {},
   "source": [
    "### 2.3.4: The Optimal Location for Investment"
   ]
  },
  {
   "cell_type": "markdown",
   "metadata": {},
   "source": [
    "In here, we picked Greenwich as our target place to investigate. It is because it locates in East London, and Greenwich is a potential location to invest in as there is a new residential neighbourhood completed by O2 in 2020 (Bloomfield, 2020). This location provides us with an option to choose and its surrounds with core places such as Canary Wharf and London Bridge, a huge possibility for value appreciation.\n",
    "\n",
    "Figure 4 demonstrated the amount of listings in Greenwich and the median review scores on a visualised map. There are 119 listings in Greenwich, in which the highest median review scores were focused on the east. By observing the amount of listings, it showed a low density of ownership in these areas with high review scores. It revealed a remarkable customer review for the listings in this area, investing in here is likely to have a better consumption and \"re-purchasing effect\".\n",
    "\n",
    "As a result, the data analysis reflected that the investment is optimised when the property is bought in the east of Greenwich. Despite the market recession, a listings with entire home/apartment room type in this location has the highest possibility to obtain greater review scores and better value appreciation in the future comparing to other places."
   ]
  },
  {
   "cell_type": "code",
   "execution_count": 275,
   "metadata": {},
   "outputs": [
    {
     "data": {
      "image/png": "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
