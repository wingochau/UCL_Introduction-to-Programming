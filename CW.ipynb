{
 "cells": [
  {
   "cell_type": "markdown",
   "metadata": {},
   "source": [
    "## Front Matter\n",
    "Module name and number: CASA0013 - Introduction to Programming for Spatial Analysts\n",
    "\\\n",
    "Student ID: 19113428\n",
    "\\\n",
    "Title: To the Chief Executive of an Investment Company - Opportunities and Risks arising from Covid-19\n",
    "\\\n",
    "Word Count: 2427\n",
    "\\\n",
    "Github Link: https://github.com/wingochau/i2p_CW.git"
   ]
  },
  {
   "cell_type": "markdown",
   "metadata": {},
   "source": [
    "# 1: Reproducible Analysis"
   ]
  },
  {
   "cell_type": "markdown",
   "metadata": {},
   "source": [
    "## 1.1: Packages"
   ]
  },
  {
   "cell_type": "code",
   "execution_count": 1,
   "metadata": {},
   "outputs": [],
   "source": [
    "#import packages\n",
    "import pandas as pd\n",
    "import matplotlib.pyplot as plt\n",
    "import matplotlib as mpl\n",
    "import os\n",
    "import seaborn as sns\n",
    "import geopandas as gpd\n",
    "import scipy.stats as ss\n",
    "import matplotlib.cm as cm\n",
    "import matplotlib"
   ]
  },
  {
   "cell_type": "code",
   "execution_count": 2,
   "metadata": {},
   "outputs": [],
   "source": [
    "import numpy as np\n",
    "np.random.seed(12345789) # For reproducibility\n",
    "import random \n",
    "random.seed(123456789) # For reproducibility"
   ]
  },
  {
   "cell_type": "markdown",
   "metadata": {},
   "source": [
    "## 1.2: Read files"
   ]
  },
  {
   "cell_type": "code",
   "execution_count": 3,
   "metadata": {},
   "outputs": [
    {
     "name": "stdout",
     "output_type": "stream",
     "text": [
      "Full data set shape is: 76984 by 74\n"
     ]
    }
   ],
   "source": [
    "#read files\n",
    "local_path  = os.path.join('listings.csv.gz')\n",
    "remote_path = 'http://data.insideairbnb.com/united-kingdom/england/london/2020-11-06/data/listings.csv.gz'\n",
    "url= 'http://data.insideairbnb.com/united-kingdom/england/london/2020-11-06/data/listings.csv.gz'\n",
    "\n",
    "if os.path.exists(local_path):\n",
    "    df = pd.read_csv(local_path, compression='gzip', low_memory=False)\n",
    "else:\n",
    "    df = pd.read_csv(remote_path, compression='gzip', low_memory=False)\n",
    "    df.to_csv(local_path, compression='gzip')\n",
    "\n",
    "print(\"Full data set shape is: \" + ' by '.join(str(i) for i in df.shape))"
   ]
  },
  {
   "cell_type": "code",
   "execution_count": 4,
   "metadata": {},
   "outputs": [
    {
     "name": "stdout",
     "output_type": "stream",
     "text": [
      "Sample data set shape is: 7698, 74\n"
     ]
    },
    {
     "data": {
      "text/html": [
       "<div>\n",
       "<style scoped>\n",
       "    .dataframe tbody tr th:only-of-type {\n",
       "        vertical-align: middle;\n",
       "    }\n",
       "\n",
       "    .dataframe tbody tr th {\n",
       "        vertical-align: top;\n",
       "    }\n",
       "\n",
       "    .dataframe thead th {\n",
       "        text-align: right;\n",
       "    }\n",
       "</style>\n",
       "<table border=\"1\" class=\"dataframe\">\n",
       "  <thead>\n",
       "    <tr style=\"text-align: right;\">\n",
       "      <th></th>\n",
       "      <th>id</th>\n",
       "      <th>scrape_id</th>\n",
       "      <th>host_id</th>\n",
       "      <th>host_listings_count</th>\n",
       "      <th>host_total_listings_count</th>\n",
       "      <th>neighbourhood_group_cleansed</th>\n",
       "      <th>latitude</th>\n",
       "      <th>longitude</th>\n",
       "      <th>accommodates</th>\n",
       "      <th>bathrooms</th>\n",
       "      <th>...</th>\n",
       "      <th>review_scores_checkin</th>\n",
       "      <th>review_scores_communication</th>\n",
       "      <th>review_scores_location</th>\n",
       "      <th>review_scores_value</th>\n",
       "      <th>license</th>\n",
       "      <th>calculated_host_listings_count</th>\n",
       "      <th>calculated_host_listings_count_entire_homes</th>\n",
       "      <th>calculated_host_listings_count_private_rooms</th>\n",
       "      <th>calculated_host_listings_count_shared_rooms</th>\n",
       "      <th>reviews_per_month</th>\n",
       "    </tr>\n",
       "  </thead>\n",
       "  <tbody>\n",
       "    <tr>\n",
       "      <th>count</th>\n",
       "      <td>7.698000e+03</td>\n",
       "      <td>7.698000e+03</td>\n",
       "      <td>7.698000e+03</td>\n",
       "      <td>7698.000000</td>\n",
       "      <td>7698.000000</td>\n",
       "      <td>0.0</td>\n",
       "      <td>7698.000000</td>\n",
       "      <td>7698.000000</td>\n",
       "      <td>7698.000000</td>\n",
       "      <td>0.0</td>\n",
       "      <td>...</td>\n",
       "      <td>5359.000000</td>\n",
       "      <td>5363.000000</td>\n",
       "      <td>5359.000000</td>\n",
       "      <td>5359.000000</td>\n",
       "      <td>0.0</td>\n",
       "      <td>7698.000000</td>\n",
       "      <td>7698.000000</td>\n",
       "      <td>7698.000000</td>\n",
       "      <td>7698.000000</td>\n",
       "      <td>5550.000000</td>\n",
       "    </tr>\n",
       "    <tr>\n",
       "      <th>mean</th>\n",
       "      <td>2.559610e+07</td>\n",
       "      <td>2.020111e+13</td>\n",
       "      <td>9.453832e+07</td>\n",
       "      <td>22.203819</td>\n",
       "      <td>22.203819</td>\n",
       "      <td>NaN</td>\n",
       "      <td>51.510249</td>\n",
       "      <td>-0.128654</td>\n",
       "      <td>3.075344</td>\n",
       "      <td>NaN</td>\n",
       "      <td>...</td>\n",
       "      <td>9.661691</td>\n",
       "      <td>9.683200</td>\n",
       "      <td>9.564471</td>\n",
       "      <td>9.302295</td>\n",
       "      <td>NaN</td>\n",
       "      <td>18.669525</td>\n",
       "      <td>16.139257</td>\n",
       "      <td>1.974669</td>\n",
       "      <td>0.032736</td>\n",
       "      <td>0.654137</td>\n",
       "    </tr>\n",
       "    <tr>\n",
       "      <th>std</th>\n",
       "      <td>1.316050e+07</td>\n",
       "      <td>0.000000e+00</td>\n",
       "      <td>1.002186e+08</td>\n",
       "      <td>119.781323</td>\n",
       "      <td>119.781323</td>\n",
       "      <td>NaN</td>\n",
       "      <td>0.047306</td>\n",
       "      <td>0.095012</td>\n",
       "      <td>1.937248</td>\n",
       "      <td>NaN</td>\n",
       "      <td>...</td>\n",
       "      <td>0.913550</td>\n",
       "      <td>0.876648</td>\n",
       "      <td>0.825756</td>\n",
       "      <td>1.059122</td>\n",
       "      <td>NaN</td>\n",
       "      <td>95.219054</td>\n",
       "      <td>93.237539</td>\n",
       "      <td>13.105473</td>\n",
       "      <td>0.460433</td>\n",
       "      <td>0.929165</td>\n",
       "    </tr>\n",
       "    <tr>\n",
       "      <th>min</th>\n",
       "      <td>2.512300e+04</td>\n",
       "      <td>2.020111e+13</td>\n",
       "      <td>4.775000e+03</td>\n",
       "      <td>0.000000</td>\n",
       "      <td>0.000000</td>\n",
       "      <td>NaN</td>\n",
       "      <td>51.283370</td>\n",
       "      <td>-0.484930</td>\n",
       "      <td>1.000000</td>\n",
       "      <td>NaN</td>\n",
       "      <td>...</td>\n",
       "      <td>2.000000</td>\n",
       "      <td>2.000000</td>\n",
       "      <td>2.000000</td>\n",
       "      <td>2.000000</td>\n",
       "      <td>NaN</td>\n",
       "      <td>1.000000</td>\n",
       "      <td>0.000000</td>\n",
       "      <td>0.000000</td>\n",
       "      <td>0.000000</td>\n",
       "      <td>0.010000</td>\n",
       "    </tr>\n",
       "    <tr>\n",
       "      <th>25%</th>\n",
       "      <td>1.517957e+07</td>\n",
       "      <td>2.020111e+13</td>\n",
       "      <td>1.568120e+07</td>\n",
       "      <td>1.000000</td>\n",
       "      <td>1.000000</td>\n",
       "      <td>NaN</td>\n",
       "      <td>51.484607</td>\n",
       "      <td>-0.189537</td>\n",
       "      <td>2.000000</td>\n",
       "      <td>NaN</td>\n",
       "      <td>...</td>\n",
       "      <td>10.000000</td>\n",
       "      <td>10.000000</td>\n",
       "      <td>9.000000</td>\n",
       "      <td>9.000000</td>\n",
       "      <td>NaN</td>\n",
       "      <td>1.000000</td>\n",
       "      <td>0.000000</td>\n",
       "      <td>0.000000</td>\n",
       "      <td>0.000000</td>\n",
       "      <td>0.110000</td>\n",
       "    </tr>\n",
       "    <tr>\n",
       "      <th>50%</th>\n",
       "      <td>2.564122e+07</td>\n",
       "      <td>2.020111e+13</td>\n",
       "      <td>4.922200e+07</td>\n",
       "      <td>1.000000</td>\n",
       "      <td>1.000000</td>\n",
       "      <td>NaN</td>\n",
       "      <td>51.514090</td>\n",
       "      <td>-0.127760</td>\n",
       "      <td>2.000000</td>\n",
       "      <td>NaN</td>\n",
       "      <td>...</td>\n",
       "      <td>10.000000</td>\n",
       "      <td>10.000000</td>\n",
       "      <td>10.000000</td>\n",
       "      <td>10.000000</td>\n",
       "      <td>NaN</td>\n",
       "      <td>1.000000</td>\n",
       "      <td>1.000000</td>\n",
       "      <td>1.000000</td>\n",
       "      <td>0.000000</td>\n",
       "      <td>0.340000</td>\n",
       "    </tr>\n",
       "    <tr>\n",
       "      <th>75%</th>\n",
       "      <td>3.745318e+07</td>\n",
       "      <td>2.020111e+13</td>\n",
       "      <td>1.530581e+08</td>\n",
       "      <td>3.000000</td>\n",
       "      <td>3.000000</td>\n",
       "      <td>NaN</td>\n",
       "      <td>51.539648</td>\n",
       "      <td>-0.069153</td>\n",
       "      <td>4.000000</td>\n",
       "      <td>NaN</td>\n",
       "      <td>...</td>\n",
       "      <td>10.000000</td>\n",
       "      <td>10.000000</td>\n",
       "      <td>10.000000</td>\n",
       "      <td>10.000000</td>\n",
       "      <td>NaN</td>\n",
       "      <td>3.000000</td>\n",
       "      <td>1.000000</td>\n",
       "      <td>1.000000</td>\n",
       "      <td>0.000000</td>\n",
       "      <td>0.830000</td>\n",
       "    </tr>\n",
       "    <tr>\n",
       "      <th>max</th>\n",
       "      <td>4.625469e+07</td>\n",
       "      <td>2.020111e+13</td>\n",
       "      <td>3.744656e+08</td>\n",
       "      <td>1105.000000</td>\n",
       "      <td>1105.000000</td>\n",
       "      <td>NaN</td>\n",
       "      <td>51.671810</td>\n",
       "      <td>0.288570</td>\n",
       "      <td>16.000000</td>\n",
       "      <td>NaN</td>\n",
       "      <td>...</td>\n",
       "      <td>10.000000</td>\n",
       "      <td>10.000000</td>\n",
       "      <td>10.000000</td>\n",
       "      <td>10.000000</td>\n",
       "      <td>NaN</td>\n",
       "      <td>878.000000</td>\n",
       "      <td>877.000000</td>\n",
       "      <td>249.000000</td>\n",
       "      <td>18.000000</td>\n",
       "      <td>18.700000</td>\n",
       "    </tr>\n",
       "  </tbody>\n",
       "</table>\n",
       "<p>8 rows × 41 columns</p>\n",
       "</div>"
      ],
      "text/plain": [
       "                 id     scrape_id       host_id  host_listings_count  \\\n",
       "count  7.698000e+03  7.698000e+03  7.698000e+03          7698.000000   \n",
       "mean   2.559610e+07  2.020111e+13  9.453832e+07            22.203819   \n",
       "std    1.316050e+07  0.000000e+00  1.002186e+08           119.781323   \n",
       "min    2.512300e+04  2.020111e+13  4.775000e+03             0.000000   \n",
       "25%    1.517957e+07  2.020111e+13  1.568120e+07             1.000000   \n",
       "50%    2.564122e+07  2.020111e+13  4.922200e+07             1.000000   \n",
       "75%    3.745318e+07  2.020111e+13  1.530581e+08             3.000000   \n",
       "max    4.625469e+07  2.020111e+13  3.744656e+08          1105.000000   \n",
       "\n",
       "       host_total_listings_count  neighbourhood_group_cleansed     latitude  \\\n",
       "count                7698.000000                           0.0  7698.000000   \n",
       "mean                   22.203819                           NaN    51.510249   \n",
       "std                   119.781323                           NaN     0.047306   \n",
       "min                     0.000000                           NaN    51.283370   \n",
       "25%                     1.000000                           NaN    51.484607   \n",
       "50%                     1.000000                           NaN    51.514090   \n",
       "75%                     3.000000                           NaN    51.539648   \n",
       "max                  1105.000000                           NaN    51.671810   \n",
       "\n",
       "         longitude  accommodates  bathrooms  ...  review_scores_checkin  \\\n",
       "count  7698.000000   7698.000000        0.0  ...            5359.000000   \n",
       "mean     -0.128654      3.075344        NaN  ...               9.661691   \n",
       "std       0.095012      1.937248        NaN  ...               0.913550   \n",
       "min      -0.484930      1.000000        NaN  ...               2.000000   \n",
       "25%      -0.189537      2.000000        NaN  ...              10.000000   \n",
       "50%      -0.127760      2.000000        NaN  ...              10.000000   \n",
       "75%      -0.069153      4.000000        NaN  ...              10.000000   \n",
       "max       0.288570     16.000000        NaN  ...              10.000000   \n",
       "\n",
       "       review_scores_communication  review_scores_location  \\\n",
       "count                  5363.000000             5359.000000   \n",
       "mean                      9.683200                9.564471   \n",
       "std                       0.876648                0.825756   \n",
       "min                       2.000000                2.000000   \n",
       "25%                      10.000000                9.000000   \n",
       "50%                      10.000000               10.000000   \n",
       "75%                      10.000000               10.000000   \n",
       "max                      10.000000               10.000000   \n",
       "\n",
       "       review_scores_value  license  calculated_host_listings_count  \\\n",
       "count          5359.000000      0.0                     7698.000000   \n",
       "mean              9.302295      NaN                       18.669525   \n",
       "std               1.059122      NaN                       95.219054   \n",
       "min               2.000000      NaN                        1.000000   \n",
       "25%               9.000000      NaN                        1.000000   \n",
       "50%              10.000000      NaN                        1.000000   \n",
       "75%              10.000000      NaN                        3.000000   \n",
       "max              10.000000      NaN                      878.000000   \n",
       "\n",
       "       calculated_host_listings_count_entire_homes  \\\n",
       "count                                  7698.000000   \n",
       "mean                                     16.139257   \n",
       "std                                      93.237539   \n",
       "min                                       0.000000   \n",
       "25%                                       0.000000   \n",
       "50%                                       1.000000   \n",
       "75%                                       1.000000   \n",
       "max                                     877.000000   \n",
       "\n",
       "       calculated_host_listings_count_private_rooms  \\\n",
       "count                                   7698.000000   \n",
       "mean                                       1.974669   \n",
       "std                                       13.105473   \n",
       "min                                        0.000000   \n",
       "25%                                        0.000000   \n",
       "50%                                        1.000000   \n",
       "75%                                        1.000000   \n",
       "max                                      249.000000   \n",
       "\n",
       "       calculated_host_listings_count_shared_rooms  reviews_per_month  \n",
       "count                                  7698.000000        5550.000000  \n",
       "mean                                      0.032736           0.654137  \n",
       "std                                       0.460433           0.929165  \n",
       "min                                       0.000000           0.010000  \n",
       "25%                                       0.000000           0.110000  \n",
       "50%                                       0.000000           0.340000  \n",
       "75%                                       0.000000           0.830000  \n",
       "max                                      18.000000          18.700000  \n",
       "\n",
       "[8 rows x 41 columns]"
      ]
     },
     "execution_count": 4,
     "metadata": {},
     "output_type": "execute_result"
    }
   ],
   "source": [
    "#Set a sample\n",
    "sample = df.sample(frac=0.1)\n",
    "print(\"Sample data set shape is: \" + ', '.join(str(i) for i in sample.shape))\n",
    "sample.describe()"
   ]
  },
  {
   "cell_type": "code",
   "execution_count": 5,
   "metadata": {},
   "outputs": [
    {
     "data": {
      "text/plain": [
       "array(['id', 'listing_url', 'scrape_id', 'last_scraped', 'name',\n",
       "       'description', 'neighborhood_overview', 'picture_url', 'host_id',\n",
       "       'host_url', 'host_name', 'host_since', 'host_location',\n",
       "       'host_about', 'host_response_time', 'host_response_rate',\n",
       "       'host_acceptance_rate', 'host_is_superhost', 'host_thumbnail_url',\n",
       "       'host_picture_url', 'host_neighbourhood', 'host_listings_count',\n",
       "       'host_total_listings_count', 'host_verifications',\n",
       "       'host_has_profile_pic', 'host_identity_verified', 'neighbourhood',\n",
       "       'neighbourhood_cleansed', 'neighbourhood_group_cleansed',\n",
       "       'latitude', 'longitude', 'property_type', 'room_type',\n",
       "       'accommodates', 'bathrooms', 'bathrooms_text', 'bedrooms', 'beds',\n",
       "       'amenities', 'price', 'minimum_nights', 'maximum_nights',\n",
       "       'minimum_minimum_nights', 'maximum_minimum_nights',\n",
       "       'minimum_maximum_nights', 'maximum_maximum_nights',\n",
       "       'minimum_nights_avg_ntm', 'maximum_nights_avg_ntm',\n",
       "       'calendar_updated', 'has_availability', 'availability_30',\n",
       "       'availability_60', 'availability_90', 'availability_365',\n",
       "       'calendar_last_scraped', 'number_of_reviews',\n",
       "       'number_of_reviews_ltm', 'number_of_reviews_l30d', 'first_review',\n",
       "       'last_review', 'review_scores_rating', 'review_scores_accuracy',\n",
       "       'review_scores_cleanliness', 'review_scores_checkin',\n",
       "       'review_scores_communication', 'review_scores_location',\n",
       "       'review_scores_value', 'license', 'instant_bookable',\n",
       "       'calculated_host_listings_count',\n",
       "       'calculated_host_listings_count_entire_homes',\n",
       "       'calculated_host_listings_count_private_rooms',\n",
       "       'calculated_host_listings_count_shared_rooms', 'reviews_per_month'],\n",
       "      dtype=object)"
      ]
     },
     "execution_count": 5,
     "metadata": {},
     "output_type": "execute_result"
    }
   ],
   "source": [
    "#Understanding the columns\n",
    "sample.columns.values"
   ]
  },
  {
   "cell_type": "code",
   "execution_count": 6,
   "metadata": {},
   "outputs": [
    {
     "data": {
      "text/plain": [
       "['id',\n",
       " 'listing_url',\n",
       " 'scrape_id',\n",
       " 'last_scraped',\n",
       " 'name',\n",
       " 'description',\n",
       " 'neighborhood_overview',\n",
       " 'picture_url',\n",
       " 'host_id',\n",
       " 'host_url',\n",
       " 'host_name',\n",
       " 'host_since',\n",
       " 'host_location',\n",
       " 'host_about',\n",
       " 'host_response_time',\n",
       " 'host_response_rate',\n",
       " 'host_acceptance_rate',\n",
       " 'host_is_superhost',\n",
       " 'host_thumbnail_url',\n",
       " 'host_picture_url',\n",
       " 'host_neighbourhood',\n",
       " 'host_listings_count',\n",
       " 'host_total_listings_count',\n",
       " 'host_verifications',\n",
       " 'host_has_profile_pic',\n",
       " 'host_identity_verified',\n",
       " 'neighbourhood',\n",
       " 'neighbourhood_cleansed',\n",
       " 'neighbourhood_group_cleansed',\n",
       " 'latitude',\n",
       " 'longitude',\n",
       " 'property_type',\n",
       " 'room_type',\n",
       " 'accommodates',\n",
       " 'bathrooms',\n",
       " 'bathrooms_text',\n",
       " 'bedrooms',\n",
       " 'beds',\n",
       " 'amenities',\n",
       " 'price',\n",
       " 'minimum_nights',\n",
       " 'maximum_nights',\n",
       " 'minimum_minimum_nights',\n",
       " 'maximum_minimum_nights',\n",
       " 'minimum_maximum_nights',\n",
       " 'maximum_maximum_nights',\n",
       " 'minimum_nights_avg_ntm',\n",
       " 'maximum_nights_avg_ntm',\n",
       " 'calendar_updated',\n",
       " 'has_availability',\n",
       " 'availability_30',\n",
       " 'availability_60',\n",
       " 'availability_90',\n",
       " 'availability_365',\n",
       " 'calendar_last_scraped',\n",
       " 'number_of_reviews',\n",
       " 'number_of_reviews_ltm',\n",
       " 'number_of_reviews_l30d',\n",
       " 'first_review',\n",
       " 'last_review',\n",
       " 'review_scores_rating',\n",
       " 'review_scores_accuracy',\n",
       " 'review_scores_cleanliness',\n",
       " 'review_scores_checkin',\n",
       " 'review_scores_communication',\n",
       " 'review_scores_location',\n",
       " 'review_scores_value',\n",
       " 'license',\n",
       " 'instant_bookable',\n",
       " 'calculated_host_listings_count',\n",
       " 'calculated_host_listings_count_entire_homes',\n",
       " 'calculated_host_listings_count_private_rooms',\n",
       " 'calculated_host_listings_count_shared_rooms',\n",
       " 'reviews_per_month']"
      ]
     },
     "execution_count": 6,
     "metadata": {},
     "output_type": "execute_result"
    }
   ],
   "source": [
    "list(df.columns.values)"
   ]
  },
  {
   "cell_type": "code",
   "execution_count": 7,
   "metadata": {},
   "outputs": [
    {
     "name": "stdout",
     "output_type": "stream",
     "text": [
      "Writing to: listings.csv.gz\n"
     ]
    }
   ],
   "source": [
    "#Saving file locally\n",
    "path = os.path.join('data','raw')\n",
    "fn   = url.split('/')[-1]\n",
    "print(f\"Writing to: {fn}\")"
   ]
  },
  {
   "cell_type": "code",
   "execution_count": 8,
   "metadata": {},
   "outputs": [
    {
     "name": "stdout",
     "output_type": "stream",
     "text": [
      "Done.\n"
     ]
    }
   ],
   "source": [
    "if not os.path.exists(path):\n",
    "    print(f\"Creating {path} under {os.getcwd()}\")\n",
    "    os.makedirs(path)\n",
    "    \n",
    "df.to_csv(os.path.join(path,fn), index=False)\n",
    "print(\"Done.\")"
   ]
  },
  {
   "cell_type": "code",
   "execution_count": 9,
   "metadata": {},
   "outputs": [],
   "source": [
    "#Resetting the dataframe & reselecting the needed columns\n",
    "\n",
    "cols= ['id', 'name','host_id','host_name', 'host_location',\n",
    "       'host_is_superhost', 'host_neighbourhood', 'host_listings_count',\n",
    "       'host_total_listings_count', 'neighbourhood',\n",
    "       'latitude', 'longitude', 'property_type', 'room_type',\n",
    "       'price', 'minimum_nights', 'maximum_nights',\n",
    "       'has_availability', 'availability_30',\n",
    "       'availability_60', 'availability_90', 'availability_365',\n",
    "       'number_of_reviews', 'review_scores_rating', 'review_scores_accuracy',\n",
    "       'review_scores_cleanliness', 'review_scores_checkin',\n",
    "       'review_scores_communication', 'review_scores_location',\n",
    "       'review_scores_value', 'instant_bookable',\n",
    "       'calculated_host_listings_count',\n",
    "       'calculated_host_listings_count_entire_homes',\n",
    "       'calculated_host_listings_count_private_rooms',\n",
    "       'calculated_host_listings_count_shared_rooms', 'reviews_per_month']"
   ]
  },
  {
   "cell_type": "code",
   "execution_count": 10,
   "metadata": {},
   "outputs": [
    {
     "name": "stdout",
     "output_type": "stream",
     "text": [
      "Data frame is 10,000 x 36\n"
     ]
    }
   ],
   "source": [
    "del(df)\n",
    "df = pd.read_csv(os.path.join(path,fn), low_memory=False, usecols=cols, nrows=10000)\n",
    "print(f\"Data frame is {df.shape[0]:,} x {df.shape[1]}\")"
   ]
  },
  {
   "cell_type": "code",
   "execution_count": 11,
   "metadata": {},
   "outputs": [
    {
     "data": {
      "text/html": [
       "<div>\n",
       "<style scoped>\n",
       "    .dataframe tbody tr th:only-of-type {\n",
       "        vertical-align: middle;\n",
       "    }\n",
       "\n",
       "    .dataframe tbody tr th {\n",
       "        vertical-align: top;\n",
       "    }\n",
       "\n",
       "    .dataframe thead th {\n",
       "        text-align: right;\n",
       "    }\n",
       "</style>\n",
       "<table border=\"1\" class=\"dataframe\">\n",
       "  <thead>\n",
       "    <tr style=\"text-align: right;\">\n",
       "      <th></th>\n",
       "      <th>id</th>\n",
       "      <th>name</th>\n",
       "      <th>host_id</th>\n",
       "      <th>host_name</th>\n",
       "      <th>host_location</th>\n",
       "      <th>host_is_superhost</th>\n",
       "      <th>host_neighbourhood</th>\n",
       "      <th>host_listings_count</th>\n",
       "      <th>host_total_listings_count</th>\n",
       "      <th>neighbourhood</th>\n",
       "      <th>...</th>\n",
       "      <th>review_scores_checkin</th>\n",
       "      <th>review_scores_communication</th>\n",
       "      <th>review_scores_location</th>\n",
       "      <th>review_scores_value</th>\n",
       "      <th>instant_bookable</th>\n",
       "      <th>calculated_host_listings_count</th>\n",
       "      <th>calculated_host_listings_count_entire_homes</th>\n",
       "      <th>calculated_host_listings_count_private_rooms</th>\n",
       "      <th>calculated_host_listings_count_shared_rooms</th>\n",
       "      <th>reviews_per_month</th>\n",
       "    </tr>\n",
       "  </thead>\n",
       "  <tbody>\n",
       "    <tr>\n",
       "      <th>6252</th>\n",
       "      <td>5723725.0</td>\n",
       "      <td>Double room private terrace, London</td>\n",
       "      <td>20548619.0</td>\n",
       "      <td>Guillermo</td>\n",
       "      <td>Zaragoza, Aragon, Spain</td>\n",
       "      <td>f</td>\n",
       "      <td>NaN</td>\n",
       "      <td>1.0</td>\n",
       "      <td>1.0</td>\n",
       "      <td>NaN</td>\n",
       "      <td>...</td>\n",
       "      <td>NaN</td>\n",
       "      <td>NaN</td>\n",
       "      <td>NaN</td>\n",
       "      <td>NaN</td>\n",
       "      <td>f</td>\n",
       "      <td>1.0</td>\n",
       "      <td>0.0</td>\n",
       "      <td>1.0</td>\n",
       "      <td>0.0</td>\n",
       "      <td>NaN</td>\n",
       "    </tr>\n",
       "    <tr>\n",
       "      <th>4684</th>\n",
       "      <td>4266422.0</td>\n",
       "      <td>Spacious 1 bedroom flat overlooking Clapham Co...</td>\n",
       "      <td>22147627.0</td>\n",
       "      <td>Lucy</td>\n",
       "      <td>London, United Kingdom</td>\n",
       "      <td>f</td>\n",
       "      <td>Battersea</td>\n",
       "      <td>1.0</td>\n",
       "      <td>1.0</td>\n",
       "      <td>London, United Kingdom</td>\n",
       "      <td>...</td>\n",
       "      <td>10.0</td>\n",
       "      <td>10.0</td>\n",
       "      <td>10.0</td>\n",
       "      <td>9.0</td>\n",
       "      <td>f</td>\n",
       "      <td>1.0</td>\n",
       "      <td>1.0</td>\n",
       "      <td>0.0</td>\n",
       "      <td>0.0</td>\n",
       "      <td>0.30</td>\n",
       "    </tr>\n",
       "    <tr>\n",
       "      <th>1731</th>\n",
       "      <td>1041523.0</td>\n",
       "      <td>Beautifully Spacious Property in Islington</td>\n",
       "      <td>5733781.0</td>\n",
       "      <td>Tomas</td>\n",
       "      <td>London</td>\n",
       "      <td>f</td>\n",
       "      <td>LB of Islington</td>\n",
       "      <td>1.0</td>\n",
       "      <td>1.0</td>\n",
       "      <td>Greater London, England, United Kingdom</td>\n",
       "      <td>...</td>\n",
       "      <td>10.0</td>\n",
       "      <td>9.0</td>\n",
       "      <td>10.0</td>\n",
       "      <td>10.0</td>\n",
       "      <td>f</td>\n",
       "      <td>1.0</td>\n",
       "      <td>1.0</td>\n",
       "      <td>0.0</td>\n",
       "      <td>0.0</td>\n",
       "      <td>0.74</td>\n",
       "    </tr>\n",
       "    <tr>\n",
       "      <th>4742</th>\n",
       "      <td>4332039.0</td>\n",
       "      <td>Single bedroom in old East London</td>\n",
       "      <td>14148041.0</td>\n",
       "      <td>Richard</td>\n",
       "      <td>London, UK</td>\n",
       "      <td>f</td>\n",
       "      <td>LB of Newham</td>\n",
       "      <td>4.0</td>\n",
       "      <td>4.0</td>\n",
       "      <td>London, England, United Kingdom</td>\n",
       "      <td>...</td>\n",
       "      <td>10.0</td>\n",
       "      <td>10.0</td>\n",
       "      <td>9.0</td>\n",
       "      <td>10.0</td>\n",
       "      <td>f</td>\n",
       "      <td>4.0</td>\n",
       "      <td>0.0</td>\n",
       "      <td>4.0</td>\n",
       "      <td>0.0</td>\n",
       "      <td>6.26</td>\n",
       "    </tr>\n",
       "  </tbody>\n",
       "</table>\n",
       "<p>4 rows × 36 columns</p>\n",
       "</div>"
      ],
      "text/plain": [
       "             id                                               name  \\\n",
       "6252  5723725.0                Double room private terrace, London   \n",
       "4684  4266422.0  Spacious 1 bedroom flat overlooking Clapham Co...   \n",
       "1731  1041523.0         Beautifully Spacious Property in Islington   \n",
       "4742  4332039.0                  Single bedroom in old East London   \n",
       "\n",
       "         host_id  host_name            host_location host_is_superhost  \\\n",
       "6252  20548619.0  Guillermo  Zaragoza, Aragon, Spain                 f   \n",
       "4684  22147627.0       Lucy   London, United Kingdom                 f   \n",
       "1731   5733781.0      Tomas                   London                 f   \n",
       "4742  14148041.0    Richard               London, UK                 f   \n",
       "\n",
       "     host_neighbourhood  host_listings_count host_total_listings_count  \\\n",
       "6252                NaN                  1.0                       1.0   \n",
       "4684          Battersea                  1.0                       1.0   \n",
       "1731    LB of Islington                  1.0                       1.0   \n",
       "4742       LB of Newham                  4.0                       4.0   \n",
       "\n",
       "                                neighbourhood  ...  review_scores_checkin  \\\n",
       "6252                                      NaN  ...                    NaN   \n",
       "4684                   London, United Kingdom  ...                   10.0   \n",
       "1731  Greater London, England, United Kingdom  ...                   10.0   \n",
       "4742          London, England, United Kingdom  ...                   10.0   \n",
       "\n",
       "      review_scores_communication review_scores_location review_scores_value  \\\n",
       "6252                          NaN                    NaN                 NaN   \n",
       "4684                         10.0                   10.0                 9.0   \n",
       "1731                          9.0                   10.0                10.0   \n",
       "4742                         10.0                    9.0                10.0   \n",
       "\n",
       "     instant_bookable  calculated_host_listings_count  \\\n",
       "6252                f                             1.0   \n",
       "4684                f                             1.0   \n",
       "1731                f                             1.0   \n",
       "4742                f                             4.0   \n",
       "\n",
       "     calculated_host_listings_count_entire_homes  \\\n",
       "6252                                         0.0   \n",
       "4684                                         1.0   \n",
       "1731                                         1.0   \n",
       "4742                                         0.0   \n",
       "\n",
       "     calculated_host_listings_count_private_rooms  \\\n",
       "6252                                          1.0   \n",
       "4684                                          0.0   \n",
       "1731                                          0.0   \n",
       "4742                                          4.0   \n",
       "\n",
       "      calculated_host_listings_count_shared_rooms  reviews_per_month  \n",
       "6252                                          0.0                NaN  \n",
       "4684                                          0.0               0.30  \n",
       "1731                                          0.0               0.74  \n",
       "4742                                          0.0               6.26  \n",
       "\n",
       "[4 rows x 36 columns]"
      ]
     },
     "execution_count": 11,
     "metadata": {},
     "output_type": "execute_result"
    }
   ],
   "source": [
    "#testing df\n",
    "\n",
    "df.sample(4, random_state=42)"
   ]
  },
  {
   "cell_type": "markdown",
   "metadata": {},
   "source": [
    "## 1.3: Data Cleaning"
   ]
  },
  {
   "cell_type": "markdown",
   "metadata": {},
   "source": [
    "### 1.3.1: Dealing with NaNs & Null data"
   ]
  },
  {
   "cell_type": "code",
   "execution_count": 12,
   "metadata": {},
   "outputs": [],
   "source": [
    "#Removing problematic coordinates\n",
    "\n",
    "df.drop(df[((df.latitude.isna())|(df.longitude.isna()))].index, axis=0, inplace=True)\n",
    "df.drop(df[((df.latitude < 40)|(df.longitude > 1))].index, axis=0, inplace=True)\n",
    "df.drop(df[((df.review_scores_rating.isna()))].index, axis=0, inplace=True)"
   ]
  },
  {
   "cell_type": "code",
   "execution_count": 13,
   "metadata": {},
   "outputs": [
    {
     "data": {
      "text/html": [
       "<div>\n",
       "<style scoped>\n",
       "    .dataframe tbody tr th:only-of-type {\n",
       "        vertical-align: middle;\n",
       "    }\n",
       "\n",
       "    .dataframe tbody tr th {\n",
       "        vertical-align: top;\n",
       "    }\n",
       "\n",
       "    .dataframe thead th {\n",
       "        text-align: right;\n",
       "    }\n",
       "</style>\n",
       "<table border=\"1\" class=\"dataframe\">\n",
       "  <thead>\n",
       "    <tr style=\"text-align: right;\">\n",
       "      <th></th>\n",
       "      <th>id</th>\n",
       "      <th>name</th>\n",
       "      <th>host_id</th>\n",
       "      <th>host_name</th>\n",
       "    </tr>\n",
       "  </thead>\n",
       "  <tbody>\n",
       "  </tbody>\n",
       "</table>\n",
       "</div>"
      ],
      "text/plain": [
       "Empty DataFrame\n",
       "Columns: [id, name, host_id, host_name]\n",
       "Index: []"
      ]
     },
     "execution_count": 13,
     "metadata": {},
     "output_type": "execute_result"
    }
   ],
   "source": [
    "#Identifying problematic rows\n",
    "df[df.id.isna()][['id','name','host_id','host_name']]"
   ]
  },
  {
   "cell_type": "code",
   "execution_count": 14,
   "metadata": {},
   "outputs": [],
   "source": [
    "#Dropping the problematic row\n",
    "df.drop(df[df.id.isna()].index.values, axis=0, inplace=True)"
   ]
  },
  {
   "cell_type": "code",
   "execution_count": 15,
   "metadata": {},
   "outputs": [
    {
     "data": {
      "text/plain": [
       "neighbourhood                  1963\n",
       "host_neighbourhood             1333\n",
       "review_scores_checkin            24\n",
       "review_scores_accuracy           20\n",
       "review_scores_cleanliness        19\n",
       "review_scores_location           19\n",
       "review_scores_value              17\n",
       "review_scores_communication      15\n",
       "name                              1\n",
       "host_listings_count               0\n",
       "property_type                     0\n",
       "longitude                         0\n",
       "dtype: int64"
      ]
     },
     "execution_count": 15,
     "metadata": {},
     "output_type": "execute_result"
    }
   ],
   "source": [
    "#Counting Null by column\n",
    "df.isnull().sum(axis=0).sort_values(ascending=False)[:12]"
   ]
  },
  {
   "cell_type": "code",
   "execution_count": 16,
   "metadata": {},
   "outputs": [],
   "source": [
    "#Removing the most significant columns\n",
    "df.drop(columns=['neighbourhood' , 'review_scores_checkin' , 'review_scores_accuracy' , 'review_scores_cleanliness' , 'review_scores_location', 'review_scores_value', 'review_scores_communication'], inplace=True)"
   ]
  },
  {
   "cell_type": "code",
   "execution_count": 17,
   "metadata": {},
   "outputs": [
    {
     "name": "stdout",
     "output_type": "stream",
     "text": [
      "<class 'pandas.core.series.Series'>\n"
     ]
    },
    {
     "data": {
      "text/plain": [
       "<AxesSubplot:ylabel='Frequency'>"
      ]
     },
     "execution_count": 17,
     "metadata": {},
     "output_type": "execute_result"
    },
    {
     "data": {
      "image/png": "[encoded data removed]",
      "text/plain": [
       "<Figure size 432x288 with 1 Axes>"
      ]
     },
     "metadata": {
      "needs_background": "light"
     },
     "output_type": "display_data"
    }
   ],
   "source": [
    "#Observing problematic columns\n",
    "probs = df.isnull().sum(axis=1)\n",
    "print(type(probs))\n",
    "probs.plot.hist(bins=30)"
   ]
  },
  {
   "cell_type": "code",
   "execution_count": 18,
   "metadata": {},
   "outputs": [
    {
     "name": "stdout",
     "output_type": "stream",
     "text": [
      "Have reduced data frame to: 7999 rows and 29 columns\n"
     ]
    }
   ],
   "source": [
    "#As being ones that are most likely to be problematic, in here I choose to use values greater than 4\n",
    "df.drop(probs[probs > 4].index, inplace=True)\n",
    "print(f\"Have reduced data frame to: {df.shape[0]} rows and {df.shape[1]} columns\")"
   ]
  },
  {
   "cell_type": "code",
   "execution_count": 19,
   "metadata": {},
   "outputs": [
    {
     "data": {
      "text/html": [
       "<div>\n",
       "<style scoped>\n",
       "    .dataframe tbody tr th:only-of-type {\n",
       "        vertical-align: middle;\n",
       "    }\n",
       "\n",
       "    .dataframe tbody tr th {\n",
       "        vertical-align: top;\n",
       "    }\n",
       "\n",
       "    .dataframe thead th {\n",
       "        text-align: right;\n",
       "    }\n",
       "</style>\n",
       "<table border=\"1\" class=\"dataframe\">\n",
       "  <thead>\n",
       "    <tr style=\"text-align: right;\">\n",
       "      <th></th>\n",
       "      <th>id</th>\n",
       "      <th>name</th>\n",
       "      <th>host_id</th>\n",
       "      <th>host_name</th>\n",
       "      <th>host_location</th>\n",
       "      <th>host_is_superhost</th>\n",
       "      <th>host_neighbourhood</th>\n",
       "      <th>host_listings_count</th>\n",
       "      <th>host_total_listings_count</th>\n",
       "      <th>latitude</th>\n",
       "      <th>...</th>\n",
       "      <th>availability_90</th>\n",
       "      <th>availability_365</th>\n",
       "      <th>number_of_reviews</th>\n",
       "      <th>review_scores_rating</th>\n",
       "      <th>instant_bookable</th>\n",
       "      <th>calculated_host_listings_count</th>\n",
       "      <th>calculated_host_listings_count_entire_homes</th>\n",
       "      <th>calculated_host_listings_count_private_rooms</th>\n",
       "      <th>calculated_host_listings_count_shared_rooms</th>\n",
       "      <th>reviews_per_month</th>\n",
       "    </tr>\n",
       "  </thead>\n",
       "  <tbody>\n",
       "    <tr>\n",
       "      <th>0</th>\n",
       "      <td>11551.0</td>\n",
       "      <td>Arty and Bright London Apartment in Zone 2</td>\n",
       "      <td>43039.0</td>\n",
       "      <td>Adriano</td>\n",
       "      <td>London, England, United Kingdom</td>\n",
       "      <td>f</td>\n",
       "      <td>Brixton</td>\n",
       "      <td>3.0</td>\n",
       "      <td>3.0</td>\n",
       "      <td>51.46225</td>\n",
       "      <td>...</td>\n",
       "      <td>4.0</td>\n",
       "      <td>279.0</td>\n",
       "      <td>192</td>\n",
       "      <td>91.0</td>\n",
       "      <td>t</td>\n",
       "      <td>2.0</td>\n",
       "      <td>2.0</td>\n",
       "      <td>0.0</td>\n",
       "      <td>0.0</td>\n",
       "      <td>1.48</td>\n",
       "    </tr>\n",
       "    <tr>\n",
       "      <th>1</th>\n",
       "      <td>13913.0</td>\n",
       "      <td>Holiday London DB Room Let-on going</td>\n",
       "      <td>54730.0</td>\n",
       "      <td>Alina</td>\n",
       "      <td>London, England, United Kingdom</td>\n",
       "      <td>f</td>\n",
       "      <td>LB of Islington</td>\n",
       "      <td>3.0</td>\n",
       "      <td>3.0</td>\n",
       "      <td>51.56802</td>\n",
       "      <td>...</td>\n",
       "      <td>90.0</td>\n",
       "      <td>365.0</td>\n",
       "      <td>21</td>\n",
       "      <td>97.0</td>\n",
       "      <td>f</td>\n",
       "      <td>2.0</td>\n",
       "      <td>1.0</td>\n",
       "      <td>1.0</td>\n",
       "      <td>0.0</td>\n",
       "      <td>0.17</td>\n",
       "    </tr>\n",
       "    <tr>\n",
       "      <th>2</th>\n",
       "      <td>15400.0</td>\n",
       "      <td>Bright Chelsea  Apartment. Chelsea!</td>\n",
       "      <td>60302.0</td>\n",
       "      <td>Philippa</td>\n",
       "      <td>Kensington, England, United Kingdom</td>\n",
       "      <td>f</td>\n",
       "      <td>Chelsea</td>\n",
       "      <td>1.0</td>\n",
       "      <td>1.0</td>\n",
       "      <td>51.48796</td>\n",
       "      <td>...</td>\n",
       "      <td>50.0</td>\n",
       "      <td>150.0</td>\n",
       "      <td>89</td>\n",
       "      <td>96.0</td>\n",
       "      <td>t</td>\n",
       "      <td>1.0</td>\n",
       "      <td>1.0</td>\n",
       "      <td>0.0</td>\n",
       "      <td>0.0</td>\n",
       "      <td>0.67</td>\n",
       "    </tr>\n",
       "    <tr>\n",
       "      <th>3</th>\n",
       "      <td>17402.0</td>\n",
       "      <td>Superb 3-Bed/2 Bath &amp; Wifi: Trendy W1</td>\n",
       "      <td>67564.0</td>\n",
       "      <td>Liz</td>\n",
       "      <td>London, England, United Kingdom</td>\n",
       "      <td>t</td>\n",
       "      <td>Fitzrovia</td>\n",
       "      <td>18.0</td>\n",
       "      <td>18.0</td>\n",
       "      <td>51.52195</td>\n",
       "      <td>...</td>\n",
       "      <td>85.0</td>\n",
       "      <td>330.0</td>\n",
       "      <td>42</td>\n",
       "      <td>94.0</td>\n",
       "      <td>f</td>\n",
       "      <td>15.0</td>\n",
       "      <td>15.0</td>\n",
       "      <td>0.0</td>\n",
       "      <td>0.0</td>\n",
       "      <td>0.36</td>\n",
       "    </tr>\n",
       "  </tbody>\n",
       "</table>\n",
       "<p>4 rows × 29 columns</p>\n",
       "</div>"
      ],
      "text/plain": [
       "        id                                        name  host_id host_name  \\\n",
       "0  11551.0  Arty and Bright London Apartment in Zone 2  43039.0   Adriano   \n",
       "1  13913.0         Holiday London DB Room Let-on going  54730.0     Alina   \n",
       "2  15400.0         Bright Chelsea  Apartment. Chelsea!  60302.0  Philippa   \n",
       "3  17402.0       Superb 3-Bed/2 Bath & Wifi: Trendy W1  67564.0       Liz   \n",
       "\n",
       "                         host_location host_is_superhost host_neighbourhood  \\\n",
       "0      London, England, United Kingdom                 f            Brixton   \n",
       "1      London, England, United Kingdom                 f    LB of Islington   \n",
       "2  Kensington, England, United Kingdom                 f            Chelsea   \n",
       "3      London, England, United Kingdom                 t          Fitzrovia   \n",
       "\n",
       "   host_listings_count host_total_listings_count  latitude  ...  \\\n",
       "0                  3.0                       3.0  51.46225  ...   \n",
       "1                  3.0                       3.0  51.56802  ...   \n",
       "2                  1.0                       1.0  51.48796  ...   \n",
       "3                 18.0                      18.0  51.52195  ...   \n",
       "\n",
       "   availability_90 availability_365 number_of_reviews review_scores_rating  \\\n",
       "0              4.0            279.0               192                 91.0   \n",
       "1             90.0            365.0                21                 97.0   \n",
       "2             50.0            150.0                89                 96.0   \n",
       "3             85.0            330.0                42                 94.0   \n",
       "\n",
       "   instant_bookable calculated_host_listings_count  \\\n",
       "0                 t                            2.0   \n",
       "1                 f                            2.0   \n",
       "2                 t                            1.0   \n",
       "3                 f                           15.0   \n",
       "\n",
       "  calculated_host_listings_count_entire_homes  \\\n",
       "0                                         2.0   \n",
       "1                                         1.0   \n",
       "2                                         1.0   \n",
       "3                                        15.0   \n",
       "\n",
       "   calculated_host_listings_count_private_rooms  \\\n",
       "0                                           0.0   \n",
       "1                                           1.0   \n",
       "2                                           0.0   \n",
       "3                                           0.0   \n",
       "\n",
       "   calculated_host_listings_count_shared_rooms  reviews_per_month  \n",
       "0                                          0.0               1.48  \n",
       "1                                          0.0               0.17  \n",
       "2                                          0.0               0.67  \n",
       "3                                          0.0               0.36  \n",
       "\n",
       "[4 rows x 29 columns]"
      ]
     },
     "execution_count": 19,
     "metadata": {},
     "output_type": "execute_result"
    }
   ],
   "source": [
    "df.head(4)"
   ]
  },
  {
   "cell_type": "markdown",
   "metadata": {},
   "source": [
    "### 1.3.2: Fixing boolean values"
   ]
  },
  {
   "cell_type": "code",
   "execution_count": 20,
   "metadata": {},
   "outputs": [
    {
     "data": {
      "text/html": [
       "<div>\n",
       "<style scoped>\n",
       "    .dataframe tbody tr th:only-of-type {\n",
       "        vertical-align: middle;\n",
       "    }\n",
       "\n",
       "    .dataframe tbody tr th {\n",
       "        vertical-align: top;\n",
       "    }\n",
       "\n",
       "    .dataframe thead th {\n",
       "        text-align: right;\n",
       "    }\n",
       "</style>\n",
       "<table border=\"1\" class=\"dataframe\">\n",
       "  <thead>\n",
       "    <tr style=\"text-align: right;\">\n",
       "      <th></th>\n",
       "      <th>host_is_superhost</th>\n",
       "      <th>instant_bookable</th>\n",
       "      <th>has_availability</th>\n",
       "    </tr>\n",
       "  </thead>\n",
       "  <tbody>\n",
       "    <tr>\n",
       "      <th>9106</th>\n",
       "      <td>f</td>\n",
       "      <td>f</td>\n",
       "      <td>t</td>\n",
       "    </tr>\n",
       "    <tr>\n",
       "      <th>2204</th>\n",
       "      <td>f</td>\n",
       "      <td>f</td>\n",
       "      <td>t</td>\n",
       "    </tr>\n",
       "    <tr>\n",
       "      <th>2044</th>\n",
       "      <td>f</td>\n",
       "      <td>f</td>\n",
       "      <td>t</td>\n",
       "    </tr>\n",
       "    <tr>\n",
       "      <th>2941</th>\n",
       "      <td>f</td>\n",
       "      <td>f</td>\n",
       "      <td>t</td>\n",
       "    </tr>\n",
       "  </tbody>\n",
       "</table>\n",
       "</div>"
      ],
      "text/plain": [
       "     host_is_superhost instant_bookable has_availability\n",
       "9106                 f                f                t\n",
       "2204                 f                f                t\n",
       "2044                 f                f                t\n",
       "2941                 f                f                t"
      ]
     },
     "execution_count": 20,
     "metadata": {},
     "output_type": "execute_result"
    }
   ],
   "source": [
    "bools = ['host_is_superhost', 'instant_bookable', 'has_availability']\n",
    "         \n",
    "df.sample(4, random_state=43)[bools]"
   ]
  },
  {
   "cell_type": "code",
   "execution_count": 21,
   "metadata": {},
   "outputs": [
    {
     "name": "stdout",
     "output_type": "stream",
     "text": [
      "Converting host_is_superhost\n",
      "Converting instant_bookable\n",
      "Converting has_availability\n"
     ]
    }
   ],
   "source": [
    "# This approach requires us to map 't' and 'f'\n",
    "# to 'True' and 'False'\n",
    "map = {'t':True, 'f':False}\n",
    "for b in bools:\n",
    "    print(f\"Converting {b}\")\n",
    "    df[b] = df[b].replace(map).astype('bool')"
   ]
  },
  {
   "cell_type": "markdown",
   "metadata": {},
   "source": [
    "### 1.3.3: Fixing categories"
   ]
  },
  {
   "cell_type": "code",
   "execution_count": 22,
   "metadata": {},
   "outputs": [
    {
     "data": {
      "text/html": [
       "<div>\n",
       "<style scoped>\n",
       "    .dataframe tbody tr th:only-of-type {\n",
       "        vertical-align: middle;\n",
       "    }\n",
       "\n",
       "    .dataframe tbody tr th {\n",
       "        vertical-align: top;\n",
       "    }\n",
       "\n",
       "    .dataframe thead th {\n",
       "        text-align: right;\n",
       "    }\n",
       "</style>\n",
       "<table border=\"1\" class=\"dataframe\">\n",
       "  <thead>\n",
       "    <tr style=\"text-align: right;\">\n",
       "      <th></th>\n",
       "      <th>property_type</th>\n",
       "      <th>room_type</th>\n",
       "    </tr>\n",
       "  </thead>\n",
       "  <tbody>\n",
       "    <tr>\n",
       "      <th>9106</th>\n",
       "      <td>Private room in apartment</td>\n",
       "      <td>Private room</td>\n",
       "    </tr>\n",
       "    <tr>\n",
       "      <th>2204</th>\n",
       "      <td>Entire apartment</td>\n",
       "      <td>Entire home/apt</td>\n",
       "    </tr>\n",
       "    <tr>\n",
       "      <th>2044</th>\n",
       "      <td>Entire apartment</td>\n",
       "      <td>Entire home/apt</td>\n",
       "    </tr>\n",
       "    <tr>\n",
       "      <th>2941</th>\n",
       "      <td>Entire apartment</td>\n",
       "      <td>Entire home/apt</td>\n",
       "    </tr>\n",
       "  </tbody>\n",
       "</table>\n",
       "</div>"
      ],
      "text/plain": [
       "                  property_type        room_type\n",
       "9106  Private room in apartment     Private room\n",
       "2204           Entire apartment  Entire home/apt\n",
       "2044           Entire apartment  Entire home/apt\n",
       "2941           Entire apartment  Entire home/apt"
      ]
     },
     "execution_count": 22,
     "metadata": {},
     "output_type": "execute_result"
    }
   ],
   "source": [
    "cats = ['property_type','room_type']\n",
    "df.sample(4, random_state=43)[cats]"
   ]
  },
  {
   "cell_type": "code",
   "execution_count": 23,
   "metadata": {},
   "outputs": [
    {
     "data": {
      "text/plain": [
       "Entire apartment                      3423\n",
       "Private room in apartment             1870\n",
       "Private room in house                 1223\n",
       "Entire house                           568\n",
       "Private room in townhouse              283\n",
       "Entire townhouse                       154\n",
       "Entire loft                             72\n",
       "Private room in bed and breakfast       62\n",
       "Private room in condominium             46\n",
       "Private room in loft                    46\n",
       "Entire condominium                      45\n",
       "Entire serviced apartment               20\n",
       "Entire guest suite                      20\n",
       "Room in serviced apartment              18\n",
       "Private room in guest suite             17\n",
       "Shared room in apartment                17\n",
       "Room in boutique hotel                  16\n",
       "Private room                            12\n",
       "Entire guesthouse                       11\n",
       "Private room in guesthouse               8\n",
       "Room in bed and breakfast                7\n",
       "Shared room in hostel                    7\n",
       "Shared room in house                     7\n",
       "Shared room in bed and breakfast         6\n",
       "Boat                                     6\n",
       "Private room in bungalow                 5\n",
       "Tiny house                               4\n",
       "Entire cottage                           3\n",
       "Entire bungalow                          3\n",
       "Private room in cottage                  2\n",
       "Entire cabin                             2\n",
       "Private room in villa                    2\n",
       "Houseboat                                2\n",
       "Camper/RV                                2\n",
       "Shared room in condominium               1\n",
       "Room in aparthotel                       1\n",
       "Private room in yurt                     1\n",
       "Yurt                                     1\n",
       "Shared room in guest suite               1\n",
       "Shared room in loft                      1\n",
       "Private room in boat                     1\n",
       "Private room in parking space            1\n",
       "Entire place                             1\n",
       "Private room in serviced apartment       1\n",
       "Name: property_type, dtype: int64"
      ]
     },
     "execution_count": 23,
     "metadata": {},
     "output_type": "execute_result"
    }
   ],
   "source": [
    "df[cats[0]].value_counts()"
   ]
  },
  {
   "cell_type": "code",
   "execution_count": 24,
   "metadata": {},
   "outputs": [
    {
     "data": {
      "text/plain": [
       "Entire home/apt    4337\n",
       "Private room       3596\n",
       "Shared room          40\n",
       "Hotel room           26\n",
       "Name: room_type, dtype: int64"
      ]
     },
     "execution_count": 24,
     "metadata": {},
     "output_type": "execute_result"
    }
   ],
   "source": [
    "df[cats[1]].value_counts()"
   ]
  },
  {
   "cell_type": "code",
   "execution_count": 25,
   "metadata": {},
   "outputs": [
    {
     "name": "stdout",
     "output_type": "stream",
     "text": [
      "Converting property_type\n",
      "Converting room_type\n"
     ]
    }
   ],
   "source": [
    "#Getting the needed catergories only\n",
    "for c in cats:\n",
    "    print(f\"Converting {c}\")\n",
    "    df[c] = df[c].astype('category')"
   ]
  },
  {
   "cell_type": "code",
   "execution_count": 26,
   "metadata": {},
   "outputs": [
    {
     "name": "stdout",
     "output_type": "stream",
     "text": [
      "['Entire home/apt' 'Hotel room' 'Private room' 'Shared room']\n"
     ]
    }
   ],
   "source": [
    "print(df[cats[1]].cat.categories.values)"
   ]
  },
  {
   "cell_type": "code",
   "execution_count": 27,
   "metadata": {},
   "outputs": [
    {
     "data": {
      "text/html": [
       "<div>\n",
       "<style scoped>\n",
       "    .dataframe tbody tr th:only-of-type {\n",
       "        vertical-align: middle;\n",
       "    }\n",
       "\n",
       "    .dataframe tbody tr th {\n",
       "        vertical-align: top;\n",
       "    }\n",
       "\n",
       "    .dataframe thead th {\n",
       "        text-align: right;\n",
       "    }\n",
       "</style>\n",
       "<table border=\"1\" class=\"dataframe\">\n",
       "  <thead>\n",
       "    <tr style=\"text-align: right;\">\n",
       "      <th></th>\n",
       "      <th>property_type</th>\n",
       "      <th>room_type</th>\n",
       "    </tr>\n",
       "  </thead>\n",
       "  <tbody>\n",
       "    <tr>\n",
       "      <th>9106</th>\n",
       "      <td>Private room in apartment</td>\n",
       "      <td>Private room</td>\n",
       "    </tr>\n",
       "    <tr>\n",
       "      <th>2204</th>\n",
       "      <td>Entire apartment</td>\n",
       "      <td>Entire home/apt</td>\n",
       "    </tr>\n",
       "    <tr>\n",
       "      <th>2044</th>\n",
       "      <td>Entire apartment</td>\n",
       "      <td>Entire home/apt</td>\n",
       "    </tr>\n",
       "    <tr>\n",
       "      <th>2941</th>\n",
       "      <td>Entire apartment</td>\n",
       "      <td>Entire home/apt</td>\n",
       "    </tr>\n",
       "    <tr>\n",
       "      <th>2913</th>\n",
       "      <td>Private room in apartment</td>\n",
       "      <td>Private room</td>\n",
       "    </tr>\n",
       "    <tr>\n",
       "      <th>8442</th>\n",
       "      <td>Entire apartment</td>\n",
       "      <td>Entire home/apt</td>\n",
       "    </tr>\n",
       "  </tbody>\n",
       "</table>\n",
       "</div>"
      ],
      "text/plain": [
       "                  property_type        room_type\n",
       "9106  Private room in apartment     Private room\n",
       "2204           Entire apartment  Entire home/apt\n",
       "2044           Entire apartment  Entire home/apt\n",
       "2941           Entire apartment  Entire home/apt\n",
       "2913  Private room in apartment     Private room\n",
       "8442           Entire apartment  Entire home/apt"
      ]
     },
     "execution_count": 27,
     "metadata": {},
     "output_type": "execute_result"
    }
   ],
   "source": [
    "df.sample(6, random_state=43)[cats]"
   ]
  },
  {
   "cell_type": "markdown",
   "metadata": {},
   "source": [
    "### 1.3.4: Fixing strings"
   ]
  },
  {
   "cell_type": "code",
   "execution_count": 28,
   "metadata": {},
   "outputs": [
    {
     "name": "stdout",
     "output_type": "stream",
     "text": [
      "Converting price\n"
     ]
    }
   ],
   "source": [
    "#Fixing prices from $ to a float value\n",
    "\n",
    "money= ['price']\n",
    "\n",
    "for m in money:\n",
    "    print(f\"Converting {m}\")\n",
    "    df[m] = df[m].str.replace('$','').str.replace(',','').astype('float')"
   ]
  },
  {
   "cell_type": "code",
   "execution_count": 29,
   "metadata": {},
   "outputs": [
    {
     "data": {
      "text/html": [
       "<div>\n",
       "<style scoped>\n",
       "    .dataframe tbody tr th:only-of-type {\n",
       "        vertical-align: middle;\n",
       "    }\n",
       "\n",
       "    .dataframe tbody tr th {\n",
       "        vertical-align: top;\n",
       "    }\n",
       "\n",
       "    .dataframe thead th {\n",
       "        text-align: right;\n",
       "    }\n",
       "</style>\n",
       "<table border=\"1\" class=\"dataframe\">\n",
       "  <thead>\n",
       "    <tr style=\"text-align: right;\">\n",
       "      <th></th>\n",
       "      <th>price</th>\n",
       "    </tr>\n",
       "  </thead>\n",
       "  <tbody>\n",
       "    <tr>\n",
       "      <th>4710</th>\n",
       "      <td>137.0</td>\n",
       "    </tr>\n",
       "    <tr>\n",
       "      <th>3024</th>\n",
       "      <td>161.0</td>\n",
       "    </tr>\n",
       "    <tr>\n",
       "      <th>4310</th>\n",
       "      <td>28.0</td>\n",
       "    </tr>\n",
       "    <tr>\n",
       "      <th>8012</th>\n",
       "      <td>60.0</td>\n",
       "    </tr>\n",
       "    <tr>\n",
       "      <th>9401</th>\n",
       "      <td>115.0</td>\n",
       "    </tr>\n",
       "  </tbody>\n",
       "</table>\n",
       "</div>"
      ],
      "text/plain": [
       "      price\n",
       "4710  137.0\n",
       "3024  161.0\n",
       "4310   28.0\n",
       "8012   60.0\n",
       "9401  115.0"
      ]
     },
     "execution_count": 29,
     "metadata": {},
     "output_type": "execute_result"
    }
   ],
   "source": [
    "df.sample(5, random_state=42)[money]"
   ]
  },
  {
   "cell_type": "markdown",
   "metadata": {},
   "source": [
    "### 1.3.5: Fixing integers"
   ]
  },
  {
   "cell_type": "code",
   "execution_count": 30,
   "metadata": {},
   "outputs": [
    {
     "name": "stdout",
     "output_type": "stream",
     "text": [
      "Converting id\n",
      "Converting host_id\n",
      "Converting host_listings_count\n",
      "Converting host_total_listings_count\n",
      "Converting minimum_nights\n",
      "Converting maximum_nights\n",
      "Converting availability_60\n",
      "Converting availability_90\n",
      "Converting availability_365\n",
      "Converting number_of_reviews\n",
      "Converting calculated_host_listings_count\n",
      "Converting calculated_host_listings_count_entire_homes\n",
      "Converting calculated_host_listings_count_private_rooms\n",
      "Converting calculated_host_listings_count_shared_rooms\n"
     ]
    }
   ],
   "source": [
    "ints  = ['id','host_id','host_listings_count','host_total_listings_count',\n",
    "         'minimum_nights','maximum_nights','availability_60', 'availability_90', 'availability_365',\n",
    "         'number_of_reviews',\n",
    "         'calculated_host_listings_count', 'calculated_host_listings_count_entire_homes',\n",
    "         'calculated_host_listings_count_private_rooms',\n",
    "         'calculated_host_listings_count_shared_rooms']\n",
    "for i in ints:\n",
    "    print(f\"Converting {i}\")\n",
    "    try:\n",
    "        df[i] = df[i].astype('float').astype('int')\n",
    "    except ValueError as e:\n",
    "        print(\"\\tConverting to unsigned 16-bit integer.\")\n",
    "        df[i] = df[i].astype('float').astype(pd.UInt16Dtype())"
   ]
  },
  {
   "cell_type": "code",
   "execution_count": 31,
   "metadata": {},
   "outputs": [
    {
     "data": {
      "text/plain": [
       "False    7999\n",
       "Name: id, dtype: int64"
      ]
     },
     "execution_count": 31,
     "metadata": {},
     "output_type": "execute_result"
    }
   ],
   "source": [
    "df.id.isna().value_counts()"
   ]
  },
  {
   "cell_type": "markdown",
   "metadata": {},
   "source": [
    "### 1.3.6: Validation"
   ]
  },
  {
   "cell_type": "code",
   "execution_count": 32,
   "metadata": {},
   "outputs": [
    {
     "name": "stdout",
     "output_type": "stream",
     "text": [
      "<class 'pandas.core.frame.DataFrame'>\n",
      "Int64Index: 7999 entries, 0 to 9999\n",
      "Data columns (total 29 columns):\n",
      " #   Column                                        Non-Null Count  Dtype   \n",
      "---  ------                                        --------------  -----   \n",
      " 0   id                                            7999 non-null   int64   \n",
      " 1   name                                          7998 non-null   object  \n",
      " 2   host_id                                       7999 non-null   int64   \n",
      " 3   host_name                                     7999 non-null   object  \n",
      " 4   host_location                                 7999 non-null   object  \n",
      " 5   host_is_superhost                             7999 non-null   bool    \n",
      " 6   host_neighbourhood                            6666 non-null   object  \n",
      " 7   host_listings_count                           7999 non-null   int64   \n",
      " 8   host_total_listings_count                     7999 non-null   int64   \n",
      " 9   latitude                                      7999 non-null   float64 \n",
      " 10  longitude                                     7999 non-null   float64 \n",
      " 11  property_type                                 7999 non-null   category\n",
      " 12  room_type                                     7999 non-null   category\n",
      " 13  price                                         7999 non-null   float64 \n",
      " 14  minimum_nights                                7999 non-null   int64   \n",
      " 15  maximum_nights                                7999 non-null   int64   \n",
      " 16  has_availability                              7999 non-null   bool    \n",
      " 17  availability_30                               7999 non-null   float64 \n",
      " 18  availability_60                               7999 non-null   int64   \n",
      " 19  availability_90                               7999 non-null   int64   \n",
      " 20  availability_365                              7999 non-null   int64   \n",
      " 21  number_of_reviews                             7999 non-null   int64   \n",
      " 22  review_scores_rating                          7999 non-null   float64 \n",
      " 23  instant_bookable                              7999 non-null   bool    \n",
      " 24  calculated_host_listings_count                7999 non-null   int64   \n",
      " 25  calculated_host_listings_count_entire_homes   7999 non-null   int64   \n",
      " 26  calculated_host_listings_count_private_rooms  7999 non-null   int64   \n",
      " 27  calculated_host_listings_count_shared_rooms   7999 non-null   int64   \n",
      " 28  reviews_per_month                             7999 non-null   float64 \n",
      "dtypes: bool(3), category(2), float64(6), int64(14), object(4)\n",
      "memory usage: 1.9+ MB\n"
     ]
    }
   ],
   "source": [
    "df.info()"
   ]
  },
  {
   "cell_type": "code",
   "execution_count": 33,
   "metadata": {},
   "outputs": [
    {
     "data": {
      "text/html": [
       "<div>\n",
       "<style scoped>\n",
       "    .dataframe tbody tr th:only-of-type {\n",
       "        vertical-align: middle;\n",
       "    }\n",
       "\n",
       "    .dataframe tbody tr th {\n",
       "        vertical-align: top;\n",
       "    }\n",
       "\n",
       "    .dataframe thead th {\n",
       "        text-align: right;\n",
       "    }\n",
       "</style>\n",
       "<table border=\"1\" class=\"dataframe\">\n",
       "  <thead>\n",
       "    <tr style=\"text-align: right;\">\n",
       "      <th></th>\n",
       "      <th>id</th>\n",
       "      <th>host_id</th>\n",
       "      <th>host_listings_count</th>\n",
       "      <th>host_total_listings_count</th>\n",
       "      <th>latitude</th>\n",
       "      <th>longitude</th>\n",
       "      <th>price</th>\n",
       "      <th>minimum_nights</th>\n",
       "      <th>maximum_nights</th>\n",
       "      <th>availability_30</th>\n",
       "      <th>availability_60</th>\n",
       "      <th>availability_90</th>\n",
       "      <th>availability_365</th>\n",
       "      <th>number_of_reviews</th>\n",
       "      <th>review_scores_rating</th>\n",
       "      <th>calculated_host_listings_count</th>\n",
       "      <th>calculated_host_listings_count_entire_homes</th>\n",
       "      <th>calculated_host_listings_count_private_rooms</th>\n",
       "      <th>calculated_host_listings_count_shared_rooms</th>\n",
       "      <th>reviews_per_month</th>\n",
       "    </tr>\n",
       "  </thead>\n",
       "  <tbody>\n",
       "    <tr>\n",
       "      <th>count</th>\n",
       "      <td>7.999000e+03</td>\n",
       "      <td>7.999000e+03</td>\n",
       "      <td>7999.000000</td>\n",
       "      <td>7999.000000</td>\n",
       "      <td>7999.000000</td>\n",
       "      <td>7999.000000</td>\n",
       "      <td>7999.000000</td>\n",
       "      <td>7999.000000</td>\n",
       "      <td>7.999000e+03</td>\n",
       "      <td>7999.000000</td>\n",
       "      <td>7999.000000</td>\n",
       "      <td>7999.000000</td>\n",
       "      <td>7999.000000</td>\n",
       "      <td>7999.000000</td>\n",
       "      <td>7999.000000</td>\n",
       "      <td>7999.000000</td>\n",
       "      <td>7999.000000</td>\n",
       "      <td>7999.000000</td>\n",
       "      <td>7999.000000</td>\n",
       "      <td>7999.000000</td>\n",
       "    </tr>\n",
       "    <tr>\n",
       "      <th>mean</th>\n",
       "      <td>4.174807e+06</td>\n",
       "      <td>1.416493e+07</td>\n",
       "      <td>4.074509</td>\n",
       "      <td>4.074509</td>\n",
       "      <td>51.511432</td>\n",
       "      <td>-0.128843</td>\n",
       "      <td>99.442180</td>\n",
       "      <td>6.348669</td>\n",
       "      <td>1.912944e+05</td>\n",
       "      <td>10.479685</td>\n",
       "      <td>22.965996</td>\n",
       "      <td>37.119015</td>\n",
       "      <td>149.955744</td>\n",
       "      <td>47.605326</td>\n",
       "      <td>93.770971</td>\n",
       "      <td>3.749344</td>\n",
       "      <td>2.569446</td>\n",
       "      <td>1.112139</td>\n",
       "      <td>0.034879</td>\n",
       "      <td>0.652312</td>\n",
       "    </tr>\n",
       "    <tr>\n",
       "      <th>std</th>\n",
       "      <td>2.584143e+06</td>\n",
       "      <td>1.470415e+07</td>\n",
       "      <td>27.161087</td>\n",
       "      <td>27.161087</td>\n",
       "      <td>0.045558</td>\n",
       "      <td>0.085443</td>\n",
       "      <td>282.209311</td>\n",
       "      <td>29.856258</td>\n",
       "      <td>1.262685e+07</td>\n",
       "      <td>13.288828</td>\n",
       "      <td>26.379961</td>\n",
       "      <td>39.486978</td>\n",
       "      <td>155.787939</td>\n",
       "      <td>71.023019</td>\n",
       "      <td>7.189139</td>\n",
       "      <td>22.300995</td>\n",
       "      <td>21.898694</td>\n",
       "      <td>3.757370</td>\n",
       "      <td>0.550440</td>\n",
       "      <td>0.915482</td>\n",
       "    </tr>\n",
       "    <tr>\n",
       "      <th>min</th>\n",
       "      <td>1.155100e+04</td>\n",
       "      <td>6.821000e+03</td>\n",
       "      <td>0.000000</td>\n",
       "      <td>0.000000</td>\n",
       "      <td>51.297330</td>\n",
       "      <td>-0.479620</td>\n",
       "      <td>12.000000</td>\n",
       "      <td>1.000000</td>\n",
       "      <td>1.000000e+00</td>\n",
       "      <td>0.000000</td>\n",
       "      <td>0.000000</td>\n",
       "      <td>0.000000</td>\n",
       "      <td>0.000000</td>\n",
       "      <td>1.000000</td>\n",
       "      <td>20.000000</td>\n",
       "      <td>1.000000</td>\n",
       "      <td>0.000000</td>\n",
       "      <td>0.000000</td>\n",
       "      <td>0.000000</td>\n",
       "      <td>0.010000</td>\n",
       "    </tr>\n",
       "    <tr>\n",
       "      <th>25%</th>\n",
       "      <td>1.714094e+06</td>\n",
       "      <td>3.011249e+06</td>\n",
       "      <td>1.000000</td>\n",
       "      <td>1.000000</td>\n",
       "      <td>51.482900</td>\n",
       "      <td>-0.189325</td>\n",
       "      <td>45.000000</td>\n",
       "      <td>2.000000</td>\n",
       "      <td>3.800000e+01</td>\n",
       "      <td>0.000000</td>\n",
       "      <td>0.000000</td>\n",
       "      <td>0.000000</td>\n",
       "      <td>0.000000</td>\n",
       "      <td>6.000000</td>\n",
       "      <td>91.000000</td>\n",
       "      <td>1.000000</td>\n",
       "      <td>0.000000</td>\n",
       "      <td>0.000000</td>\n",
       "      <td>0.000000</td>\n",
       "      <td>0.100000</td>\n",
       "    </tr>\n",
       "    <tr>\n",
       "      <th>50%</th>\n",
       "      <td>4.272878e+06</td>\n",
       "      <td>9.570295e+06</td>\n",
       "      <td>1.000000</td>\n",
       "      <td>1.000000</td>\n",
       "      <td>51.516820</td>\n",
       "      <td>-0.119790</td>\n",
       "      <td>75.000000</td>\n",
       "      <td>2.000000</td>\n",
       "      <td>1.125000e+03</td>\n",
       "      <td>0.000000</td>\n",
       "      <td>4.000000</td>\n",
       "      <td>19.000000</td>\n",
       "      <td>89.000000</td>\n",
       "      <td>21.000000</td>\n",
       "      <td>96.000000</td>\n",
       "      <td>1.000000</td>\n",
       "      <td>1.000000</td>\n",
       "      <td>1.000000</td>\n",
       "      <td>0.000000</td>\n",
       "      <td>0.320000</td>\n",
       "    </tr>\n",
       "    <tr>\n",
       "      <th>75%</th>\n",
       "      <td>6.592968e+06</td>\n",
       "      <td>2.252793e+07</td>\n",
       "      <td>2.000000</td>\n",
       "      <td>2.000000</td>\n",
       "      <td>51.542310</td>\n",
       "      <td>-0.071450</td>\n",
       "      <td>119.000000</td>\n",
       "      <td>4.000000</td>\n",
       "      <td>1.125000e+03</td>\n",
       "      <td>28.000000</td>\n",
       "      <td>57.000000</td>\n",
       "      <td>87.000000</td>\n",
       "      <td>340.000000</td>\n",
       "      <td>58.000000</td>\n",
       "      <td>98.000000</td>\n",
       "      <td>2.000000</td>\n",
       "      <td>1.000000</td>\n",
       "      <td>1.000000</td>\n",
       "      <td>0.000000</td>\n",
       "      <td>0.830000</td>\n",
       "    </tr>\n",
       "    <tr>\n",
       "      <th>max</th>\n",
       "      <td>8.376549e+06</td>\n",
       "      <td>3.040751e+08</td>\n",
       "      <td>1105.000000</td>\n",
       "      <td>1105.000000</td>\n",
       "      <td>51.671870</td>\n",
       "      <td>0.238150</td>\n",
       "      <td>16798.000000</td>\n",
       "      <td>1124.000000</td>\n",
       "      <td>1.000000e+09</td>\n",
       "      <td>30.000000</td>\n",
       "      <td>60.000000</td>\n",
       "      <td>90.000000</td>\n",
       "      <td>365.000000</td>\n",
       "      <td>813.000000</td>\n",
       "      <td>100.000000</td>\n",
       "      <td>878.000000</td>\n",
       "      <td>877.000000</td>\n",
       "      <td>249.000000</td>\n",
       "      <td>11.000000</td>\n",
       "      <td>12.770000</td>\n",
       "    </tr>\n",
       "  </tbody>\n",
       "</table>\n",
       "</div>"
      ],
      "text/plain": [
       "                 id       host_id  host_listings_count  \\\n",
       "count  7.999000e+03  7.999000e+03          7999.000000   \n",
       "mean   4.174807e+06  1.416493e+07             4.074509   \n",
       "std    2.584143e+06  1.470415e+07            27.161087   \n",
       "min    1.155100e+04  6.821000e+03             0.000000   \n",
       "25%    1.714094e+06  3.011249e+06             1.000000   \n",
       "50%    4.272878e+06  9.570295e+06             1.000000   \n",
       "75%    6.592968e+06  2.252793e+07             2.000000   \n",
       "max    8.376549e+06  3.040751e+08          1105.000000   \n",
       "\n",
       "       host_total_listings_count     latitude    longitude         price  \\\n",
       "count                7999.000000  7999.000000  7999.000000   7999.000000   \n",
       "mean                    4.074509    51.511432    -0.128843     99.442180   \n",
       "std                    27.161087     0.045558     0.085443    282.209311   \n",
       "min                     0.000000    51.297330    -0.479620     12.000000   \n",
       "25%                     1.000000    51.482900    -0.189325     45.000000   \n",
       "50%                     1.000000    51.516820    -0.119790     75.000000   \n",
       "75%                     2.000000    51.542310    -0.071450    119.000000   \n",
       "max                  1105.000000    51.671870     0.238150  16798.000000   \n",
       "\n",
       "       minimum_nights  maximum_nights  availability_30  availability_60  \\\n",
       "count     7999.000000    7.999000e+03      7999.000000      7999.000000   \n",
       "mean         6.348669    1.912944e+05        10.479685        22.965996   \n",
       "std         29.856258    1.262685e+07        13.288828        26.379961   \n",
       "min          1.000000    1.000000e+00         0.000000         0.000000   \n",
       "25%          2.000000    3.800000e+01         0.000000         0.000000   \n",
       "50%          2.000000    1.125000e+03         0.000000         4.000000   \n",
       "75%          4.000000    1.125000e+03        28.000000        57.000000   \n",
       "max       1124.000000    1.000000e+09        30.000000        60.000000   \n",
       "\n",
       "       availability_90  availability_365  number_of_reviews  \\\n",
       "count      7999.000000       7999.000000        7999.000000   \n",
       "mean         37.119015        149.955744          47.605326   \n",
       "std          39.486978        155.787939          71.023019   \n",
       "min           0.000000          0.000000           1.000000   \n",
       "25%           0.000000          0.000000           6.000000   \n",
       "50%          19.000000         89.000000          21.000000   \n",
       "75%          87.000000        340.000000          58.000000   \n",
       "max          90.000000        365.000000         813.000000   \n",
       "\n",
       "       review_scores_rating  calculated_host_listings_count  \\\n",
       "count           7999.000000                     7999.000000   \n",
       "mean              93.770971                        3.749344   \n",
       "std                7.189139                       22.300995   \n",
       "min               20.000000                        1.000000   \n",
       "25%               91.000000                        1.000000   \n",
       "50%               96.000000                        1.000000   \n",
       "75%               98.000000                        2.000000   \n",
       "max              100.000000                      878.000000   \n",
       "\n",
       "       calculated_host_listings_count_entire_homes  \\\n",
       "count                                  7999.000000   \n",
       "mean                                      2.569446   \n",
       "std                                      21.898694   \n",
       "min                                       0.000000   \n",
       "25%                                       0.000000   \n",
       "50%                                       1.000000   \n",
       "75%                                       1.000000   \n",
       "max                                     877.000000   \n",
       "\n",
       "       calculated_host_listings_count_private_rooms  \\\n",
       "count                                   7999.000000   \n",
       "mean                                       1.112139   \n",
       "std                                        3.757370   \n",
       "min                                        0.000000   \n",
       "25%                                        0.000000   \n",
       "50%                                        1.000000   \n",
       "75%                                        1.000000   \n",
       "max                                      249.000000   \n",
       "\n",
       "       calculated_host_listings_count_shared_rooms  reviews_per_month  \n",
       "count                                  7999.000000        7999.000000  \n",
       "mean                                      0.034879           0.652312  \n",
       "std                                       0.550440           0.915482  \n",
       "min                                       0.000000           0.010000  \n",
       "25%                                       0.000000           0.100000  \n",
       "50%                                       0.000000           0.320000  \n",
       "75%                                       0.000000           0.830000  \n",
       "max                                      11.000000          12.770000  "
      ]
     },
     "execution_count": 33,
     "metadata": {},
     "output_type": "execute_result"
    }
   ],
   "source": [
    "df.describe()"
   ]
  },
  {
   "cell_type": "code",
   "execution_count": 34,
   "metadata": {},
   "outputs": [
    {
     "data": {
      "text/html": [
       "<div>\n",
       "<style scoped>\n",
       "    .dataframe tbody tr th:only-of-type {\n",
       "        vertical-align: middle;\n",
       "    }\n",
       "\n",
       "    .dataframe tbody tr th {\n",
       "        vertical-align: top;\n",
       "    }\n",
       "\n",
       "    .dataframe thead th {\n",
       "        text-align: right;\n",
       "    }\n",
       "</style>\n",
       "<table border=\"1\" class=\"dataframe\">\n",
       "  <thead>\n",
       "    <tr style=\"text-align: right;\">\n",
       "      <th></th>\n",
       "      <th>price</th>\n",
       "      <th>availability_30</th>\n",
       "      <th>number_of_reviews</th>\n",
       "      <th>review_scores_rating</th>\n",
       "    </tr>\n",
       "  </thead>\n",
       "  <tbody>\n",
       "    <tr>\n",
       "      <th>count</th>\n",
       "      <td>7999.000000</td>\n",
       "      <td>7999.000000</td>\n",
       "      <td>7999.000000</td>\n",
       "      <td>7999.000000</td>\n",
       "    </tr>\n",
       "    <tr>\n",
       "      <th>mean</th>\n",
       "      <td>99.442180</td>\n",
       "      <td>10.479685</td>\n",
       "      <td>47.605326</td>\n",
       "      <td>93.770971</td>\n",
       "    </tr>\n",
       "    <tr>\n",
       "      <th>std</th>\n",
       "      <td>282.209311</td>\n",
       "      <td>13.288828</td>\n",
       "      <td>71.023019</td>\n",
       "      <td>7.189139</td>\n",
       "    </tr>\n",
       "    <tr>\n",
       "      <th>min</th>\n",
       "      <td>12.000000</td>\n",
       "      <td>0.000000</td>\n",
       "      <td>1.000000</td>\n",
       "      <td>20.000000</td>\n",
       "    </tr>\n",
       "    <tr>\n",
       "      <th>20%</th>\n",
       "      <td>40.000000</td>\n",
       "      <td>0.000000</td>\n",
       "      <td>4.000000</td>\n",
       "      <td>90.000000</td>\n",
       "    </tr>\n",
       "    <tr>\n",
       "      <th>50%</th>\n",
       "      <td>75.000000</td>\n",
       "      <td>0.000000</td>\n",
       "      <td>21.000000</td>\n",
       "      <td>96.000000</td>\n",
       "    </tr>\n",
       "    <tr>\n",
       "      <th>80%</th>\n",
       "      <td>130.000000</td>\n",
       "      <td>29.000000</td>\n",
       "      <td>73.000000</td>\n",
       "      <td>99.000000</td>\n",
       "    </tr>\n",
       "    <tr>\n",
       "      <th>max</th>\n",
       "      <td>16798.000000</td>\n",
       "      <td>30.000000</td>\n",
       "      <td>813.000000</td>\n",
       "      <td>100.000000</td>\n",
       "    </tr>\n",
       "  </tbody>\n",
       "</table>\n",
       "</div>"
      ],
      "text/plain": [
       "              price  availability_30  number_of_reviews  review_scores_rating\n",
       "count   7999.000000      7999.000000        7999.000000           7999.000000\n",
       "mean      99.442180        10.479685          47.605326             93.770971\n",
       "std      282.209311        13.288828          71.023019              7.189139\n",
       "min       12.000000         0.000000           1.000000             20.000000\n",
       "20%       40.000000         0.000000           4.000000             90.000000\n",
       "50%       75.000000         0.000000          21.000000             96.000000\n",
       "80%      130.000000        29.000000          73.000000             99.000000\n",
       "max    16798.000000        30.000000         813.000000            100.000000"
      ]
     },
     "execution_count": 34,
     "metadata": {},
     "output_type": "execute_result"
    }
   ],
   "source": [
    "df[['price','availability_30', 'number_of_reviews', 'review_scores_rating']].describe(percentiles=[0.20, 0.80])"
   ]
  },
  {
   "cell_type": "code",
   "execution_count": 35,
   "metadata": {},
   "outputs": [
    {
     "name": "stdout",
     "output_type": "stream",
     "text": [
      "The mean of price is 99.44\n",
      "The median of price is 75.00\n",
      "The mean of availability in 30 days is 10.48\n",
      "The median of availability in 30 days is 0.00\n",
      "The mean of the number of reviews is 47.61\n",
      "The median of the number of reviews is 21.00\n",
      "The mean of review scores is 93.77\n",
      "The median of review scores is 96.00\n"
     ]
    }
   ],
   "source": [
    "print(f\"The mean of price is {df.price.mean():0.2f}\")\n",
    "print(f\"The median of price is {df.price.median():0.2f}\")\n",
    "\n",
    "print(f\"The mean of availability in 30 days is {df.availability_30.mean():0.2f}\")\n",
    "print(f\"The median of availability in 30 days is {df.availability_30.median():0.2f}\")\n",
    "\n",
    "print(f\"The mean of the number of reviews is {df.number_of_reviews.mean():0.2f}\")\n",
    "print(f\"The median of the number of reviews is {df.number_of_reviews.median():0.2f}\")\n",
    "\n",
    "print(f\"The mean of review scores is {df.review_scores_rating.mean():0.2f}\")\n",
    "print(f\"The median of review scores is {df.review_scores_rating.median():0.2f}\")\n"
   ]
  },
  {
   "cell_type": "markdown",
   "metadata": {},
   "source": [
    "### 1.3.7: Saving cleaned data"
   ]
  },
  {
   "cell_type": "code",
   "execution_count": 36,
   "metadata": {},
   "outputs": [
    {
     "name": "stdout",
     "output_type": "stream",
     "text": [
      "Done.\n"
     ]
    }
   ],
   "source": [
    "path = os.path.join('data','clean')\n",
    "\n",
    "if not os.path.exists(path):\n",
    "    print(f\"Creating {path} under {os.getcwd()}\")\n",
    "    os.makedirs(path)\n",
    "    \n",
    "df.to_csv(os.path.join(path,fn), index=False)\n",
    "print(\"Done.\")"
   ]
  },
  {
   "cell_type": "markdown",
   "metadata": {},
   "source": [
    "## 1.4: Column Selection"
   ]
  },
  {
   "cell_type": "markdown",
   "metadata": {},
   "source": [
    "### 1.4.1: Selecting the needed columns for analysis"
   ]
  },
  {
   "cell_type": "code",
   "execution_count": 37,
   "metadata": {},
   "outputs": [
    {
     "data": {
      "text/plain": [
       "room_type        property_type                     \n",
       "Entire home/apt  Entire apartment                      3423\n",
       "                 Entire house                           568\n",
       "                 Entire townhouse                       154\n",
       "                 Entire loft                             72\n",
       "                 Entire condominium                      45\n",
       "                 Entire guest suite                      20\n",
       "                 Entire serviced apartment               20\n",
       "                 Entire guesthouse                       11\n",
       "                 Boat                                     6\n",
       "                 Tiny house                               4\n",
       "                 Entire bungalow                          3\n",
       "                 Entire cottage                           3\n",
       "                 Camper/RV                                2\n",
       "                 Entire cabin                             2\n",
       "                 Houseboat                                2\n",
       "                 Entire place                             1\n",
       "                 Yurt                                     1\n",
       "Hotel room       Room in serviced apartment              18\n",
       "                 Room in bed and breakfast                7\n",
       "                 Room in boutique hotel                   1\n",
       "Private room     Private room in apartment             1870\n",
       "                 Private room in house                 1223\n",
       "                 Private room in townhouse              283\n",
       "                 Private room in bed and breakfast       62\n",
       "                 Private room in condominium             46\n",
       "                 Private room in loft                    46\n",
       "                 Private room in guest suite             17\n",
       "                 Room in boutique hotel                  15\n",
       "                 Private room                            12\n",
       "                 Private room in guesthouse               8\n",
       "                 Private room in bungalow                 5\n",
       "                 Private room in cottage                  2\n",
       "                 Private room in villa                    2\n",
       "                 Private room in boat                     1\n",
       "                 Private room in parking space            1\n",
       "                 Private room in serviced apartment       1\n",
       "                 Private room in yurt                     1\n",
       "                 Room in aparthotel                       1\n",
       "Shared room      Shared room in apartment                17\n",
       "                 Shared room in hostel                    7\n",
       "                 Shared room in house                     7\n",
       "                 Shared room in bed and breakfast         6\n",
       "                 Shared room in condominium               1\n",
       "                 Shared room in guest suite               1\n",
       "                 Shared room in loft                      1\n",
       "Name: property_type, dtype: int64"
      ]
     },
     "execution_count": 37,
     "metadata": {},
     "output_type": "execute_result"
    }
   ],
   "source": [
    "df.groupby('room_type')['property_type'].value_counts()"
   ]
  },
  {
   "cell_type": "code",
   "execution_count": 38,
   "metadata": {},
   "outputs": [
    {
     "data": {
      "text/plain": [
       "availability_30  room_type      \n",
       "0.0              Entire home/apt    2740\n",
       "                 Private room       1709\n",
       "                 Shared room          18\n",
       "                 Hotel room           13\n",
       "1.0              Entire home/apt      66\n",
       "                                    ... \n",
       "29.0             Shared room           2\n",
       "30.0             Private room        752\n",
       "                 Entire home/apt     403\n",
       "                 Shared room          15\n",
       "                 Hotel room            6\n",
       "Name: room_type, Length: 76, dtype: int64"
      ]
     },
     "execution_count": 38,
     "metadata": {},
     "output_type": "execute_result"
    }
   ],
   "source": [
    "df.groupby('availability_30')['room_type'].value_counts()\n",
    "\n",
    "#Showing that entire home/apt is more worth to invest due to high short term demand"
   ]
  },
  {
   "cell_type": "code",
   "execution_count": 39,
   "metadata": {},
   "outputs": [
    {
     "name": "stdout",
     "output_type": "stream",
     "text": [
      "Selected 762 rows\n",
      "Selected 622 rows\n"
     ]
    }
   ],
   "source": [
    "#Review Scores (RS) with two main room types\n",
    "RSen = df[(df.room_type=='Entire home/apt') & (df.review_scores_rating==100)]\n",
    "RSpri = df[(df.room_type=='Private room') & (df.review_scores_rating==100)]\n",
    "\n",
    "print(f\"Selected {RSen.shape[0]} rows\")\n",
    "print(f\"Selected {RSpri.shape[0]} rows\")"
   ]
  },
  {
   "cell_type": "markdown",
   "metadata": {},
   "source": [
    "### 1.4.2: Finding the highest (100) and lowest (20) rating scores"
   ]
  },
  {
   "cell_type": "code",
   "execution_count": 40,
   "metadata": {},
   "outputs": [
    {
     "data": {
      "text/html": [
       "<div>\n",
       "<style scoped>\n",
       "    .dataframe tbody tr th:only-of-type {\n",
       "        vertical-align: middle;\n",
       "    }\n",
       "\n",
       "    .dataframe tbody tr th {\n",
       "        vertical-align: top;\n",
       "    }\n",
       "\n",
       "    .dataframe thead th {\n",
       "        text-align: right;\n",
       "    }\n",
       "</style>\n",
       "<table border=\"1\" class=\"dataframe\">\n",
       "  <thead>\n",
       "    <tr style=\"text-align: right;\">\n",
       "      <th></th>\n",
       "      <th>price</th>\n",
       "      <th>property_type</th>\n",
       "      <th>room_type</th>\n",
       "      <th>availability_30</th>\n",
       "      <th>review_scores_rating</th>\n",
       "    </tr>\n",
       "  </thead>\n",
       "  <tbody>\n",
       "    <tr>\n",
       "      <th>1557</th>\n",
       "      <td>57.0</td>\n",
       "      <td>Entire apartment</td>\n",
       "      <td>Entire home/apt</td>\n",
       "      <td>0.0</td>\n",
       "      <td>20.0</td>\n",
       "    </tr>\n",
       "    <tr>\n",
       "      <th>5696</th>\n",
       "      <td>70.0</td>\n",
       "      <td>Shared room in apartment</td>\n",
       "      <td>Shared room</td>\n",
       "      <td>30.0</td>\n",
       "      <td>20.0</td>\n",
       "    </tr>\n",
       "    <tr>\n",
       "      <th>6530</th>\n",
       "      <td>45.0</td>\n",
       "      <td>Private room in house</td>\n",
       "      <td>Private room</td>\n",
       "      <td>30.0</td>\n",
       "      <td>20.0</td>\n",
       "    </tr>\n",
       "    <tr>\n",
       "      <th>7212</th>\n",
       "      <td>27.0</td>\n",
       "      <td>Private room in house</td>\n",
       "      <td>Private room</td>\n",
       "      <td>30.0</td>\n",
       "      <td>20.0</td>\n",
       "    </tr>\n",
       "    <tr>\n",
       "      <th>8087</th>\n",
       "      <td>23.0</td>\n",
       "      <td>Private room in apartment</td>\n",
       "      <td>Private room</td>\n",
       "      <td>0.0</td>\n",
       "      <td>20.0</td>\n",
       "    </tr>\n",
       "    <tr>\n",
       "      <th>8342</th>\n",
       "      <td>90.0</td>\n",
       "      <td>Entire apartment</td>\n",
       "      <td>Entire home/apt</td>\n",
       "      <td>0.0</td>\n",
       "      <td>20.0</td>\n",
       "    </tr>\n",
       "    <tr>\n",
       "      <th>8865</th>\n",
       "      <td>39.0</td>\n",
       "      <td>Private room in house</td>\n",
       "      <td>Private room</td>\n",
       "      <td>0.0</td>\n",
       "      <td>20.0</td>\n",
       "    </tr>\n",
       "    <tr>\n",
       "      <th>9043</th>\n",
       "      <td>25.0</td>\n",
       "      <td>Private room in house</td>\n",
       "      <td>Private room</td>\n",
       "      <td>0.0</td>\n",
       "      <td>20.0</td>\n",
       "    </tr>\n",
       "  </tbody>\n",
       "</table>\n",
       "</div>"
      ],
      "text/plain": [
       "      price              property_type        room_type  availability_30  \\\n",
       "1557   57.0           Entire apartment  Entire home/apt              0.0   \n",
       "5696   70.0   Shared room in apartment      Shared room             30.0   \n",
       "6530   45.0      Private room in house     Private room             30.0   \n",
       "7212   27.0      Private room in house     Private room             30.0   \n",
       "8087   23.0  Private room in apartment     Private room              0.0   \n",
       "8342   90.0           Entire apartment  Entire home/apt              0.0   \n",
       "8865   39.0      Private room in house     Private room              0.0   \n",
       "9043   25.0      Private room in house     Private room              0.0   \n",
       "\n",
       "      review_scores_rating  \n",
       "1557                  20.0  \n",
       "5696                  20.0  \n",
       "6530                  20.0  \n",
       "7212                  20.0  \n",
       "8087                  20.0  \n",
       "8342                  20.0  \n",
       "8865                  20.0  \n",
       "9043                  20.0  "
      ]
     },
     "execution_count": 40,
     "metadata": {},
     "output_type": "execute_result"
    }
   ],
   "source": [
    "#Lowest\n",
    "lowrs = df[df.review_scores_rating==df.review_scores_rating.min()][['price','property_type','room_type', 'availability_30', 'review_scores_rating']]\n",
    "lowrs"
   ]
  },
  {
   "cell_type": "code",
   "execution_count": 41,
   "metadata": {},
   "outputs": [
    {
     "data": {
      "text/html": [
       "<div>\n",
       "<style scoped>\n",
       "    .dataframe tbody tr th:only-of-type {\n",
       "        vertical-align: middle;\n",
       "    }\n",
       "\n",
       "    .dataframe tbody tr th {\n",
       "        vertical-align: top;\n",
       "    }\n",
       "\n",
       "    .dataframe thead th {\n",
       "        text-align: right;\n",
       "    }\n",
       "</style>\n",
       "<table border=\"1\" class=\"dataframe\">\n",
       "  <thead>\n",
       "    <tr style=\"text-align: right;\">\n",
       "      <th></th>\n",
       "      <th>price</th>\n",
       "      <th>property_type</th>\n",
       "      <th>room_type</th>\n",
       "      <th>availability_30</th>\n",
       "      <th>review_scores_rating</th>\n",
       "    </tr>\n",
       "  </thead>\n",
       "  <tbody>\n",
       "    <tr>\n",
       "      <th>16</th>\n",
       "      <td>42.0</td>\n",
       "      <td>Private room in apartment</td>\n",
       "      <td>Private room</td>\n",
       "      <td>29.0</td>\n",
       "      <td>100.0</td>\n",
       "    </tr>\n",
       "    <tr>\n",
       "      <th>39</th>\n",
       "      <td>56.0</td>\n",
       "      <td>Entire condominium</td>\n",
       "      <td>Entire home/apt</td>\n",
       "      <td>0.0</td>\n",
       "      <td>100.0</td>\n",
       "    </tr>\n",
       "    <tr>\n",
       "      <th>65</th>\n",
       "      <td>42.0</td>\n",
       "      <td>Private room in apartment</td>\n",
       "      <td>Private room</td>\n",
       "      <td>30.0</td>\n",
       "      <td>100.0</td>\n",
       "    </tr>\n",
       "    <tr>\n",
       "      <th>73</th>\n",
       "      <td>133.0</td>\n",
       "      <td>Entire apartment</td>\n",
       "      <td>Entire home/apt</td>\n",
       "      <td>0.0</td>\n",
       "      <td>100.0</td>\n",
       "    </tr>\n",
       "    <tr>\n",
       "      <th>85</th>\n",
       "      <td>40.0</td>\n",
       "      <td>Private room</td>\n",
       "      <td>Private room</td>\n",
       "      <td>30.0</td>\n",
       "      <td>100.0</td>\n",
       "    </tr>\n",
       "    <tr>\n",
       "      <th>...</th>\n",
       "      <td>...</td>\n",
       "      <td>...</td>\n",
       "      <td>...</td>\n",
       "      <td>...</td>\n",
       "      <td>...</td>\n",
       "    </tr>\n",
       "    <tr>\n",
       "      <th>9980</th>\n",
       "      <td>123.0</td>\n",
       "      <td>Entire apartment</td>\n",
       "      <td>Entire home/apt</td>\n",
       "      <td>0.0</td>\n",
       "      <td>100.0</td>\n",
       "    </tr>\n",
       "    <tr>\n",
       "      <th>9981</th>\n",
       "      <td>190.0</td>\n",
       "      <td>Entire townhouse</td>\n",
       "      <td>Entire home/apt</td>\n",
       "      <td>23.0</td>\n",
       "      <td>100.0</td>\n",
       "    </tr>\n",
       "    <tr>\n",
       "      <th>9985</th>\n",
       "      <td>200.0</td>\n",
       "      <td>Entire house</td>\n",
       "      <td>Entire home/apt</td>\n",
       "      <td>0.0</td>\n",
       "      <td>100.0</td>\n",
       "    </tr>\n",
       "    <tr>\n",
       "      <th>9989</th>\n",
       "      <td>70.0</td>\n",
       "      <td>Entire apartment</td>\n",
       "      <td>Entire home/apt</td>\n",
       "      <td>8.0</td>\n",
       "      <td>100.0</td>\n",
       "    </tr>\n",
       "    <tr>\n",
       "      <th>9996</th>\n",
       "      <td>55.0</td>\n",
       "      <td>Private room in apartment</td>\n",
       "      <td>Private room</td>\n",
       "      <td>0.0</td>\n",
       "      <td>100.0</td>\n",
       "    </tr>\n",
       "  </tbody>\n",
       "</table>\n",
       "<p>1393 rows × 5 columns</p>\n",
       "</div>"
      ],
      "text/plain": [
       "      price              property_type        room_type  availability_30  \\\n",
       "16     42.0  Private room in apartment     Private room             29.0   \n",
       "39     56.0         Entire condominium  Entire home/apt              0.0   \n",
       "65     42.0  Private room in apartment     Private room             30.0   \n",
       "73    133.0           Entire apartment  Entire home/apt              0.0   \n",
       "85     40.0               Private room     Private room             30.0   \n",
       "...     ...                        ...              ...              ...   \n",
       "9980  123.0           Entire apartment  Entire home/apt              0.0   \n",
       "9981  190.0           Entire townhouse  Entire home/apt             23.0   \n",
       "9985  200.0               Entire house  Entire home/apt              0.0   \n",
       "9989   70.0           Entire apartment  Entire home/apt              8.0   \n",
       "9996   55.0  Private room in apartment     Private room              0.0   \n",
       "\n",
       "      review_scores_rating  \n",
       "16                   100.0  \n",
       "39                   100.0  \n",
       "65                   100.0  \n",
       "73                   100.0  \n",
       "85                   100.0  \n",
       "...                    ...  \n",
       "9980                 100.0  \n",
       "9981                 100.0  \n",
       "9985                 100.0  \n",
       "9989                 100.0  \n",
       "9996                 100.0  \n",
       "\n",
       "[1393 rows x 5 columns]"
      ]
     },
     "execution_count": 41,
     "metadata": {},
     "output_type": "execute_result"
    }
   ],
   "source": [
    "#Highest\n",
    "highrs = df[df.review_scores_rating==df.review_scores_rating.max()][['price','property_type','room_type', 'availability_30', 'review_scores_rating']]\n",
    "\n",
    "highrs"
   ]
  },
  {
   "cell_type": "code",
   "execution_count": 42,
   "metadata": {},
   "outputs": [
    {
     "data": {
      "text/plain": [
       "Entire home/apt    762\n",
       "Private room       622\n",
       "Shared room          5\n",
       "Hotel room           4\n",
       "Name: room_type, dtype: int64"
      ]
     },
     "execution_count": 42,
     "metadata": {},
     "output_type": "execute_result"
    }
   ],
   "source": [
    "highrs['room_type'].value_counts()"
   ]
  },
  {
   "cell_type": "code",
   "execution_count": 43,
   "metadata": {},
   "outputs": [
    {
     "data": {
      "text/plain": [
       "Private room       5\n",
       "Entire home/apt    2\n",
       "Shared room        1\n",
       "Hotel room         0\n",
       "Name: room_type, dtype: int64"
      ]
     },
     "execution_count": 43,
     "metadata": {},
     "output_type": "execute_result"
    }
   ],
   "source": [
    "lowrs['room_type'].value_counts()"
   ]
  },
  {
   "cell_type": "code",
   "execution_count": 44,
   "metadata": {},
   "outputs": [],
   "source": [
    "#From the lowest we can see that private room is the majority. \n",
    "#And in the highest, Entire home/apt and private room hold the most proportion, 762 and 622 respectively.\n",
    "#However, due to the lowest result, investing in entire home would be less risky (5/8= 62.5% of having 20 RS) \n",
    "#to have a low rating score relatively."
   ]
  },
  {
   "cell_type": "markdown",
   "metadata": {},
   "source": [
    "## 1.5: Descriptive Statistics"
   ]
  },
  {
   "cell_type": "markdown",
   "metadata": {},
   "source": [
    "### 1.5.1: Boxplot"
   ]
  },
  {
   "cell_type": "code",
   "execution_count": 45,
   "metadata": {},
   "outputs": [
    {
     "data": {
      "text/plain": [
       "Text(0.5, -0.3, '$\\\\bf{[Figure 1]}$')"
      ]
     },
     "execution_count": 45,
     "metadata": {},
     "output_type": "execute_result"
    },
    {
     "data": {
      "image/png": "[encoded data removed]",
      "text/plain": [
       "<Figure size 576x360 with 1 Axes>"
      ]
     },
     "metadata": {},
     "output_type": "display_data"
    }
   ],
   "source": [
    "sns.set_style('whitegrid')\n",
    "sns.set_theme(style=\"ticks\", palette=\"pastel\")\n",
    "f,ax = plt.subplots(figsize=(8,5))\n",
    "sns.boxplot(y=df.availability_30, x=df.room_type)\n",
    "sns.despine(offset=10)\n",
    "ax.set_ylim([0,30])\n",
    "plt.title(r\"$\\bf{\" + '[Figure 1]' + \"}$\", y=-0.3, fontsize= 20)"
   ]
  },
  {
   "cell_type": "markdown",
   "metadata": {},
   "source": [
    "### 1.5.2: Histogram"
   ]
  },
  {
   "cell_type": "code",
   "execution_count": 46,
   "metadata": {},
   "outputs": [
    {
     "name": "stderr",
     "output_type": "stream",
     "text": [
      "/opt/conda/envs/sds2020/lib/python3.7/site-packages/seaborn/distributions.py:2551: FutureWarning: `distplot` is a deprecated function and will be removed in a future version. Please adapt your code to use either `displot` (a figure-level function with similar flexibility) or `histplot` (an axes-level function for histograms).\n",
      "  warnings.warn(msg, FutureWarning)\n"
     ]
    },
    {
     "data": {
      "text/plain": [
       "Text(0.5, -0.2, '$\\\\bf{[Figure 2]}$')"
      ]
     },
     "execution_count": 46,
     "metadata": {},
     "output_type": "execute_result"
    },
    {
     "data": {
      "image/png": "[encoded data removed]",
      "text/plain": [
       "<Figure size 432x288 with 1 Axes>"
      ]
     },
     "metadata": {},
     "output_type": "display_data"
    }
   ],
   "source": [
    "sns.distplot(df['price'], hist=True, kde=True, \n",
    "             bins=500, color = 'darkblue', \n",
    "             hist_kws={'edgecolor':'black'},\n",
    "             kde_kws={'linewidth': 4})\n",
    "sns.set(rc={'figure.figsize':(11.7,8.27)})\n",
    "plt.xlim(0, 650)\n",
    "plt.title(r\"$\\bf{\" + '[Figure 2]' + \"}$\", y=-0.2, fontsize= 15)"
   ]
  },
  {
   "cell_type": "markdown",
   "metadata": {},
   "source": [
    "## 1.6 Spatial Analysis"
   ]
  },
  {
   "cell_type": "markdown",
   "metadata": {},
   "source": [
    "### 1.6.1: Loading GeoData"
   ]
  },
  {
   "cell_type": "code",
   "execution_count": 47,
   "metadata": {},
   "outputs": [],
   "source": [
    "#whole UK map\n",
    "msoas = gpd.read_file('https://github.com/wingochau/i2p_CW/raw/main/Middle_Layer_Super_Output_Areas__December_2011__EW_BGC_V2-shp.zip')"
   ]
  },
  {
   "cell_type": "code",
   "execution_count": 48,
   "metadata": {},
   "outputs": [],
   "source": [
    "#London boroughs\n",
    "boros = gpd.read_file('https://github.com/wingochau/i2p_CW/raw/main/Boroughs.gpkg')"
   ]
  },
  {
   "cell_type": "code",
   "execution_count": 49,
   "metadata": {},
   "outputs": [],
   "source": [
    "ldn = gpd.GeoDataFrame(gpd.GeoSeries(data=boros.unary_union, crs='epsg:27700')).rename(columns={0:'original'})\n",
    "\n",
    "# buffer the boundary by 250m\n",
    "ldn['geometry'] = ldn.original.buffer(250)\n",
    "ldn = ldn.set_geometry('geometry')"
   ]
  },
  {
   "cell_type": "code",
   "execution_count": 50,
   "metadata": {},
   "outputs": [],
   "source": [
    "#merge two together\n",
    "ldn_msoas = gpd.sjoin(msoas, ldn, op='within');"
   ]
  },
  {
   "cell_type": "code",
   "execution_count": 51,
   "metadata": {},
   "outputs": [],
   "source": [
    "#del MSOA for memory\n",
    "del(msoas)"
   ]
  },
  {
   "cell_type": "code",
   "execution_count": 52,
   "metadata": {},
   "outputs": [],
   "source": [
    "#Extracting string\n",
    "ldn_msoas['Borough'] = ldn_msoas.MSOA11NM.str.replace(r' \\d+$','',regex=True)"
   ]
  },
  {
   "cell_type": "code",
   "execution_count": 53,
   "metadata": {},
   "outputs": [],
   "source": [
    "#Adding MSOA name using merge\n",
    "msoa_nms = pd.read_csv('https://github.com/wingochau/i2p_CW/raw/main/MSOA-Names-1.8.csv.gz', compression='gzip')"
   ]
  },
  {
   "cell_type": "code",
   "execution_count": 54,
   "metadata": {},
   "outputs": [],
   "source": [
    "#Merge with London MSOA\n",
    "msoas = pd.merge(ldn_msoas, msoa_nms, left_on='MSOA11CD', right_on='msoa11cd', how='inner')"
   ]
  },
  {
   "cell_type": "code",
   "execution_count": 55,
   "metadata": {},
   "outputs": [],
   "source": [
    "#Cleaning unnecessary columns\n",
    "to_drop = ['MSOA11NMW','LONG','LAT','Shape__Are','Shape__Len','index_right',\n",
    "           'original','msoa11cd','msoa11nm','msoa11nmw','Laname','msoa11hclnmw']\n",
    "msoas.drop(columns=to_drop, inplace=True)"
   ]
  },
  {
   "cell_type": "markdown",
   "metadata": {},
   "source": [
    "### 1.6.2: Coverting Airbnb data to GeoPandas"
   ]
  },
  {
   "cell_type": "code",
   "execution_count": 56,
   "metadata": {},
   "outputs": [],
   "source": [
    "gdf = gpd.GeoDataFrame(df, geometry=gpd.points_from_xy(df.longitude, df.latitude, crs='epsg:4326'))\n",
    "gdf = gdf.to_crs('epsg:27700')"
   ]
  },
  {
   "cell_type": "code",
   "execution_count": 57,
   "metadata": {},
   "outputs": [
    {
     "name": "stdout",
     "output_type": "stream",
     "text": [
      "<class 'pandas.core.groupby.generic.DataFrameGroupBy'>\n"
     ]
    }
   ],
   "source": [
    "#Adding Local Authority names\n",
    "gdf_la = gpd.sjoin(gdf, boros, op='within', how='left')\n",
    "\n",
    "#Groupping LA name in one column\n",
    "la_data = gdf_la.groupby(['NAME'])\n",
    "print(type(la_data))"
   ]
  },
  {
   "cell_type": "code",
   "execution_count": 58,
   "metadata": {},
   "outputs": [
    {
     "data": {
      "text/plain": [
       "array(['Lambeth', 'Islington', 'Kensington and Chelsea', 'Westminster',\n",
       "       'Barnet', 'Hounslow', 'Richmond upon Thames', 'Haringey',\n",
       "       'Hackney', 'Southwark', 'Tower Hamlets', 'Hammersmith and Fulham',\n",
       "       'Waltham Forest', 'Brent', 'Camden', 'Croydon', 'Merton',\n",
       "       'Wandsworth', 'Bromley', 'Greenwich', 'Lewisham', 'Ealing',\n",
       "       'Enfield', 'Newham', 'Barking and Dagenham', 'Hillingdon',\n",
       "       'Harrow', 'Redbridge', 'Kingston upon Thames', 'Havering',\n",
       "       'Bexley', 'City of London', 'Sutton'], dtype=object)"
      ]
     },
     "execution_count": 58,
     "metadata": {},
     "output_type": "execute_result"
    }
   ],
   "source": [
    "#Tidying up unnecessary data\n",
    "gdf_la.drop(columns=['index_right','HECTARES','NONLD_AREA','ONS_INNER'], inplace=True)\n",
    "gdf_la.NAME.unique()"
   ]
  },
  {
   "cell_type": "code",
   "execution_count": 59,
   "metadata": {},
   "outputs": [
    {
     "name": "stdout",
     "output_type": "stream",
     "text": [
      "(7999, 32)\n"
     ]
    }
   ],
   "source": [
    "#and dropping problematic data\n",
    "gdf_la.drop(index=gdf[gdf_la.NAME.isna()].index, axis=1, inplace=True)\n",
    "gdf_la.drop(index=gdf[gdf_la.review_scores_rating.isna()].index, axis=1, inplace=True)\n",
    "gdf_la.dropna(axis=0, how='any')\n",
    "print(gdf_la.shape)"
   ]
  },
  {
   "cell_type": "code",
   "execution_count": 60,
   "metadata": {},
   "outputs": [
    {
     "name": "stdout",
     "output_type": "stream",
     "text": [
      "(7999, 32)\n"
     ]
    }
   ],
   "source": [
    "gdf.dropna(axis=0, how='any')\n",
    "print(gdf_la.shape)"
   ]
  },
  {
   "cell_type": "code",
   "execution_count": 61,
   "metadata": {},
   "outputs": [],
   "source": [
    "#Mapping borough names\n",
    "mapping = {}\n",
    "for b in ['Enfield','Waltham Forest','Redbridge','Barking and Dagenham','Havering','Greenwich','Bexley']:\n",
    "    mapping[b]='Outer East and North East'\n",
    "for b in ['Haringey','Islington','Hackney','Tower Hamlets','Newham','Lambeth','Southwark','Lewisham']:\n",
    "    mapping[b]='Inner East'\n",
    "for b in ['Bromley','Croydon','Sutton','Merton','Kingston upon Thames']:\n",
    "    mapping[b]='Outer South'\n",
    "for b in ['Wandsworth','Kensington and Chelsea','Hammersmith and Fulham','Westminster','Camden']:\n",
    "    mapping[b]='Inner West'\n",
    "for b in ['Richmond upon Thames','Hounslow','Ealing','Hillingdon','Brent','Harrow','Barnet','City of London']:\n",
    "    mapping[b]='Outer West and North West'"
   ]
  },
  {
   "cell_type": "code",
   "execution_count": 62,
   "metadata": {},
   "outputs": [],
   "source": [
    "#Groupping borough with aggregrated review scores\n",
    "\n",
    "la_data3 = gdf_la.set_index('NAME').groupby([mapping,'room_type']).agg(\n",
    "    {'review_scores_rating':['mean','median']}\n",
    ").reset_index()"
   ]
  },
  {
   "cell_type": "code",
   "execution_count": 63,
   "metadata": {},
   "outputs": [],
   "source": [
    "#Removing NaN\n",
    "la_data3_clean = la_data3.dropna(axis=0, how='any')"
   ]
  },
  {
   "cell_type": "code",
   "execution_count": 64,
   "metadata": {},
   "outputs": [],
   "source": [
    "#Renaming\n",
    "la_data3_clean.columns = la_data3_clean.columns.droplevel(0)\n",
    "cols = la_data3_clean.columns.values\n",
    "cols[0]  = 'area'\n",
    "cols[1]  = 'room_type'\n",
    "la_data3_clean.columns = cols"
   ]
  },
  {
   "cell_type": "code",
   "execution_count": 65,
   "metadata": {},
   "outputs": [
    {
     "data": {
      "text/html": [
       "<div>\n",
       "<style scoped>\n",
       "    .dataframe tbody tr th:only-of-type {\n",
       "        vertical-align: middle;\n",
       "    }\n",
       "\n",
       "    .dataframe tbody tr th {\n",
       "        vertical-align: top;\n",
       "    }\n",
       "\n",
       "    .dataframe thead th {\n",
       "        text-align: right;\n",
       "    }\n",
       "</style>\n",
       "<table border=\"1\" class=\"dataframe\">\n",
       "  <thead>\n",
       "    <tr style=\"text-align: right;\">\n",
       "      <th></th>\n",
       "      <th>area</th>\n",
       "      <th>room_type</th>\n",
       "      <th>mean</th>\n",
       "      <th>median</th>\n",
       "    </tr>\n",
       "  </thead>\n",
       "  <tbody>\n",
       "    <tr>\n",
       "      <th>1</th>\n",
       "      <td>Inner East</td>\n",
       "      <td>Hotel room</td>\n",
       "      <td>94.333333</td>\n",
       "      <td>96.0</td>\n",
       "    </tr>\n",
       "    <tr>\n",
       "      <th>9</th>\n",
       "      <td>Outer East and North East</td>\n",
       "      <td>Hotel room</td>\n",
       "      <td>93.750000</td>\n",
       "      <td>95.0</td>\n",
       "    </tr>\n",
       "    <tr>\n",
       "      <th>12</th>\n",
       "      <td>Outer South</td>\n",
       "      <td>Entire home/apt</td>\n",
       "      <td>93.025862</td>\n",
       "      <td>95.0</td>\n",
       "    </tr>\n",
       "  </tbody>\n",
       "</table>\n",
       "</div>"
      ],
      "text/plain": [
       "                         area        room_type       mean  median\n",
       "1                  Inner East       Hotel room  94.333333    96.0\n",
       "9   Outer East and North East       Hotel room  93.750000    95.0\n",
       "12                Outer South  Entire home/apt  93.025862    95.0"
      ]
     },
     "execution_count": 65,
     "metadata": {},
     "output_type": "execute_result"
    }
   ],
   "source": [
    "la_data3_clean.sample(3)"
   ]
  },
  {
   "cell_type": "markdown",
   "metadata": {},
   "source": [
    "### 1.6.3: Review Scores analysis by areas"
   ]
  },
  {
   "cell_type": "code",
   "execution_count": 66,
   "metadata": {},
   "outputs": [
    {
     "data": {
      "image/png": "[encoded data removed]",
      "text/plain": [
       "<Figure size 842.4x595.44 with 1 Axes>"
      ]
     },
     "metadata": {},
     "output_type": "display_data"
    }
   ],
   "source": [
    "sns.set_theme(style=\"whitegrid\")\n",
    "\n",
    "f, ax = plt.subplots()\n",
    "sns.despine(bottom=True, left=True)\n",
    "\n",
    "g = sns.stripplot(x=\"median\", y=\"room_type\", hue=\"area\",\n",
    "              data=la_data3_clean, dodge=True, alpha=.45, zorder=1)\n",
    "g.legend_.set_title('NUTS Area')\n",
    "plt.setp(ax.get_legend().get_texts(), fontsize='18')\n",
    "plt.setp(ax.get_legend().get_title(), fontsize='18')\n",
    "\n",
    "sns.pointplot(x=\"median\", y=\"room_type\",\n",
    "              data=la_data3_clean.groupby('room_type').agg('median').reset_index(), \n",
    "              join=False, palette=\"dark\",\n",
    "              markers=\"d\", scale=5, ci=None)\n",
    "\n",
    "# See if you can work out how to set the plot x- and y-labels...\n",
    "plt.xlabel('Meidan Review Scores per Night', fontsize=18)\n",
    "plt.ylabel('Room Type', fontsize=18)\n",
    "plt.title(r\"$\\bf{\" + '[Figure 3]' + \"}$\", y=-0.2, fontsize= 20);"
   ]
  },
  {
   "cell_type": "markdown",
   "metadata": {},
   "source": [
    "### 1.6.4: Spatial analysis"
   ]
  },
  {
   "cell_type": "code",
   "execution_count": 67,
   "metadata": {},
   "outputs": [],
   "source": [
    "LA = 'Greenwich'"
   ]
  },
  {
   "cell_type": "markdown",
   "metadata": {},
   "source": [
    "#### 1.6.4.1: Spatial join"
   ]
  },
  {
   "cell_type": "code",
   "execution_count": 68,
   "metadata": {},
   "outputs": [],
   "source": [
    "msoadf  = gpd.sjoin(\n",
    "            gdf_la[gdf_la.NAME==LA].reset_index(), \n",
    "            msoas[msoas.Borough==LA], op='within')"
   ]
  },
  {
   "cell_type": "code",
   "execution_count": 69,
   "metadata": {},
   "outputs": [],
   "source": [
    "msoagrdf = msoadf.groupby('MSOA11NM').agg({'review_scores_rating':['median','count']}).reset_index()"
   ]
  },
  {
   "cell_type": "code",
   "execution_count": 70,
   "metadata": {},
   "outputs": [],
   "source": [
    "#level 1 as columns\n",
    "msoagrdf.columns = msoagrdf.columns.get_level_values(1)"
   ]
  },
  {
   "cell_type": "code",
   "execution_count": 71,
   "metadata": {},
   "outputs": [],
   "source": [
    "#and to fix missing column names\n",
    "msoagrdf.rename(columns={'':'MSOA11NM', 'count':'listings'}, inplace=True)"
   ]
  },
  {
   "cell_type": "markdown",
   "metadata": {},
   "source": [
    "#### 1.6.4.2: Join on indexes"
   ]
  },
  {
   "cell_type": "code",
   "execution_count": 72,
   "metadata": {},
   "outputs": [],
   "source": [
    "#letting the Greenwich area to join with the msoas data\n",
    "msoa_gdf = msoagrdf.set_index('MSOA11NM').join(\n",
    "                msoas[msoas.Borough==LA].set_index('MSOA11NM'), \n",
    "                rsuffix='_r')"
   ]
  },
  {
   "cell_type": "code",
   "execution_count": 73,
   "metadata": {},
   "outputs": [
    {
     "data": {
      "image/png": "[encoded data removed]",
      "text/plain": [
       "<Figure size 576x576 with 2 Axes>"
      ]
     },
     "metadata": {},
     "output_type": "display_data"
    }
   ],
   "source": [
    "msoa_gdf = msoa_gdf.set_geometry('geometry')\n",
    "msoa_gdf.plot(column='median', legend=True, figsize=(8,8));"
   ]
  },
  {
   "cell_type": "code",
   "execution_count": 74,
   "metadata": {},
   "outputs": [
    {
     "name": "stdout",
     "output_type": "stream",
     "text": [
      "fontlist-v330.json\n"
     ]
    }
   ],
   "source": [
    "loc = matplotlib.get_cachedir()\n",
    "!ls {loc}"
   ]
  },
  {
   "cell_type": "code",
   "execution_count": 75,
   "metadata": {},
   "outputs": [],
   "source": [
    "fonts = !cat {loc + '/fontlist-v330.json'}\n",
    "fonts = set(list(filter(lambda x:'\"name\"' in x, fonts)))\n",
    "fonts = [x.replace('      \"name\": \"','').replace('\",','') for x in fonts]"
   ]
  },
  {
   "cell_type": "code",
   "execution_count": 76,
   "metadata": {},
   "outputs": [],
   "source": [
    "tfont = {'fontname':'Liberation Sans Narrow', 'horizontalalignment':'left'}"
   ]
  },
  {
   "cell_type": "code",
   "execution_count": 77,
   "metadata": {},
   "outputs": [
    {
     "data": {
      "image/png": "[encoded data removed]",
      "text/plain": [
       "<Figure size 864x576 with 5 Axes>"
      ]
     },
     "metadata": {},
     "output_type": "display_data"
    }
   ],
   "source": [
    "f,axes = plt.subplots(1,2,figsize=(12,8))\n",
    "\n",
    "msoa_gdf.plot(column='median', ax=axes[0], legend=True, cmap='RdYlGn')\n",
    "msoa_gdf.copy().plot(column='listings', ax=axes[1], legend=True, cmap='PuOr')\n",
    "for ax in axes:\n",
    "    ax.axis('off')\n",
    "    \n",
    "ax2 = f.add_axes([0.015, 0.7, 0.2, 0.2])\n",
    "boros.plot(facecolor='lightgrey', edgecolor='None', ax=ax2)\n",
    "boros[boros.NAME==LA].plot(facecolor='r', edgecolor='r', hatch='///', ax=ax2)\n",
    "ax2.axis('off')\n",
    "\n",
    "f.suptitle(r\"$\\bf{\" + LA + \"}$\", x=0.025, ha='left', size=24, **tfont)\n",
    "axes[0].set_title('Median Review Scores', size=22, **tfont, loc='left', y=-0.2, color='navy')\n",
    "axes[1].set_title('Listings', size=22, **tfont, loc='center', y=-0.2, color='navy')\n",
    "\n",
    "plt.title('[Figure4]', x=1.3, y=1.2, fontsize= 18)\n",
    "plt.figtext(x=0.025, y=0.65, s=f\"Total Listings: {msoa_gdf.listings.sum():,.0f}\", size=17, **tfont);"
   ]
  },
  {
   "cell_type": "markdown",
   "metadata": {},
   "source": [
    "# 2： Executive Briefing"
   ]
  },
  {
   "cell_type": "markdown",
   "metadata": {},
   "source": [
    "## 2.1: Executive Summary"
   ]
  },
  {
   "cell_type": "markdown",
   "metadata": {},
   "source": [
    "With the impact of the COVID-19 since 2020, it caused inconvenience but also derived several investment opportunities. The coronavirus limits human activities, people spend times mostly with their family in the same area. However, it creates different issues such as a high probability of arguing with family and the threat of cross infection. Therefore, the demand for extra spacing has derived during this period of time. Although the entire economy is experiencing a recession and rental market is seen as to be silent, the review of evidence and data analysis from Airbnb data in London prove that it is still a great moment to invest the Airbnb's listings in London over the pandemic."
   ]
  },
  {
   "cell_type": "markdown",
   "metadata": {},
   "source": [
    "### 2.1.1: Recommendations"
   ]
  },
  {
   "cell_type": "markdown",
   "metadata": {},
   "source": [
    "The investment approach is recommended to be \"stocking-up\" the portfolio, instead of making short-term cash inflow. Economic recession is timing for buying cheaper securities. Based on the data analysis, it revealed that the room type with the entire home/apartment in the East of London is the most needed property. Among with inner and outer East London, the recommendation is to invest in Greenwich. It is a place where surrounds with core areas such as Canary Wharf and London Bridge. In light of the \"stock-up\" perspective, it provides high value appreciation and greater performance in terms of Airbnb's users' review scores. This investment in Airbnb London would enhance the investment portfolio with lower costs to buy in during the pandemic, and greater outcomes once the economy is recovered."
   ]
  },
  {
   "cell_type": "markdown",
   "metadata": {},
   "source": [
    "## 2.2: Review of Evidence"
   ]
  },
  {
   "cell_type": "markdown",
   "metadata": {},
   "source": [
    "The COVID-19 has been affecting human activities throughout the entire 2020. For the people who unfortunately are or potentially infected, under the current UK restriction, they are recommended to conduct a self-isolation (GOV.UK, 2021b). Due to the avoidance of cross infection, it creates the needs of alternative accommodation. In the following section, it is going to demonstrate the potentials and possible risks on investing Airbnb's listings during the pandemic."
   ]
  },
  {
   "cell_type": "markdown",
   "metadata": {},
   "source": [
    "### 2.2.1: Investment Risks"
   ]
  },
  {
   "cell_type": "markdown",
   "metadata": {},
   "source": [
    "First of all, the current renting market is relatively weak. Due to the impact of the coronavirus, it is experiencing a huge reduction in tourism. Comparing to the same rent in last year, the average rent in London declined by 4.2% with approximately £1,800 per month and dropped 8.4% in inner London (Ivey, 2020). Consequently, it indicated that renting a property in London might suffer a lower price in comparison to previous years.\n",
    "\n",
    "Moreover, another investment risk is that Airbnb's hosts tend to be more risk-averse at the moment. According to The Guardian (Collinson, 2020), Airbnb's owners in London are moving their property onto the long-term rental market. It reflected that the entire market reaction tends to be passive, Airbnb's property owners in London lacked the confidence to thrive in the short run. As the market is now taking the long-term approach such as longer renting period per user, this timing to invest in might be a high risk decision.\n",
    "\n",
    "However, these potential investment risks could be seen as chances. These two risks are defined as systematic risks in finance terms, which is determined by the market but not the business itself. During the weak economy, in other words, it is relatively cheaper to purchase a property. Also, when Airbnb's hosts are no longer providing short-term rental, it creates a demand correspondingly. As a result, it is recommended that this period of time is suitable to \"stock-up\" the investment portfolio.\n",
    "\n",
    "The sections below are going to indicate the opportunities and its rationale for the rental industry itself."
   ]
  },
  {
   "cell_type": "markdown",
   "metadata": {},
   "source": [
    "### 2.2.2: Investment Opportunities"
   ]
  },
  {
   "cell_type": "markdown",
   "metadata": {},
   "source": [
    "The first investment opportunity under the pandemic would be providing a listings where is lower infection rate. For the current situation of Covid-19 in the UK, there was nearly 60,000 confirmed daily cases recorded on 4 January 2021 and the new variant of virus was found in London (GOV.UK, 2021a; Ross and Spence, 2020). Consequently, the demand for \"safe bubble\" is expected to grow in the following months. According to the lower tier local authority watchlist (GOV.UK, 2020), the whole London is seen as Tier 4 which indicates that the COVID-19 rate by the local authority is more than 400 cases per a thousand of population. In which, the report demonstrated that the east of London recorded a relatively lower weekly case rate. The safer place is likely to provide attractiveness for Airbnb's users to choose to live under the current circumstances.\n",
    "\n",
    "Looking more into a consumer behaviour perspective, under the impacts of the pandemic, it reveals that the second opportunity is the needs of spacing. Based on the sociological research, part of the interviewees showed that 51% of them have argued with family or people who live together over the coronavirus (Duffy, 2020). The lockdown policy could help to reduce human mobility by staying in their homes, meanwhile it creates arguments within a family. Thus, providing an extra spacing (Airbnb) for this group of people would be a potential business opportunity, while solving the problem of safety and mental quality."
   ]
  },
  {
   "cell_type": "markdown",
   "metadata": {},
   "source": [
    "## 2.3: Data Analysis"
   ]
  },
  {
   "cell_type": "markdown",
   "metadata": {},
   "source": [
    "In this section, it is going to analyse the Airbnb data in London provided from InsideAirbnb up to November 2020, in order to provide the optimal listings type to invest."
   ]
  },
  {
   "cell_type": "markdown",
   "metadata": {},
   "source": [
    "### 2.3.1: The most popular room type in 30 days"
   ]
  },
  {
   "cell_type": "markdown",
   "metadata": {},
   "source": [
    "After cleaning and processing the Airbnb data, Figure 1 showed that the entire home/apartment is the most needed room type on a 30 day basis. The selection of 30 days is because of the consideration of self-quarantine and the recovery of psychological issues. It assumes that the use of Airbnb's listings is for 14-21 days self-isolation or the short-term avoidance of family issues.\n",
    "\n",
    "Comparing to other room types, the interquartile of entire home/apartment is relatively left-skewed. In which, it means that the majority of the rental transactions for this room type is ranged around 0 to 20 availability in 30 days. Thus, investing in an entire home/apartment is likely to have a high demand than other room types in the short-term. It consists of the evidence in the above sections, as the entire property provides high privacy, safety and spacing for users under the pandemic."
   ]
  },
  {
   "cell_type": "code",
   "execution_count": 78,
   "metadata": {},
   "outputs": [
    {
     "data": {
      "text/plain": [
       "Text(0.5, -0.3, '$\\\\bf{[Figure 1]}$')"
      ]
     },
     "execution_count": 78,
     "metadata": {},
     "output_type": "execute_result"
    },
    {
     "data": {
      "image/png": "[encoded data removed]",
      "text/plain": [
       "<Figure size 576x360 with 1 Axes>"
      ]
     },
     "metadata": {},
     "output_type": "display_data"
    }
   ],
   "source": [
    "sns.set_style('whitegrid')\n",
    "sns.set_theme(style=\"ticks\", palette=\"pastel\")\n",
    "f,ax = plt.subplots(figsize=(8,5))\n",
    "sns.boxplot(y=df.availability_30, x=df.room_type)\n",
    "sns.despine(offset=10)\n",
    "ax.set_ylim([0,30])\n",
    "plt.title(r\"$\\bf{\" + '[Figure 1]' + \"}$\", y=-0.3, fontsize= 20)"
   ]
  },
  {
   "cell_type": "markdown",
   "metadata": {},
   "source": [
    "### 2.3.2: Rental prices in London Airbnb's listings"
   ]
  },
  {
   "cell_type": "markdown",
   "metadata": {},
   "source": [
    "Figure 2 indicated the distribution of rental prices for Airbnb's listings in London, the trend of the prices is also left-skewed. It showed that prices were concentrated on around £100 per night and below £100 hold the largest proportion. The result explained the fact that the rental prices performed feebly in general over the year. If invested in the rental industry, it is unlikely to set a price above this range. In a monthly basis, the average rental income would be expected as £1,500 [W1] per month under the current market price. If this investment action is taken, it is required to have an additional cash flow to support the business until the economy in London is recovered. However, as mentioned above, this investment is mainly for \"stocking-up\" the portfolio and gaining market shares during the weak economy.\n",
    "\n",
    "[W1] \\\n",
    "(£100/2)* 30 days= £1500"
   ]
  },
  {
   "cell_type": "code",
   "execution_count": 79,
   "metadata": {},
   "outputs": [
    {
     "name": "stderr",
     "output_type": "stream",
     "text": [
      "/opt/conda/envs/sds2020/lib/python3.7/site-packages/seaborn/distributions.py:2551: FutureWarning: `distplot` is a deprecated function and will be removed in a future version. Please adapt your code to use either `displot` (a figure-level function with similar flexibility) or `histplot` (an axes-level function for histograms).\n",
      "  warnings.warn(msg, FutureWarning)\n"
     ]
    },
    {
     "data": {
      "text/plain": [
       "Text(0.5, -0.2, '$\\\\bf{[Figure 2]}$')"
      ]
     },
     "execution_count": 79,
     "metadata": {},
     "output_type": "execute_result"
    },
    {
     "data": {
      "image/png": "[encoded data removed]",
      "text/plain": [
       "<Figure size 842.4x595.44 with 1 Axes>"
      ]
     },
     "metadata": {},
     "output_type": "display_data"
    }
   ],
   "source": [
    "sns.distplot(df['price'], hist=True, kde=True, \n",
    "             bins=500, color = 'darkblue', \n",
    "             hist_kws={'edgecolor':'black'},\n",
    "             kde_kws={'linewidth': 4})\n",
    "sns.set(rc={'figure.figsize':(11.7,8.27)})\n",
    "plt.xlim(0, 650)\n",
    "plt.title(r\"$\\bf{\" + '[Figure 2]' + \"}$\", y=-0.2, fontsize= 15)"
   ]
  },
  {
   "cell_type": "markdown",
   "metadata": {},
   "source": [
    "### 2.3.3: The Review Scores of Room Types by Different Areas"
   ]
  },
  {
   "cell_type": "markdown",
   "metadata": {},
   "source": [
    "Figure 3 provided an insight into review scores by different London areas. Referring to section 2.3.1, the entire home/apartment is the most needed room types. In this figure, we can see that this room type performed outstandingly in the inner East of London. Besides, another highest median review scores recorded from the private room was also found in the East of London (Outer East and North East). It concluded that if the investment is for the property in the East of London, it is most likely to have a high review score which is a median of 96 from Airbnb's users."
   ]
  },
  {
   "cell_type": "code",
   "execution_count": 80,
   "metadata": {},
   "outputs": [
    {
     "data": {
      "image/png": "[encoded data removed]",
      "text/plain": [
       "<Figure size 842.4x595.44 with 1 Axes>"
      ]
     },
     "metadata": {},
     "output_type": "display_data"
    }
   ],
   "source": [
    "sns.set_theme(style=\"whitegrid\")\n",
    "\n",
    "f, ax = plt.subplots()\n",
    "sns.despine(bottom=True, left=True)\n",
    "\n",
    "g = sns.stripplot(x=\"median\", y=\"room_type\", hue=\"area\",\n",
    "              data=la_data3_clean, dodge=True, alpha=.45, zorder=1)\n",
    "g.legend_.set_title('NUTS Area')\n",
    "plt.setp(ax.get_legend().get_texts(), fontsize='18')\n",
    "plt.setp(ax.get_legend().get_title(), fontsize='18')\n",
    "\n",
    "sns.pointplot(x=\"median\", y=\"room_type\",\n",
    "              data=la_data3_clean.groupby('room_type').agg('median').reset_index(), \n",
    "              join=False, palette=\"dark\",\n",
    "              markers=\"d\", scale=5, ci=None)\n",
    "\n",
    "# See if you can work out how to set the plot x- and y-labels...\n",
    "plt.xlabel('Meidan Review Scores per Night', fontsize=18)\n",
    "plt.ylabel('Room Type', fontsize=18)\n",
    "plt.title(r\"$\\bf{\" + '[Figure 3]' + \"}$\", y=-0.2, fontsize= 20);"
   ]
  },
  {
   "cell_type": "markdown",
   "metadata": {},
   "source": [
    "### 2.3.4: The Optimal Location for Investment"
   ]
  },
  {
   "cell_type": "markdown",
   "metadata": {},
   "source": [
    "In here, we picked Greenwich as our target place to investigate. It is because it locates in East London, and Greenwich is a potential location to invest in as there is a new residential neighbourhood completed by O2 in 2020 (Bloomfield, 2020). This location provides us with an option to choose and its surrounds with core places such as Canary Wharf and London Bridge, a huge possibility for value appreciation.\n",
    "\n",
    "Figure 4 demonstrated the amount of listings in Greenwich and the median review scores on a visualised map. There are 119 listings in Greenwich, in which the highest median review scores were focused on the east. By observing the amount of listings, it showed a low density of ownership in these areas with high review scores. It revealed a remarkable customer review for the listings in this area, investing in here is likely to have a better consumption and \"re-purchasing effect\".\n",
    "\n",
    "As a result, the data analysis reflected that the investment is optimised when the property is bought in the east of Greenwich. Despite the market recession, a listings with entire home/apartment room type in this location has the highest possibility to obtain greater review scores and better value appreciation in the future comparing to other places."
   ]
  },
  {
   "cell_type": "code",
   "execution_count": 81,
   "metadata": {},
   "outputs": [
    {
     "data": {
      "image/png": "[encoded data removed]",
      "text/plain": [
       "<Figure size 864x576 with 5 Axes>"
      ]
     },
     "metadata": {},
     "output_type": "display_data"
    }
   ],
   "source": [
    "f,axes = plt.subplots(1,2,figsize=(12,8))\n",
    "\n",
    "msoa_gdf.plot(column='median', ax=axes[0], legend=True, cmap='RdYlGn')\n",
    "msoa_gdf.copy().plot(column='listings', ax=axes[1], legend=True, cmap='PuOr')\n",
    "for ax in axes:\n",
    "    ax.axis('off')\n",
    "    \n",
    "ax2 = f.add_axes([0.015, 0.7, 0.2, 0.2])\n",
    "boros.plot(facecolor='lightgrey', edgecolor='None', ax=ax2)\n",
    "boros[boros.NAME==LA].plot(facecolor='r', edgecolor='r', hatch='///', ax=ax2)\n",
    "ax2.axis('off')\n",
    "\n",
    "f.suptitle(r\"$\\bf{\" + LA + \"}$\", x=0.025, ha='left', size=24, **tfont)\n",
    "axes[0].set_title('Median Review Scores', size=22, **tfont, loc='left', y=-0.2, color='navy')\n",
    "axes[1].set_title('Listings', size=22, **tfont, loc='center', y=-0.2, color='navy')\n",
    "\n",
    "plt.title('[Figure4]', x=1.3, y=1.2, fontsize= 18)\n",
    "plt.figtext(x=0.025, y=0.65, s=f\"Total Listings: {msoa_gdf.listings.sum():,.0f}\", size=17, **tfont);"
   ]
  },
  {
   "cell_type": "markdown",
   "metadata": {},
   "source": [
    "## References"
   ]
  },
  {
   "cell_type": "markdown",
   "metadata": {},
   "source": [
    "Bloomfield, R. (2020) ‘Why Greenwich Peninsula is one to watch: first high-rise neighbourhood at new 15,000-home waterside suburb set for completion in 2020 | Homes and Property’, Homes and Property, 18 February. Available at: https://www.homesandproperty.co.uk/property-news/buying/greenwich-peninsula-house-flat-london-a136786.html (Accessed: 5 January 2021).\n",
    "\n",
    "Collinson, P. (2020) ‘Rents rise in England but slide in London as Covid-19 affects market | Money | The Guardian’, The Guardian, 16 July. Available at: https://www.theguardian.com/money/2020/jul/16/rents-rise-in-england-but-slide-in-london-as-covid-19-affects-market (Accessed: 5 January 2021).\n",
    "\n",
    "Duffy, B. (2020) ‘Three ways people are reacting to coronavirus: “accepting”, “suffering” and “resisting”’, The Conversation, 29 April. Available at: https://theconversation.com/three-ways-people-are-reacting-to-coronavirus-accepting-suffering-and-resisting-137345 (Accessed: 4 January 2021).\n",
    "\n",
    "GOV.UK (2020) London lower tier local authority watchlist - epidemiological charts. Available at: https://assets.publishing.service.gov.uk/government/uploads/system/uploads/attachment_data/file/948492/London_epidemiological_charts_2020-12-28.pdf (Accessed: 4 January 2021).\n",
    "\n",
    "GOV.UK (2021a) Daily summary | Coronavirus in the UK. Available at: https://coronavirus.data.gov.uk/?_ga=2.212026972.994310312.1609779632-733400362.1599669809 (Accessed: 4 January 2021).\n",
    "\n",
    "GOV.UK (2021b) When to self-isolate and what to do - Coronavirus (COVID-19) - NHS. Available at: https://www.nhs.uk/conditions/coronavirus-covid-19/self-isolation-and-treatment/when-to-self-isolate-and-what-to-do/ (Accessed: 4 January 2021).\n",
    "\n",
    "Ivey, P. (2020) ‘Renting in London: average rents continue to fall as Airbnbs flood the long let market | Homes and Property’, Homes and Property, 14 August. Available at: https://www.homesandproperty.co.uk/property-news/renting/average-rent-in-london-falls-a139861.html (Accessed: 5 January 2021).\n",
    "\n",
    "Ross, T. and Spence, E. (2020) ‘London Begins Emergency Lockdown as U.K. Fights New Covid Strain - Bloomberg’, Bloomberg, 19 December. Available at: https://www.bloomberg.com/news/articles/2020-12-19/london-put-in-emergency-lockdown-as-u-k-fights-new-virus-strain (Accessed: 4 January 2021)."
   ]
  },
  {
   "cell_type": "code",
   "execution_count": null,
   "metadata": {},
   "outputs": [],
   "source": []
  }
 ],
 "metadata": {
  "kernelspec": {
   "display_name": "Python 3",
   "language": "python",
   "name": "python3"
  },
  "language_info": {
   "codemirror_mode": {
    "name": "ipython",
    "version": 3
   },
   "file_extension": ".py",
   "mimetype": "text/x-python",
   "name": "python",
   "nbconvert_exporter": "python",
   "pygments_lexer": "ipython3",
   "version": "3.7.8"
  }
 },
 "nbformat": 4,
 "nbformat_minor": 4
}
